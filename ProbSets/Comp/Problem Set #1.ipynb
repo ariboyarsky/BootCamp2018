{
 "cells": [
  {
   "cell_type": "code",
   "execution_count": 274,
   "metadata": {
    "collapsed": true
   },
   "outputs": [],
   "source": [
    "import numpy as np\n",
    "import math"
   ]
  },
  {
   "cell_type": "markdown",
   "metadata": {},
   "source": [
    "# Numpy Problems\n",
    "\n",
    "Problem 1"
   ]
  },
  {
   "cell_type": "code",
   "execution_count": 9,
   "metadata": {},
   "outputs": [
    {
     "data": {
      "text/plain": [
       "array([[ 37,  14, -32, -10],\n",
       "       [-54,  -7,  58,  65]])"
      ]
     },
     "execution_count": 9,
     "metadata": {},
     "output_type": "execute_result"
    }
   ],
   "source": [
    "A = np.array([[3, -1, 4],[1, 5, -9]])\n",
    "B = np.array([[2, 6, -5, 3],[5, -8, 9, 7],[9,-3,-2,-3]])\n",
    "\n",
    "A@B"
   ]
  },
  {
   "cell_type": "markdown",
   "metadata": {},
   "source": [
    "Problem 2"
   ]
  },
  {
   "cell_type": "code",
   "execution_count": 10,
   "metadata": {
    "collapsed": true
   },
   "outputs": [],
   "source": [
    "def poly_mat(A):\n",
    "    return -(A@A@A) + 9*(A@A) - 15*A"
   ]
  },
  {
   "cell_type": "code",
   "execution_count": 11,
   "metadata": {},
   "outputs": [
    {
     "data": {
      "text/plain": [
       "array([[0, 0, 0],\n",
       "       [0, 0, 0],\n",
       "       [0, 0, 0]])"
      ]
     },
     "execution_count": 11,
     "metadata": {},
     "output_type": "execute_result"
    }
   ],
   "source": [
    "A = np.array([[3, 1, 4],[1, 5, 9], [-5, 3, 1]])\n",
    "poly_mat(A)"
   ]
  },
  {
   "cell_type": "markdown",
   "metadata": {},
   "source": [
    "Problem 3"
   ]
  },
  {
   "cell_type": "code",
   "execution_count": 38,
   "metadata": {
    "collapsed": true
   },
   "outputs": [],
   "source": [
    "def prob_3():\n",
    "    A = np.triu(np.ones([7,7]))\n",
    "    B_1 = np.full_like(A, -1)\n",
    "    B_1 = np.tril(B_1)\n",
    "    B_2 = np.full_like(A, 5)\n",
    "    B_2 = np.triu(B_2)\n",
    "    B = B_1 + B_2 \n",
    "    np.fill_diagonal(B, -1)\n",
    "    res = A@B@A\n",
    "    return np.int64(res)"
   ]
  },
  {
   "cell_type": "code",
   "execution_count": 39,
   "metadata": {},
   "outputs": [
    {
     "data": {
      "text/plain": [
       "array([[ -7,  -8,  -3,   8,  25,  48,  77],\n",
       "       [ -6, -12, -12,  -6,   6,  24,  48],\n",
       "       [ -5, -10, -15, -14,  -7,   6,  25],\n",
       "       [ -4,  -8, -12, -16, -14,  -6,   8],\n",
       "       [ -3,  -6,  -9, -12, -15, -12,  -3],\n",
       "       [ -2,  -4,  -6,  -8, -10, -12,  -8],\n",
       "       [ -1,  -2,  -3,  -4,  -5,  -6,  -7]], dtype=int64)"
      ]
     },
     "execution_count": 39,
     "metadata": {},
     "output_type": "execute_result"
    }
   ],
   "source": [
    "prob_3()"
   ]
  },
  {
   "cell_type": "markdown",
   "metadata": {},
   "source": [
    "Problem 4"
   ]
  },
  {
   "cell_type": "code",
   "execution_count": 42,
   "metadata": {
    "collapsed": true
   },
   "outputs": [],
   "source": [
    "def prob_4(A):\n",
    "    B = np.copy(A)\n",
    "    mask = A < 0\n",
    "    B[mask]=0\n",
    "    return B"
   ]
  },
  {
   "cell_type": "code",
   "execution_count": 45,
   "metadata": {},
   "outputs": [
    {
     "data": {
      "text/plain": [
       "array([0, 0, 0, 1, 9, 0, 9])"
      ]
     },
     "execution_count": 45,
     "metadata": {},
     "output_type": "execute_result"
    }
   ],
   "source": [
    "prob_4(np.array([-1,-2,-2,1,9,-2,9]))"
   ]
  },
  {
   "cell_type": "markdown",
   "metadata": {},
   "source": [
    "Problem 5"
   ]
  },
  {
   "cell_type": "code",
   "execution_count": 60,
   "metadata": {
    "collapsed": true
   },
   "outputs": [],
   "source": [
    "A = np.array([[0,2,4],[1,3,5]])\n",
    "B = np.tril(np.full([3,3],3))\n",
    "C = np.diagflat([-1,-1,-1])\n",
    "Z = np.zeros([3,3])"
   ]
  },
  {
   "cell_type": "code",
   "execution_count": 75,
   "metadata": {},
   "outputs": [
    {
     "data": {
      "text/plain": [
       "array([[ 0.,  0.,  0.,  0.,  1.,  1.,  0.,  0.],\n",
       "       [ 0.,  0.,  0.,  2.,  3.,  0.,  1.,  0.],\n",
       "       [ 0.,  0.,  0.,  4.,  5.,  0.,  0.,  1.],\n",
       "       [ 0.,  2.,  4.,  0.,  0.,  0.,  0.,  0.],\n",
       "       [ 1.,  3.,  5.,  0.,  0.,  0.,  0.,  0.],\n",
       "       [ 3.,  0.,  0.,  0.,  0., -1.,  0.,  0.],\n",
       "       [ 3.,  3.,  0.,  0.,  0.,  0., -1.,  0.],\n",
       "       [ 3.,  3.,  3.,  0.,  0.,  0.,  0., -1.]])"
      ]
     },
     "execution_count": 75,
     "metadata": {},
     "output_type": "execute_result"
    }
   ],
   "source": [
    "v1 = np.vstack((Z, A, B))\n",
    "v2 = np.vstack((A.T, np.zeros([3,2]), np.zeros([2,2])))\n",
    "v3 = np.vstack((np.eye(3), np.zeros([2,3]), C))\n",
    "np.hstack((v1,v2,v3))"
   ]
  },
  {
   "cell_type": "markdown",
   "metadata": {},
   "source": [
    "Problem 6"
   ]
  },
  {
   "cell_type": "code",
   "execution_count": 92,
   "metadata": {
    "collapsed": true
   },
   "outputs": [],
   "source": [
    "def prob_6(A):\n",
    "    row_sums = A.sum(axis=1)\n",
    "    new_matrix = A / row_sums[:, numpy.newaxis]\n",
    "    return new_matrix        "
   ]
  },
  {
   "cell_type": "code",
   "execution_count": 93,
   "metadata": {},
   "outputs": [
    {
     "data": {
      "text/plain": [
       "array([[ 0.66666667,  0.33333333],\n",
       "       [ 0.66666667,  0.33333333]])"
      ]
     },
     "execution_count": 93,
     "metadata": {},
     "output_type": "execute_result"
    }
   ],
   "source": [
    "prob_6(np.array([[4,2],[2,1]]))"
   ]
  },
  {
   "cell_type": "markdown",
   "metadata": {},
   "source": [
    "Problem 7"
   ]
  },
  {
   "cell_type": "code",
   "execution_count": 97,
   "metadata": {},
   "outputs": [
    {
     "ename": "FileNotFoundError",
     "evalue": "[Errno 2] No such file or directory: 'grid.npy'",
     "output_type": "error",
     "traceback": [
      "\u001b[1;31m---------------------------------------------------------------------------\u001b[0m",
      "\u001b[1;31mFileNotFoundError\u001b[0m                         Traceback (most recent call last)",
      "\u001b[1;32m<ipython-input-97-e8cfe188adf3>\u001b[0m in \u001b[0;36m<module>\u001b[1;34m()\u001b[0m\n\u001b[1;32m----> 1\u001b[1;33m \u001b[0mgrid\u001b[0m \u001b[1;33m=\u001b[0m \u001b[0mnp\u001b[0m\u001b[1;33m.\u001b[0m\u001b[0mload\u001b[0m\u001b[1;33m(\u001b[0m\u001b[1;34m\"grid.npy\"\u001b[0m\u001b[1;33m)\u001b[0m\u001b[1;33m\u001b[0m\u001b[0m\n\u001b[0m",
      "\u001b[1;32mC:\\ProgramData\\Anaconda3\\lib\\site-packages\\numpy\\lib\\npyio.py\u001b[0m in \u001b[0;36mload\u001b[1;34m(file, mmap_mode, allow_pickle, fix_imports, encoding)\u001b[0m\n\u001b[0;32m    368\u001b[0m     \u001b[0mown_fid\u001b[0m \u001b[1;33m=\u001b[0m \u001b[1;32mFalse\u001b[0m\u001b[1;33m\u001b[0m\u001b[0m\n\u001b[0;32m    369\u001b[0m     \u001b[1;32mif\u001b[0m \u001b[0misinstance\u001b[0m\u001b[1;33m(\u001b[0m\u001b[0mfile\u001b[0m\u001b[1;33m,\u001b[0m \u001b[0mbasestring\u001b[0m\u001b[1;33m)\u001b[0m\u001b[1;33m:\u001b[0m\u001b[1;33m\u001b[0m\u001b[0m\n\u001b[1;32m--> 370\u001b[1;33m         \u001b[0mfid\u001b[0m \u001b[1;33m=\u001b[0m \u001b[0mopen\u001b[0m\u001b[1;33m(\u001b[0m\u001b[0mfile\u001b[0m\u001b[1;33m,\u001b[0m \u001b[1;34m\"rb\"\u001b[0m\u001b[1;33m)\u001b[0m\u001b[1;33m\u001b[0m\u001b[0m\n\u001b[0m\u001b[0;32m    371\u001b[0m         \u001b[0mown_fid\u001b[0m \u001b[1;33m=\u001b[0m \u001b[1;32mTrue\u001b[0m\u001b[1;33m\u001b[0m\u001b[0m\n\u001b[0;32m    372\u001b[0m     \u001b[1;32melif\u001b[0m \u001b[0mis_pathlib_path\u001b[0m\u001b[1;33m(\u001b[0m\u001b[0mfile\u001b[0m\u001b[1;33m)\u001b[0m\u001b[1;33m:\u001b[0m\u001b[1;33m\u001b[0m\u001b[0m\n",
      "\u001b[1;31mFileNotFoundError\u001b[0m: [Errno 2] No such file or directory: 'grid.npy'"
     ]
    }
   ],
   "source": [
    "grid = np.load(\"grid.npy\")"
   ]
  },
  {
   "cell_type": "markdown",
   "metadata": {
    "collapsed": true
   },
   "source": [
    "Problem 7"
   ]
  },
  {
   "cell_type": "code",
   "execution_count": 237,
   "metadata": {},
   "outputs": [
    {
     "data": {
      "text/plain": [
       "70600674"
      ]
     },
     "execution_count": 237,
     "metadata": {},
     "output_type": "execute_result"
    }
   ],
   "source": [
    "grid = np.load(\"grid.npy\")\n",
    "def prob7(g):\n",
    "    row=np.max(grid[:,:-3] * grid[:,1:-2] * grid[:,2:-1] * grid[:,3:])\n",
    "    col=np.max(grid[:-3,:] * grid[1:-2,:] * grid[2:-1,:] * grid[3:,:])\n",
    "    right = np.max(grid[:-3,:-3]*grid[1:-2,1:-2]*grid[2:-1,2:-1]*grid[3:,3:])\n",
    "    left = np.max(grid[3:,:-3]*grid[2:-1,1:-2]*grid[1:-2,2:-1]*grid[:-3,3:])\n",
    "    res = max(row,col,right,left)\n",
    "    for k in [-1,-2,-3]:\n",
    "        mat1 = g[k,g.shape[0]-4:]\n",
    "        mat2 = g[g.shape[0]-4:,k]\n",
    "    return res\n",
    "prob7(grid)"
   ]
  },
  {
   "cell_type": "markdown",
   "metadata": {},
   "source": [
    "# Standard Python\n",
    "\n",
    "Problem 1"
   ]
  },
  {
   "cell_type": "code",
   "execution_count": 4,
   "metadata": {
    "collapsed": true
   },
   "outputs": [],
   "source": [
    "def prob_1(L):\n",
    "    print(min(L), max(L), sum(L)/len(L))"
   ]
  },
  {
   "cell_type": "code",
   "execution_count": 5,
   "metadata": {},
   "outputs": [
    {
     "name": "stdout",
     "output_type": "stream",
     "text": [
      "1 3 2.0\n"
     ]
    }
   ],
   "source": [
    "prob_1([1,2,3])"
   ]
  },
  {
   "cell_type": "markdown",
   "metadata": {},
   "source": [
    "Problem 2"
   ]
  },
  {
   "cell_type": "code",
   "execution_count": 119,
   "metadata": {},
   "outputs": [
    {
     "name": "stdout",
     "output_type": "stream",
     "text": [
      "False\n",
      "False\n",
      "True\n",
      "False\n",
      "False\n"
     ]
    }
   ],
   "source": [
    "a = 1\n",
    "new = a\n",
    "new = 2\n",
    "print(new == a)\n",
    "b = \"a\"\n",
    "new = b\n",
    "new = \"b\"\n",
    "print(new == b)\n",
    "\n",
    "c = [1,2]\n",
    "new = c\n",
    "new[1] = 10\n",
    "print(new == c)\n",
    "\n",
    "d = (1,2)\n",
    "new = d\n",
    "new = (2,1)\n",
    "print(new == d)\n",
    "\n",
    "e = set([1,2])\n",
    "new = e\n",
    "new = set([2,2])\n",
    "print(new == e)\n"
   ]
  },
  {
   "cell_type": "markdown",
   "metadata": {},
   "source": [
    "Problem 3"
   ]
  },
  {
   "cell_type": "code",
   "execution_count": 125,
   "metadata": {
    "collapsed": true
   },
   "outputs": [],
   "source": [
    "def my_sum(a,b):\n",
    "    return a+b\n",
    "def hyp(a,b):\n",
    "    return math.sqrt(my_sum(a*a, b*b))"
   ]
  },
  {
   "cell_type": "code",
   "execution_count": 126,
   "metadata": {},
   "outputs": [
    {
     "data": {
      "text/plain": [
       "2.23606797749979"
      ]
     },
     "execution_count": 126,
     "metadata": {},
     "output_type": "execute_result"
    }
   ],
   "source": [
    "hyp(1,2)"
   ]
  },
  {
   "cell_type": "markdown",
   "metadata": {},
   "source": [
    "Problem 4"
   ]
  },
  {
   "cell_type": "code",
   "execution_count": 130,
   "metadata": {
    "collapsed": true
   },
   "outputs": [],
   "source": [
    "def power_set(A):\n",
    "    l = len(A)\n",
    "    for i in range(1 << l):\n",
    "        print([A[j] for j in range(l) if (i & (1 << j))])"
   ]
  },
  {
   "cell_type": "code",
   "execution_count": 131,
   "metadata": {},
   "outputs": [
    {
     "name": "stdout",
     "output_type": "stream",
     "text": [
      "[]\n",
      "[1]\n",
      "[2]\n",
      "[1, 2]\n",
      "[3]\n",
      "[1, 3]\n",
      "[2, 3]\n",
      "[1, 2, 3]\n"
     ]
    }
   ],
   "source": [
    "power_set([1,2,3])"
   ]
  },
  {
   "cell_type": "markdown",
   "metadata": {},
   "source": [
    "# Unit Testing"
   ]
  },
  {
   "cell_type": "markdown",
   "metadata": {},
   "source": [
    "See corresponding .py file"
   ]
  },
  {
   "cell_type": "markdown",
   "metadata": {},
   "source": [
    "# Object Oriented\n",
    "\n",
    "Problem 1"
   ]
  },
  {
   "cell_type": "code",
   "execution_count": 175,
   "metadata": {
    "collapsed": true
   },
   "outputs": [],
   "source": [
    "class Backpack:\n",
    "    def __init__(self, name, color, max_size = 5): # This function is the constructor.\n",
    "        \"\"\"Set the name and initialize an empty list of contents.\n",
    "        Parameters:\n",
    "        name (str): the name of the backpack's owner.\n",
    "        \"\"\"\n",
    "        self.name = name # Initialize some attributes.\n",
    "        self.contents = []\n",
    "        self.color = color\n",
    "        self.max_size = max_size\n",
    "\n",
    "    def put(self, item):\n",
    "        \"\"\"Add 'item' to the backpack's list of contents.\"\"\"\n",
    "        if len(self.contents) > self.max_size:\n",
    "            print(\"Overcapacity\")\n",
    "        else:\n",
    "            self.contents.append(item) # Use 'self.contents', not just 'contents'.\n",
    "    def take(self, item):\n",
    "        \"\"\"Remove 'item' from the backpack's list of contents.\"\"\"\n",
    "        self.contents.remove(item)\n",
    "    def dump(self): # remove contents\n",
    "        self.contents = []"
   ]
  },
  {
   "cell_type": "code",
   "execution_count": 165,
   "metadata": {
    "collapsed": true
   },
   "outputs": [],
   "source": [
    "def test_backpack(name):\n",
    "    testpack = Backpack(name, \"black\") # Instantiate the object.\n",
    "    if testpack.name != \"Barry\": # Test an attribute.\n",
    "        print(\"Backpack.name assigned incorrectly\")\n",
    "    for item in [\"pencil\", \"pen\", \"paper\", \"computer\"]:\n",
    "        testpack.put(item) # Test a method.\n",
    "    print(\"Contents:\", testpack.contents)"
   ]
  },
  {
   "cell_type": "code",
   "execution_count": 166,
   "metadata": {},
   "outputs": [
    {
     "name": "stdout",
     "output_type": "stream",
     "text": [
      "Contents: ['pencil', 'pen', 'paper', 'computer']\n"
     ]
    }
   ],
   "source": [
    "test_backpack(\"Barry\")"
   ]
  },
  {
   "cell_type": "code",
   "execution_count": 167,
   "metadata": {},
   "outputs": [
    {
     "name": "stdout",
     "output_type": "stream",
     "text": [
      "Backpack.name assigned incorrectly\n",
      "Contents: ['pencil', 'pen', 'paper', 'computer']\n"
     ]
    }
   ],
   "source": [
    "test_backpack(\"no\")"
   ]
  },
  {
   "cell_type": "markdown",
   "metadata": {},
   "source": [
    "Problem 2"
   ]
  },
  {
   "cell_type": "code",
   "execution_count": 181,
   "metadata": {
    "collapsed": true
   },
   "outputs": [],
   "source": [
    "class Jetpack(Backpack):\n",
    "    # this is a jetpack which is a backpack but with fuel\n",
    "    def __init__(self, name, color, max_size=2, fuel=10):\n",
    "        Backpack.__init__(self, name, color, max_size)\n",
    "        self.fuel = fuel\n",
    "    def fly(self, fuel_burned): # bunrs the fuel\n",
    "        self.fuel = self.fuel - fuel_burned \n",
    "    def dump(self): # dumps everything including fuel\n",
    "        Backpack.dump(self)\n",
    "        self.fuel = 0"
   ]
  },
  {
   "cell_type": "code",
   "execution_count": 182,
   "metadata": {
    "collapsed": true
   },
   "outputs": [],
   "source": [
    "j = Jetpack(\"Ari\", \"blue\")"
   ]
  },
  {
   "cell_type": "code",
   "execution_count": 183,
   "metadata": {},
   "outputs": [
    {
     "data": {
      "text/plain": [
       "6"
      ]
     },
     "execution_count": 183,
     "metadata": {},
     "output_type": "execute_result"
    }
   ],
   "source": [
    "j.fly(4)\n",
    "j.fuel"
   ]
  },
  {
   "cell_type": "code",
   "execution_count": 184,
   "metadata": {
    "collapsed": true
   },
   "outputs": [],
   "source": [
    "j.dump()"
   ]
  },
  {
   "cell_type": "code",
   "execution_count": 185,
   "metadata": {},
   "outputs": [
    {
     "data": {
      "text/plain": [
       "0"
      ]
     },
     "execution_count": 185,
     "metadata": {},
     "output_type": "execute_result"
    }
   ],
   "source": [
    "j.fuel"
   ]
  },
  {
   "cell_type": "markdown",
   "metadata": {},
   "source": [
    "Problem 3"
   ]
  },
  {
   "cell_type": "code",
   "execution_count": 189,
   "metadata": {
    "collapsed": true
   },
   "outputs": [],
   "source": [
    "class Backpack:\n",
    "    def __init__(self, name, color, max_size = 5): # This function is the constructor.\n",
    "        \"\"\"Set the name and initialize an empty list of contents.\n",
    "        Parameters:\n",
    "        name (str): the name of the backpack's owner.\n",
    "        \"\"\"\n",
    "        self.name = name # Initialize some attributes.\n",
    "        self.contents = []\n",
    "        self.color = color\n",
    "        self.max_size = max_size\n",
    "\n",
    "    def put(self, item):\n",
    "        \"\"\"Add 'item' to the backpack's list of contents.\"\"\"\n",
    "        if len(self.contents) > self.max_size:\n",
    "            print(\"Overcapacity\")\n",
    "        else:\n",
    "            self.contents.append(item) # Use 'self.contents', not just 'contents'.\n",
    "    def take(self, item):\n",
    "        \"\"\"Remove 'item' from the backpack's list of contents.\"\"\"\n",
    "        self.contents.remove(item)\n",
    "    def dump(self): # remove contents\n",
    "        self.contents = []\n",
    "    def __eq__(self, other): # is it the same\n",
    "        if (self.name == other.name) & (self.color == other.color) & (len(self.contents) == len(other.contents)):\n",
    "            return True\n",
    "    def __str__():\n",
    "        return '''Owner:\\t\\t{}\n",
    "        \\nColor:\\t\\t{} \n",
    "        \\nSize:\\t\\t{}\n",
    "        \\nMax Size:\\t{}\n",
    "        \\nContents:\\t{}'''.format(self.name,self.color,len(self.contents),\n",
    "                                  self.max_size, self.contents)"
   ]
  },
  {
   "cell_type": "markdown",
   "metadata": {},
   "source": [
    "Problem 4"
   ]
  },
  {
   "cell_type": "code",
   "execution_count": 231,
   "metadata": {
    "collapsed": true
   },
   "outputs": [],
   "source": [
    "class ComplexNumber:\n",
    "    def __init__(self, a ,b):\n",
    "        self.real = a\n",
    "        self.imag = b\n",
    "    \n",
    "    def conjugate(self):\n",
    "        b = -self.imag\n",
    "        return ComplexNumber(self.real, b)\n",
    "    def __str__(self):\n",
    "        return(\"(\"+str(self.real) + \"\" + str(self.imag) + \"j)\")\n",
    "    def __abs__(self):\n",
    "        return math.sqrt(self.real ** 2 + self.imag ** 2)\n",
    "    def __eq__(self, other):\n",
    "        return (self.real == other.real) and (self.imag == other.imag)\n",
    "    def __add__(self, other):\n",
    "        real = self.real + other.real\n",
    "        imag = self.imag + other.imag\n",
    "        return ComplexNumber(real, imag)\n",
    "\n",
    "    def __sub__(self, other):\n",
    "        real = self.real - other.real\n",
    "        imag = self.imag - other.imag\n",
    "        return ComplexNumber(real, imag)\n",
    "\n",
    "    def __mul__(self, other):\n",
    "        real = self.real*other.real - self.imag*other.imag\n",
    "        imag = self.imag*other.real + other.imag*self.real\n",
    "        return ComplexNumber(real, imag)\n",
    "        \n",
    "    def __truediv__(self, other):\n",
    "            t = self*other.conjugate()\n",
    "            b = (other*other.conjugate()).real\n",
    "            res = ComplexNumber(t.real / b, t.imag/b)\n",
    "            return res"
   ]
  },
  {
   "cell_type": "code",
   "execution_count": 249,
   "metadata": {
    "collapsed": true
   },
   "outputs": [],
   "source": [
    "def test_ComplexNumber(a, b):\n",
    "    py_cnum, my_cnum = complex(a, b), ComplexNumber(a, b)\n",
    "    if my_cnum.real != a or my_cnum.imag != b:\n",
    "        print(\"__init__() set self.real and self.imag incorrectly\")\n",
    "    if py_cnum.conjugate().imag != my_cnum.conjugate().imag:\n",
    "        print(\"conjugate() failed for\", py_cnum)\n",
    "    # Validate __str__().\n",
    "    if str(py_cnum) != str(my_cnum):\n",
    "        print(\"__str__() failed for\", py_cnum)\n",
    "        if str(py_cnum) != str(my_cnum):\n",
    "            print(\"__str__() failed for\", py_cnum)\n",
    "    print(my_cnum-my_cnum)\n",
    "    print(my_cnum*my_cnum)\n",
    "    print(my_cnum-my_cnum)\n",
    "    print(abs(my_cnum))\n",
    "    print(my_cnum==py_cnum)\n",
    "\n",
    "\n"
   ]
  },
  {
   "cell_type": "code",
   "execution_count": 250,
   "metadata": {},
   "outputs": [
    {
     "name": "stdout",
     "output_type": "stream",
     "text": [
      "(00j)\n",
      "(-20-48j)\n",
      "(00j)\n",
      "7.211102550927978\n",
      "True\n"
     ]
    }
   ],
   "source": [
    "test_ComplexNumber(4,-6)"
   ]
  },
  {
   "cell_type": "markdown",
   "metadata": {},
   "source": [
    "# I/O"
   ]
  },
  {
   "cell_type": "code",
   "execution_count": null,
   "metadata": {
    "collapsed": true
   },
   "outputs": [],
   "source": []
  }
 ],
 "metadata": {
  "kernelspec": {
   "display_name": "Python 3",
   "language": "python",
   "name": "python3"
  },
  "language_info": {
   "codemirror_mode": {
    "name": "ipython",
    "version": 3
   },
   "file_extension": ".py",
   "mimetype": "text/x-python",
   "name": "python",
   "nbconvert_exporter": "python",
   "pygments_lexer": "ipython3",
   "version": "3.6.1"
  }
 },
 "nbformat": 4,
 "nbformat_minor": 2
}
