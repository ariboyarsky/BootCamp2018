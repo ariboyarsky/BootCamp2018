{
 "cells": [
  {
   "cell_type": "markdown",
   "metadata": {},
   "source": [
    "## Ari Boyarsky\n",
    "## PSET 6"
   ]
  },
  {
   "cell_type": "code",
   "execution_count": 102,
   "metadata": {
    "collapsed": true
   },
   "outputs": [],
   "source": [
    "import numpy as np\n",
    "import sympy as sy"
   ]
  },
  {
   "cell_type": "markdown",
   "metadata": {},
   "source": [
    "## Differentiation"
   ]
  },
  {
   "cell_type": "code",
   "execution_count": 103,
   "metadata": {},
   "outputs": [
    {
     "name": "stdout",
     "output_type": "stream",
     "text": [
      "(-log(sin(x) + 1)*sin(x)*cos(cos(x)) + sin(cos(x))*cos(x)/(sin(x) + 1))*(sin(x) + 1)**sin(cos(x))\n"
     ]
    }
   ],
   "source": [
    "#Q1\n",
    "x = sy.symbols('x')\n",
    "expr = (sy.sin(x)+1)**(sy.sin(sy.cos(x)))\n",
    "d = sy.diff(expr,x)\n",
    "print(d)"
   ]
  },
  {
   "cell_type": "code",
   "execution_count": 110,
   "metadata": {
    "collapsed": true
   },
   "outputs": [],
   "source": [
    "#Q2\n",
    "def forward_1(d, xs, h):\n",
    "    f = sy.lambdify(x, d, \"numpy\")\n",
    "    return f(xs+h)-f(xs) / h\n",
    "\n",
    "def forward_2(d, xs, h):\n",
    "    f = sy.lambdify(x, d, \"numpy\")\n",
    "    return -3*f(xs)+4*f(xs+h)-2*f(xs+2*h) / 2*h\n",
    "\n",
    "def bkwd_1(d, xs, h):\n",
    "    f = sy.lambdify(x, d, \"numpy\")\n",
    "    return f(xs)-f(xs-h) / h\n",
    "\n",
    "def bkwd_2(d, xs, h):\n",
    "    f = sy.lambdify(x, d, \"numpy\")\n",
    "    return 3*f(xs)-4*f(xs-h)+f(xs-2*h) / 2*h\n",
    "\n",
    "def center_2(d, xs, h):\n",
    "    f = sy.lambdify(x, d, \"numpy\")\n",
    "    return f(xs+h)-f(xs-h) / 2*h\n",
    "\n",
    "def center_4(d, xs, h):\n",
    "    f = sy.lambdify(x, d, \"numpy\")\n",
    "    return f(xs-2*h)-8*f(xs-h)+ 8*f(xs+h)-f(xs+2*h) / 12*h"
   ]
  },
  {
   "cell_type": "code",
   "execution_count": 111,
   "metadata": {
    "collapsed": true
   },
   "outputs": [],
   "source": [
    "xs = np.linspace(-np.pi, np.pi, 50)"
   ]
  },
  {
   "cell_type": "code",
   "execution_count": 114,
   "metadata": {},
   "outputs": [
    {
     "data": {
      "text/plain": [
       "array([  1.05807054,   1.30922753,   1.58914359,   1.87158386,\n",
       "         2.0968717 ,   2.15640367,   1.88695414,   1.09700812,\n",
       "        -0.34949909,  -2.39623768,  -4.69325533,  -6.79170184,\n",
       "       -13.21973908,   0.68451083,   0.0549348 ,   0.13143438,\n",
       "         0.25746673,   0.38490431,   0.50729806,   0.62046748,\n",
       "         0.71875075,   0.79583383,   0.84587523,   0.86393494,\n",
       "         0.84568244,   0.78694905,   0.68391642,   0.53451833,\n",
       "         0.34102818,   0.1129627 ,  -0.13132123,  -0.36606152,\n",
       "        -0.56320635,  -0.6997825 ,  -0.76429197,  -0.75899312,\n",
       "        -0.69717493,  -0.5973102 ,  -0.47718869,  -0.35024249,\n",
       "        -0.22448192,  -0.10318893,   0.01375728,   0.12869059,\n",
       "         0.2454039 ,   0.36881144,   0.50485011,   0.66036483,\n",
       "         0.84263867,   1.05807054])"
      ]
     },
     "execution_count": 114,
     "metadata": {},
     "output_type": "execute_result"
    }
   ],
   "source": [
    "forward_1(expr, xs, 0.01)\n",
    "forward_2(d, xs, 0.01)\n",
    "bkwd_1(d, xs, 0.01)\n",
    "bkwd_2(d, xs, 0.01)\n",
    "center_2(d, xs, 0.01)\n",
    "center_4(d,xs,0.01)"
   ]
  },
  {
   "cell_type": "code",
   "execution_count": 113,
   "metadata": {},
   "outputs": [
    {
     "ename": "SyntaxError",
     "evalue": "invalid syntax (<string>, line 1)",
     "output_type": "error",
     "traceback": [
      "\u001b[1;36m  File \u001b[1;32m\"<string>\"\u001b[1;36m, line \u001b[1;32m1\u001b[0m\n\u001b[1;33m    lambda 1: ((1 + sin(x))**sin(cos(x))*(cos(x)*sin(cos(x))/(1 + sin(x)) - cos(cos(x))*log(1 + sin(x))*sin(x)))\u001b[0m\n\u001b[1;37m           ^\u001b[0m\n\u001b[1;31mSyntaxError\u001b[0m\u001b[1;31m:\u001b[0m invalid syntax\n"
     ]
    }
   ],
   "source": [
    "# Q3\n",
    "sy.lambdify(1, d, \"numpy\")"
   ]
  },
  {
   "cell_type": "code",
   "execution_count": null,
   "metadata": {
    "collapsed": true
   },
   "outputs": [],
   "source": []
  }
 ],
 "metadata": {
  "kernelspec": {
   "display_name": "Python 3",
   "language": "python",
   "name": "python3"
  },
  "language_info": {
   "codemirror_mode": {
    "name": "ipython",
    "version": 3
   },
   "file_extension": ".py",
   "mimetype": "text/x-python",
   "name": "python",
   "nbconvert_exporter": "python",
   "pygments_lexer": "ipython3",
   "version": "3.6.1"
  }
 },
 "nbformat": 4,
 "nbformat_minor": 2
}
