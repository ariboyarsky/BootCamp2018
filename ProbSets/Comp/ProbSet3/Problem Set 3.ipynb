{
 "cells": [
  {
   "cell_type": "markdown",
   "metadata": {},
   "source": [
    "## Problem Set 3\n",
    "### Ari Boyarsky\n",
    "\n",
    "### QR Decomposition"
   ]
  },
  {
   "cell_type": "code",
   "execution_count": 5,
   "metadata": {
    "collapsed": true
   },
   "outputs": [],
   "source": [
    "import numpy as np\n",
    "from scipy import linalg as la \n",
    "import matplotlib.pyplot as plt"
   ]
  },
  {
   "cell_type": "markdown",
   "metadata": {},
   "source": [
    "#### Problem 1"
   ]
  },
  {
   "cell_type": "code",
   "execution_count": 32,
   "metadata": {
    "collapsed": true
   },
   "outputs": [],
   "source": [
    "def qr(A):\n",
    "    m,n = A.shape\n",
    "    Q = np.copy(A)\n",
    "    R = np.zeros((n,n))\n",
    "    for i in range(n):\n",
    "        R[i,i] = la.norm(Q[:,i])\n",
    "        Q[:,i] = Q[:,i]/R[i,i]\n",
    "        for j in range(i+1, n):\n",
    "            R[i,j] = Q[:,j].transpose() @ Q[:,i]\n",
    "            Q[:,j] = Q[:,j] - (R[i,j]*Q[:,i])\n",
    "    \n",
    "    return(Q,R)\n",
    "        "
   ]
  },
  {
   "cell_type": "code",
   "execution_count": 109,
   "metadata": {
    "collapsed": true
   },
   "outputs": [],
   "source": [
    "A = np.random.random((6,4))"
   ]
  },
  {
   "cell_type": "code",
   "execution_count": 110,
   "metadata": {
    "collapsed": true
   },
   "outputs": [],
   "source": [
    "Q,R = qr(A)"
   ]
  },
  {
   "cell_type": "code",
   "execution_count": 111,
   "metadata": {},
   "outputs": [
    {
     "data": {
      "text/plain": [
       "array([[ 0.28442641,  0.63889421,  0.62696786,  0.76534822],\n",
       "       [ 0.26982692,  0.23213975,  0.82499414,  0.98693881],\n",
       "       [ 0.33837474,  0.56839771,  0.45986822,  0.42600987],\n",
       "       [ 0.59799106,  0.64482469,  0.22116214,  0.71088683],\n",
       "       [ 0.56887705,  0.95986326,  0.58168213,  0.15208608],\n",
       "       [ 0.74893559,  0.56823948,  0.67266899,  0.04187909]])"
      ]
     },
     "execution_count": 111,
     "metadata": {},
     "output_type": "execute_result"
    }
   ],
   "source": [
    "Q@R"
   ]
  },
  {
   "cell_type": "code",
   "execution_count": 112,
   "metadata": {
    "collapsed": true
   },
   "outputs": [],
   "source": [
    "Q,R = la.qr(A, mode=\"economic\")"
   ]
  },
  {
   "cell_type": "code",
   "execution_count": 113,
   "metadata": {},
   "outputs": [
    {
     "data": {
      "text/plain": [
       "array([[-0.23143831,  0.53688825, -0.2980396 , -0.17258678],\n",
       "       [-0.21955867, -0.15755731, -0.80328103, -0.32163593],\n",
       "       [-0.27533616,  0.29690031, -0.06994169, -0.01269607],\n",
       "       [-0.48658645, -0.11671362,  0.48533386, -0.70860941],\n",
       "       [-0.46289632,  0.50676591,  0.14607906,  0.41878259],\n",
       "       [-0.6094103 , -0.57301236, -0.06428143,  0.43485261]])"
      ]
     },
     "execution_count": 113,
     "metadata": {},
     "output_type": "execute_result"
    }
   ],
   "source": [
    "Q"
   ]
  },
  {
   "cell_type": "code",
   "execution_count": 114,
   "metadata": {},
   "outputs": [
    {
     "data": {
      "text/plain": [
       "array([[-1.22895132, -1.45970446, -1.23966178, -0.95294734],\n",
       "       [ 0.        ,  0.56075485,  0.22667923,  0.35199413],\n",
       "       [ 0.        ,  0.        , -0.73265842, -0.68614716],\n",
       "       [ 0.        ,  0.        ,  0.        , -0.87677148]])"
      ]
     },
     "execution_count": 114,
     "metadata": {},
     "output_type": "execute_result"
    }
   ],
   "source": [
    "R"
   ]
  },
  {
   "cell_type": "code",
   "execution_count": 115,
   "metadata": {},
   "outputs": [
    {
     "data": {
      "text/plain": [
       "array([[ 0.28442641,  0.63889421,  0.62696786,  0.76534822],\n",
       "       [ 0.26982692,  0.23213975,  0.82499414,  0.98693881],\n",
       "       [ 0.33837474,  0.56839771,  0.45986822,  0.42600987],\n",
       "       [ 0.59799106,  0.64482469,  0.22116214,  0.71088683],\n",
       "       [ 0.56887705,  0.95986326,  0.58168213,  0.15208608],\n",
       "       [ 0.74893559,  0.56823948,  0.67266899,  0.04187909]])"
      ]
     },
     "execution_count": 115,
     "metadata": {},
     "output_type": "execute_result"
    }
   ],
   "source": [
    "A"
   ]
  },
  {
   "cell_type": "markdown",
   "metadata": {},
   "source": [
    "#### Problem 2"
   ]
  },
  {
   "cell_type": "code",
   "execution_count": 116,
   "metadata": {
    "collapsed": true
   },
   "outputs": [],
   "source": [
    "A = np.random.random((4,4))\n",
    "def get_det(A):\n",
    "    m,n = A.shape\n",
    "    if m != n:\n",
    "        raise Exception(\"Error, A must be invertible!\")\n",
    "    Q,R = qr(A)\n",
    "    return R.diagonal().prod() # one line ;)"
   ]
  },
  {
   "cell_type": "code",
   "execution_count": 117,
   "metadata": {},
   "outputs": [
    {
     "data": {
      "text/plain": [
       "0.019256784080945832"
      ]
     },
     "execution_count": 117,
     "metadata": {},
     "output_type": "execute_result"
    }
   ],
   "source": [
    "np.abs(get_det(A))"
   ]
  },
  {
   "cell_type": "code",
   "execution_count": 118,
   "metadata": {},
   "outputs": [
    {
     "data": {
      "text/plain": [
       "0.019256784080945836"
      ]
     },
     "execution_count": 118,
     "metadata": {},
     "output_type": "execute_result"
    }
   ],
   "source": [
    "np.abs(la.det(A))"
   ]
  },
  {
   "cell_type": "markdown",
   "metadata": {},
   "source": [
    "#### Problem 3"
   ]
  },
  {
   "cell_type": "code",
   "execution_count": 119,
   "metadata": {
    "collapsed": true
   },
   "outputs": [],
   "source": [
    "A = np.random.random((4,4))\n",
    "b = np.random.random(4)\n",
    "Q,R = qr(A)\n",
    "\n",
    "y = Q.transpose() @ b\n",
    "\n",
    "def backwds_sub(R, y):\n",
    "    m,n = R.shape\n",
    "    if m != n:\n",
    "        raise Exception(\"Error, A must be invertible!\")\n",
    "    x = np.zeros(n)\n",
    "    for i in range(n-1,-1,-1):\n",
    "        s = R[i,i]\n",
    "        for j in range(n-1,i-1,-1):\n",
    "            if i == j:\n",
    "                s = np.dot(R[j,:],x)\n",
    "                x[i] = (y[i]-s)/R[j,i]\n",
    "    print(x)"
   ]
  },
  {
   "cell_type": "code",
   "execution_count": 120,
   "metadata": {},
   "outputs": [
    {
     "name": "stdout",
     "output_type": "stream",
     "text": [
      "[ 0.85410415 -0.16441501  0.31342219  0.11479127]\n"
     ]
    }
   ],
   "source": [
    "backwds_sub(R,y)"
   ]
  },
  {
   "cell_type": "code",
   "execution_count": 121,
   "metadata": {},
   "outputs": [
    {
     "data": {
      "text/plain": [
       "array([ 0.85410415, -0.16441501,  0.31342219,  0.11479127])"
      ]
     },
     "execution_count": 121,
     "metadata": {},
     "output_type": "execute_result"
    }
   ],
   "source": [
    "la.solve(R,y)"
   ]
  },
  {
   "cell_type": "markdown",
   "metadata": {},
   "source": [
    "#### Problem 4"
   ]
  },
  {
   "cell_type": "code",
   "execution_count": 122,
   "metadata": {
    "collapsed": true
   },
   "outputs": [],
   "source": [
    "def householder(A):\n",
    "    m,n = A.shape\n",
    "    R = np.copy(A)\n",
    "    Q = np.eye(m)\n",
    "    for k in range(n-1):\n",
    "        u = np.copy(R[k:,k])\n",
    "        u[0] = u[0] + np.sign(u[0])*la.norm(u)\n",
    "        u = u/la.norm(u)\n",
    "        R[k:,k:] = R[k:,k:] - 2 * np.outer(u, (u.T @ R[k:,k:]))\n",
    "        Q[k:,:] = Q[k:,:] - 2*np.outer(u, (u.T @ Q[k:,:]))\n",
    "    return(Q.T, R)"
   ]
  },
  {
   "cell_type": "code",
   "execution_count": 123,
   "metadata": {},
   "outputs": [
    {
     "data": {
      "text/plain": [
       "(array([[-0.00252853,  0.71580494,  0.27314092,  0.64265927],\n",
       "        [-0.20598173,  0.07992611,  0.86201081, -0.45620249],\n",
       "        [-0.95517314, -0.16890617, -0.09388824,  0.22427656],\n",
       "        [-0.21262503,  0.67283417, -0.416553  , -0.57320884]]),\n",
       " array([[ -6.54928167e-01,  -1.06845381e+00,  -6.00512464e-01,\n",
       "          -1.12882586e+00,  -1.07595927e+00],\n",
       "        [  0.00000000e+00,   1.00681371e+00,   9.84267486e-02,\n",
       "           1.03318321e+00,   8.22732516e-01],\n",
       "        [  0.00000000e+00,   1.11022302e-16,   1.00586553e-01,\n",
       "           2.58213534e-01,   5.22820227e-01],\n",
       "        [  0.00000000e+00,  -1.11022302e-16,   1.73472348e-18,\n",
       "           1.93516304e-01,  -3.62598483e-01]]))"
      ]
     },
     "execution_count": 123,
     "metadata": {},
     "output_type": "execute_result"
    }
   ],
   "source": [
    "A = np.random.random((4,5))\n",
    "householder(A)"
   ]
  },
  {
   "cell_type": "code",
   "execution_count": 124,
   "metadata": {},
   "outputs": [
    {
     "data": {
      "text/plain": [
       "(array([[-0.00252853,  0.71580494,  0.27314092, -0.64265927],\n",
       "        [-0.20598173,  0.07992611,  0.86201081,  0.45620249],\n",
       "        [-0.95517314, -0.16890617, -0.09388824, -0.22427656],\n",
       "        [-0.21262503,  0.67283417, -0.416553  ,  0.57320884]]),\n",
       " array([[-0.65492817, -1.06845381, -0.60051246, -1.12882586, -1.07595927],\n",
       "        [ 0.        ,  1.00681371,  0.09842675,  1.03318321,  0.82273252],\n",
       "        [ 0.        ,  0.        ,  0.10058655,  0.25821353,  0.52282023],\n",
       "        [ 0.        ,  0.        ,  0.        , -0.1935163 ,  0.36259848]]))"
      ]
     },
     "execution_count": 124,
     "metadata": {},
     "output_type": "execute_result"
    }
   ],
   "source": [
    "la.qr(A, mode=\"economic\")"
   ]
  },
  {
   "cell_type": "markdown",
   "metadata": {
    "collapsed": true
   },
   "source": [
    "#### Problem 5"
   ]
  },
  {
   "cell_type": "code",
   "execution_count": 125,
   "metadata": {
    "collapsed": true
   },
   "outputs": [],
   "source": [
    "def hessenberg(A):\n",
    "    m,n = A.shape\n",
    "    if m != n:\n",
    "        raise Exception(\"Error, A must be n x n!\")\n",
    "    H = np.copy(A)\n",
    "    Q = np.eye(m)\n",
    "    for k in range(n-3):\n",
    "        u = np.copy(H[k+1:, k])\n",
    "        u[0] = u[0] + np.sign(u[0])*la.norm(u)\n",
    "        u = u/la.norm(u)\n",
    "        H[1+k:,k:] = H[k+1:, k:] - 2*np.outer(u, (u.T @ H[k+1:, k:]))\n",
    "        H[:,k+1:] = H[:, k+1:] - 2*np.outer(H[:, k+1:] @ u, u.T)\n",
    "        Q[1+k:,k:] = Q[k+1:, k:] - 2*np.outer(u, (u.T @ Q[k+1:, k:]))\n",
    "    return(H, Q.T)"
   ]
  },
  {
   "cell_type": "code",
   "execution_count": 126,
   "metadata": {},
   "outputs": [
    {
     "data": {
      "text/plain": [
       "(array([[  9.29088705e-01,  -1.13267675e+00,   1.24380005e-01,\n",
       "          -5.71653665e-01],\n",
       "        [ -6.00954561e-01,   1.31314038e+00,  -4.96863453e-01,\n",
       "           5.83710157e-01],\n",
       "        [  0.00000000e+00,  -4.39108566e-01,   2.36528263e-01,\n",
       "           1.96015710e-02],\n",
       "        [  1.11022302e-16,   3.77849789e-02,  -6.99551917e-01,\n",
       "          -7.73750056e-02]]),\n",
       " array([[ 1.        ,  0.        ,  0.        ,  0.        ],\n",
       "        [ 0.        , -0.28951447, -0.10710808, -0.95116204],\n",
       "        [ 0.        , -0.10710808,  0.99110352, -0.07900426],\n",
       "        [ 0.        , -0.95116204, -0.07900426,  0.29841095]]))"
      ]
     },
     "execution_count": 126,
     "metadata": {},
     "output_type": "execute_result"
    }
   ],
   "source": [
    "A = np.random.random((4,4))\n",
    "hessenberg(A)"
   ]
  },
  {
   "cell_type": "markdown",
   "metadata": {
    "collapsed": true
   },
   "source": [
    "### Least Squares and Eigenvalues\n",
    "\n",
    "#### Problem 1"
   ]
  },
  {
   "cell_type": "code",
   "execution_count": 127,
   "metadata": {},
   "outputs": [
    {
     "name": "stdout",
     "output_type": "stream",
     "text": [
      "[  1.68126812e+15   9.47508962e+15  -1.25503238e+15  -6.37824260e+15\n",
      "  -6.81944118e+15]\n"
     ]
    }
   ],
   "source": [
    "A = np.random.random((4,5))\n",
    "Q,R = qr(A)\n",
    "b = A[:,4]\n",
    "y = Q.transpose() @ b\n",
    "backwds_sub(R,y)"
   ]
  },
  {
   "cell_type": "markdown",
   "metadata": {},
   "source": [
    "#### Problem 2"
   ]
  },
  {
   "cell_type": "code",
   "execution_count": 143,
   "metadata": {
    "collapsed": true
   },
   "outputs": [],
   "source": [
    "housing = np.load(\"housing.npy\")"
   ]
  },
  {
   "cell_type": "code",
   "execution_count": 151,
   "metadata": {
    "collapsed": true
   },
   "outputs": [],
   "source": [
    "X = housing[:,0]\n",
    "y = housing[:,1]\n",
    "\n",
    "beta = ((X.T @ X)**-1)*(X.T@y)"
   ]
  },
  {
   "cell_type": "code",
   "execution_count": 152,
   "metadata": {},
   "outputs": [
    {
     "data": {
      "text/plain": [
       "18.52070104895105"
      ]
     },
     "execution_count": 152,
     "metadata": {},
     "output_type": "execute_result"
    }
   ],
   "source": [
    "beta"
   ]
  },
  {
   "cell_type": "markdown",
   "metadata": {},
   "source": [
    "#### Problem 3"
   ]
  },
  {
   "cell_type": "code",
   "execution_count": 161,
   "metadata": {
    "collapsed": true
   },
   "outputs": [],
   "source": [
    "vander = np.vander(X, 3+1)\n",
    "beta = la.lstsq(vander, y)[0]"
   ]
  },
  {
   "cell_type": "code",
   "execution_count": 162,
   "metadata": {},
   "outputs": [
    {
     "data": {
      "image/png": "[encoded data removed]",
      "text/plain": [
       "<matplotlib.figure.Figure at 0x221a6503e80>"
      ]
     },
     "metadata": {},
     "output_type": "display_data"
    }
   ],
   "source": [
    "x = np.linspace(0,16,100)\n",
    "yhat = np.vander(x,3+1) @ beta\n",
    "plt.plot(x, yhat, 'r')\n",
    "plt.scatter(X, y)\n",
    "plt.xlabel('Year')\n",
    "plt.ylabel('Price')\n",
    "plt.show()"
   ]
  },
  {
   "cell_type": "code",
   "execution_count": 157,
   "metadata": {},
   "outputs": [
    {
     "data": {
      "image/png": "[encoded data removed]",
      "text/plain": [
       "<matplotlib.figure.Figure at 0x221a6640630>"
      ]
     },
     "metadata": {},
     "output_type": "display_data"
    }
   ],
   "source": [
    "vander = np.vander(X, 6)\n",
    "beta = la.lstsq(vander, y)[0]\n",
    "x = np.linspace(0,16,100)\n",
    "yhat = np.vander(x,6) @ beta\n",
    "plt.plot(x, yhat, 'r')\n",
    "plt.scatter(X, y)\n",
    "plt.xlabel('Year')\n",
    "plt.ylabel('Price')\n",
    "plt.show()"
   ]
  },
  {
   "cell_type": "code",
   "execution_count": 163,
   "metadata": {},
   "outputs": [
    {
     "data": {
      "image/png": "[encoded data removed]",
      "text/plain": [
       "<matplotlib.figure.Figure at 0x221a66e4eb8>"
      ]
     },
     "metadata": {},
     "output_type": "display_data"
    }
   ],
   "source": [
    "vander = np.vander(X, 9)\n",
    "beta = la.lstsq(vander, y)[0]\n",
    "x = np.linspace(0,16,100)\n",
    "yhat = np.vander(x,9) @ beta\n",
    "plt.plot(x, yhat, 'r')\n",
    "plt.scatter(X, y)\n",
    "plt.xlabel('Year')\n",
    "plt.ylabel('Price')\n",
    "plt.show()"
   ]
  },
  {
   "cell_type": "code",
   "execution_count": 164,
   "metadata": {},
   "outputs": [
    {
     "data": {
      "image/png": "[encoded data removed]",
      "text/plain": [
       "<matplotlib.figure.Figure at 0x221a65b2208>"
      ]
     },
     "metadata": {},
     "output_type": "display_data"
    }
   ],
   "source": [
    "vander = np.vander(X, 12)\n",
    "beta = la.lstsq(vander, y)[0]\n",
    "x = np.linspace(0,16,100)\n",
    "yhat = np.vander(x,12) @ beta\n",
    "plt.plot(x, yhat, 'r')\n",
    "plt.scatter(X, y)\n",
    "plt.xlabel('Year')\n",
    "plt.ylabel('Price')\n",
    "plt.show()"
   ]
  },
  {
   "cell_type": "markdown",
   "metadata": {},
   "source": [
    "#### Problem 4"
   ]
  },
  {
   "cell_type": "code",
   "execution_count": 165,
   "metadata": {
    "collapsed": true
   },
   "outputs": [],
   "source": [
    "ellipse = np.load(\"ellipse.npy\")"
   ]
  },
  {
   "cell_type": "code",
   "execution_count": 169,
   "metadata": {
    "collapsed": true
   },
   "outputs": [],
   "source": [
    "x = ellipse[:,0]\n",
    "y = ellipse[:,1]"
   ]
  },
  {
   "cell_type": "code",
   "execution_count": 8,
   "metadata": {},
   "outputs": [
    {
     "data": {
      "image/png": "[encoded data removed]",
      "text/plain": [
       "<matplotlib.figure.Figure at 0x1d2f050e630>"
      ]
     },
     "metadata": {},
     "output_type": "display_data"
    }
   ],
   "source": [
    "def plot_ellipse(a, b, c, d, e):\n",
    "    \"\"\"Plot an ellipse of the form ax^2 + bx + cxy + dy + ey^2 = 1.\"\"\"\n",
    "    theta = np.linspace(0, 2*np.pi, 200)\n",
    "    cos_t, sin_t = np.cos(theta), np.sin(theta)\n",
    "    A = a*(cos_t**2) + c*cos_t*sin_t + e*(sin_t**2)\n",
    "    B = b*cos_t + d*sin_t\n",
    "    r = (-B + np.sqrt(B**2 + 4*A)) / (2*A)\n",
    "    plt.plot(r*cos_t, r*sin_t, lw=2)\n",
    "    plt.gca().set_aspect(\"equal\", \"datalim\")\n",
    "    plt.show()\n",
    "\n",
    "x, y = np.load('ellipse.npy').T\n",
    "w = np.ones(len(x))\n",
    "z = np.column_stack((x**2, x, x*y, y, y**2)) \n",
    "a, b, c, d, e = la.lstsq(z, w)[0]\n",
    "plot_ellipse(a, b, c, d, e)"
   ]
  },
  {
   "cell_type": "markdown",
   "metadata": {
    "collapsed": true
   },
   "source": [
    "#### Problem 5"
   ]
  },
  {
   "cell_type": "code",
   "execution_count": 21,
   "metadata": {
    "collapsed": true
   },
   "outputs": [],
   "source": [
    "def prob_5(A, N, tol):\n",
    "    m,n = A.shape\n",
    "    x = np.random.rand(n)\n",
    "    x_0 = x/la.norm(x)\n",
    "    d = 1e5\n",
    "    iters = 1\n",
    "    while d > tol and iters < N:\n",
    "        d = la.norm(A@x -x)\n",
    "        x = A@x\n",
    "        x = x/la.norm(x)\n",
    "        iters += 1\n",
    "    return x.T@A@x, x"
   ]
  },
  {
   "cell_type": "code",
   "execution_count": 24,
   "metadata": {},
   "outputs": [
    {
     "name": "stdout",
     "output_type": "stream",
     "text": [
      "5.49293148401\n"
     ]
    }
   ],
   "source": [
    "A = np.random.random((10,10))\n",
    "eig_val, eig_vec = prob_5(A, 10, 1e-5)\n",
    "\n",
    "print(eig_val)"
   ]
  },
  {
   "cell_type": "code",
   "execution_count": 28,
   "metadata": {},
   "outputs": [
    {
     "data": {
      "text/plain": [
       "(5.4929314859427611+0j)"
      ]
     },
     "execution_count": 28,
     "metadata": {},
     "output_type": "execute_result"
    }
   ],
   "source": [
    "eigs, vecs = la.eig(A)\n",
    "i=np.argmax(eigs)\n",
    "eigs[i]"
   ]
  },
  {
   "cell_type": "markdown",
   "metadata": {},
   "source": [
    "#### Problem 6"
   ]
  },
  {
   "cell_type": "code",
   "execution_count": 33,
   "metadata": {
    "collapsed": true
   },
   "outputs": [],
   "source": [
    "def hess_precon(A, N):\n",
    "    m,n = A.shape\n",
    "    S = la.hessenberg(A)\n",
    "    for k in range(n):\n",
    "        Q,R = qr(S)\n",
    "        S = R@Q\n",
    "    eigs = []\n",
    "    i = 0\n",
    "    while i < N:\n",
    "        if S.shape == (1,1):\n",
    "            eigs.append(S[0])\n",
    "        elif S.shape == (2,2):\n",
    "            e, v = la.eig(A)\n",
    "            eigs.append(e)\n",
    "            i += 1\n",
    "        i +=1\n",
    "    return (eigs)"
   ]
  },
  {
   "cell_type": "code",
   "execution_count": 35,
   "metadata": {},
   "outputs": [
    {
     "data": {
      "text/plain": [
       "[]"
      ]
     },
     "execution_count": 35,
     "metadata": {},
     "output_type": "execute_result"
    }
   ],
   "source": [
    "A = np.random.random((10,10))\n",
    "hess_precon(A, 100)"
   ]
  },
  {
   "cell_type": "markdown",
   "metadata": {
    "collapsed": true
   },
   "source": [
    "### SVD"
   ]
  },
  {
   "cell_type": "code",
   "execution_count": 1,
   "metadata": {
    "collapsed": true
   },
   "outputs": [],
   "source": [
    "# 1 \n",
    "def svd(A, tol=0.00001):\n",
    "    h = A.conj().T\n",
    "    eigs, vecs = la.eig(h @ A)\n",
    "    \n",
    "    sigma =  np.sqrt(eigs).real \n",
    "    j = np.argsort(-sigma)\n",
    "    sigma =  sigma[j]\n",
    "    vecs = vecs[j, :]\n",
    "    r = (sigma > tol).sum()\n",
    "    sigma_1 = sigma[0:r]\n",
    "    vecs_1 = vecs[:, 0:r]\n",
    "    u_1 = A @ vecs_1 / sigma_1\n",
    "    return u_1, sigma_1, vecs_1.conj().T"
   ]
  },
  {
   "cell_type": "code",
   "execution_count": 6,
   "metadata": {},
   "outputs": [
    {
     "data": {
      "text/plain": [
       "(array([[ 0.55531826,  0.32930565,  9.3762764 ],\n",
       "        [ 0.59948444, -0.28338807, -1.95419049],\n",
       "        [ 0.41793296,  0.25017674,  4.28222845]]),\n",
       " array([ 1.23224604,  0.5683994 ,  0.06641717]),\n",
       " array([[ 0.31307447,  0.49064136,  0.81317614],\n",
       "        [ 0.93747531, -0.02255654, -0.3473201 ],\n",
       "        [-0.15206717,  0.8710696 , -0.46702604]]))"
      ]
     },
     "execution_count": 6,
     "metadata": {},
     "output_type": "execute_result"
    }
   ],
   "source": [
    "A = np.random.random((3, 3))\n",
    "svd(A)"
   ]
  },
  {
   "cell_type": "code",
   "execution_count": 12,
   "metadata": {},
   "outputs": [
    {
     "data": {
      "image/png": "[encoded data removed]",
      "text/plain": [
       "<matplotlib.figure.Figure at 0x2e98a7a9c50>"
      ]
     },
     "metadata": {},
     "output_type": "display_data"
    },
    {
     "ename": "ValueError",
     "evalue": "shapes (3,3) and (2,200) not aligned: 3 (dim 1) != 2 (dim 0)",
     "output_type": "error",
     "traceback": [
      "\u001b[1;31m---------------------------------------------------------------------------\u001b[0m",
      "\u001b[1;31mValueError\u001b[0m                                Traceback (most recent call last)",
      "\u001b[1;32m<ipython-input-12-3ce7e165b733>\u001b[0m in \u001b[0;36m<module>\u001b[1;34m()\u001b[0m\n\u001b[0;32m     12\u001b[0m \u001b[0mplt\u001b[0m\u001b[1;33m.\u001b[0m\u001b[0maxis\u001b[0m\u001b[1;33m(\u001b[0m\u001b[1;34m'equal'\u001b[0m\u001b[1;33m)\u001b[0m\u001b[1;33m\u001b[0m\u001b[0m\n\u001b[0;32m     13\u001b[0m \u001b[0mplt\u001b[0m\u001b[1;33m.\u001b[0m\u001b[0mshow\u001b[0m\u001b[1;33m(\u001b[0m\u001b[1;33m)\u001b[0m\u001b[1;33m\u001b[0m\u001b[0m\n\u001b[1;32m---> 14\u001b[1;33m \u001b[0mplt\u001b[0m\u001b[1;33m.\u001b[0m\u001b[0mplot\u001b[0m\u001b[1;33m(\u001b[0m\u001b[1;33m(\u001b[0m\u001b[0mV\u001b[0m\u001b[1;33m@\u001b[0m\u001b[0mS\u001b[0m\u001b[1;33m)\u001b[0m\u001b[1;33m[\u001b[0m\u001b[1;36m0\u001b[0m\u001b[1;33m,\u001b[0m\u001b[1;33m:\u001b[0m\u001b[1;33m]\u001b[0m\u001b[1;33m,\u001b[0m \u001b[1;33m(\u001b[0m\u001b[0mV\u001b[0m\u001b[1;33m@\u001b[0m\u001b[0mS\u001b[0m\u001b[1;33m)\u001b[0m\u001b[1;33m[\u001b[0m\u001b[1;36m1\u001b[0m\u001b[1;33m,\u001b[0m\u001b[1;33m:\u001b[0m\u001b[1;33m]\u001b[0m\u001b[1;33m)\u001b[0m\u001b[1;33m\u001b[0m\u001b[0m\n\u001b[0m\u001b[0;32m     15\u001b[0m \u001b[0mplt\u001b[0m\u001b[1;33m.\u001b[0m\u001b[0mplot\u001b[0m\u001b[1;33m(\u001b[0m\u001b[1;33m(\u001b[0m\u001b[0mV\u001b[0m\u001b[1;33m@\u001b[0m\u001b[0mE\u001b[0m\u001b[1;33m)\u001b[0m\u001b[1;33m[\u001b[0m\u001b[1;36m0\u001b[0m\u001b[1;33m,\u001b[0m\u001b[1;33m:\u001b[0m\u001b[1;33m]\u001b[0m\u001b[1;33m,\u001b[0m \u001b[1;33m(\u001b[0m\u001b[0mV\u001b[0m\u001b[1;33m@\u001b[0m\u001b[0mE\u001b[0m\u001b[1;33m)\u001b[0m\u001b[1;33m[\u001b[0m\u001b[1;36m1\u001b[0m\u001b[1;33m,\u001b[0m\u001b[1;33m:\u001b[0m\u001b[1;33m]\u001b[0m\u001b[1;33m)\u001b[0m\u001b[1;33m\u001b[0m\u001b[0m\n\u001b[0;32m     16\u001b[0m \u001b[0mplt\u001b[0m\u001b[1;33m.\u001b[0m\u001b[0maxis\u001b[0m\u001b[1;33m(\u001b[0m\u001b[1;34m'equal'\u001b[0m\u001b[1;33m)\u001b[0m\u001b[1;33m\u001b[0m\u001b[0m\n",
      "\u001b[1;31mValueError\u001b[0m: shapes (3,3) and (2,200) not aligned: 3 (dim 1) != 2 (dim 0)"
     ]
    }
   ],
   "source": [
    "# 2 \n",
    "t = np.linspace(0, 2*np.pi, 200)\n",
    "cos_t, sin_t = np.cos(t), np.sin(t)\n",
    "S = np.empty((2, 200))\n",
    "S[0, :] = cos_t\n",
    "S[1, :] = sin_t\n",
    "E  = np.array([[1,0,0],[0,0,1]])\n",
    "U, s, V = la.svd(A)\n",
    "sigma = np.diag(s)\n",
    "plt.plot(S[0,:], S[1,:])\n",
    "plt.plot(E[0,:], E[1,:])\n",
    "plt.axis('equal')\n",
    "plt.show()\n",
    "plt.plot((V@S)[0,:], (V@S)[1,:])\n",
    "plt.plot((V@E)[0,:], (V@E)[1,:])\n",
    "plt.axis('equal')\n",
    "plt.show()\n",
    "plt.plot((sigma@V@S)[0,:], (sigma@V@S)[1,:])\n",
    "plt.plot((sigma@V@E)[0,:], (sigma@V@E)[1,:])\n",
    "plt.axis('equal')\n",
    "plt.show()\n",
    "plt.plot((U@sigma@Vh@S)[0,:], (U@sigma@V@S)[1,:])\n",
    "plt.plot((U@sigma@V@E)[0,:], (U@sigma@V@E)[1,:])\n",
    "plt.axis('equal')\n",
    "plt.show()"
   ]
  },
  {
   "cell_type": "code",
   "execution_count": null,
   "metadata": {
    "collapsed": true
   },
   "outputs": [],
   "source": []
  }
 ],
 "metadata": {
  "kernelspec": {
   "display_name": "Python 3",
   "language": "python",
   "name": "python3"
  },
  "language_info": {
   "codemirror_mode": {
    "name": "ipython",
    "version": 3
   },
   "file_extension": ".py",
   "mimetype": "text/x-python",
   "name": "python",
   "nbconvert_exporter": "python",
   "pygments_lexer": "ipython3",
   "version": "3.6.1"
  }
 },
 "nbformat": 4,
 "nbformat_minor": 2
}
