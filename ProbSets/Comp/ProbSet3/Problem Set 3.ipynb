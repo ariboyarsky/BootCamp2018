{
 "cells": [
  {
   "cell_type": "markdown",
   "metadata": {},
   "source": [
    "## Problem Set 3\n",
    "### Ari Boyarsky\n",
    "\n",
    "### QR Decomposition"
   ]
  },
  {
   "cell_type": "code",
   "execution_count": 3,
   "metadata": {
    "collapsed": true
   },
   "outputs": [],
   "source": [
    "import numpy as np\n",
    "from scipy import linalg as la "
   ]
  },
  {
   "cell_type": "markdown",
   "metadata": {},
   "source": [
    "#### Problem 1"
   ]
  },
  {
   "cell_type": "code",
   "execution_count": 4,
   "metadata": {
    "collapsed": true
   },
   "outputs": [],
   "source": [
    "def qr(A):\n",
    "    m,n = A.shape\n",
    "    Q = np.copy(A)\n",
    "    R = np.zeros((n,n))\n",
    "    for i in range(n):\n",
    "        R[i,i] = la.norm(Q[:,i])\n",
    "        Q[:,i] = Q[:,i]/R[i,i]\n",
    "        for j in range(i+1, n):\n",
    "            R[i,j] = Q[:,j].transpose() @ Q[:,i]\n",
    "            Q[:,j] = Q[:,j] - (R[i,j]*Q[:,i])\n",
    "    \n",
    "    return(Q,R)\n",
    "        "
   ]
  },
  {
   "cell_type": "code",
   "execution_count": 5,
   "metadata": {
    "collapsed": true
   },
   "outputs": [],
   "source": [
    "A = np.random.random((6,4))"
   ]
  },
  {
   "cell_type": "code",
   "execution_count": 6,
   "metadata": {
    "collapsed": true
   },
   "outputs": [],
   "source": [
    "Q,R = qr(A)"
   ]
  },
  {
   "cell_type": "code",
   "execution_count": 7,
   "metadata": {},
   "outputs": [
    {
     "data": {
      "text/plain": [
       "array([[ 0.15307668,  0.71740954,  0.65120962,  0.63028468],\n",
       "       [ 0.37670137,  0.69307387,  0.40977603,  0.33798711],\n",
       "       [ 0.54262376,  0.92509258,  0.1743104 ,  0.44505761],\n",
       "       [ 0.90629343,  0.83844638,  0.15427493,  0.1931124 ],\n",
       "       [ 0.63909417,  0.36904527,  0.75922454,  0.22504297],\n",
       "       [ 0.88764516,  0.99375127,  0.72304957,  0.79080557]])"
      ]
     },
     "execution_count": 7,
     "metadata": {},
     "output_type": "execute_result"
    }
   ],
   "source": [
    "Q@R"
   ]
  },
  {
   "cell_type": "code",
   "execution_count": 8,
   "metadata": {
    "collapsed": true
   },
   "outputs": [],
   "source": [
    "Q,R = la.qr(A, mode=\"economic\")"
   ]
  },
  {
   "cell_type": "code",
   "execution_count": 9,
   "metadata": {},
   "outputs": [
    {
     "data": {
      "text/plain": [
       "array([[-0.09725282, -0.69330787,  0.43408153, -0.0675811 ],\n",
       "       [-0.23932627, -0.34805362,  0.07176364, -0.47164294],\n",
       "       [-0.34474024, -0.40858755, -0.39858875, -0.01570005],\n",
       "       [-0.57578719,  0.21249328, -0.48028989, -0.27920625],\n",
       "       [-0.40602991,  0.43125089,  0.61920739, -0.34832116],\n",
       "       [-0.56393956, -0.01040994,  0.18290444,  0.75726844]])"
      ]
     },
     "execution_count": 9,
     "metadata": {},
     "output_type": "execute_result"
    }
   ],
   "source": [
    "Q"
   ]
  },
  {
   "cell_type": "code",
   "execution_count": 10,
   "metadata": {},
   "outputs": [
    {
     "data": {
      "text/plain": [
       "array([[-1.57400763, -1.74758326, -1.0263476 , -0.94414778],\n",
       "       [ 0.        , -0.78962343, -0.31266211, -0.60661114],\n",
       "       [ 0.        ,  0.        ,  0.77087666,  0.31169536],\n",
       "       [ 0.        ,  0.        ,  0.        ,  0.25755469]])"
      ]
     },
     "execution_count": 10,
     "metadata": {},
     "output_type": "execute_result"
    }
   ],
   "source": [
    "R"
   ]
  },
  {
   "cell_type": "code",
   "execution_count": 11,
   "metadata": {},
   "outputs": [
    {
     "data": {
      "text/plain": [
       "array([[ 0.15307668,  0.71740954,  0.65120962,  0.63028468],\n",
       "       [ 0.37670137,  0.69307387,  0.40977603,  0.33798711],\n",
       "       [ 0.54262376,  0.92509258,  0.1743104 ,  0.44505761],\n",
       "       [ 0.90629343,  0.83844638,  0.15427493,  0.1931124 ],\n",
       "       [ 0.63909417,  0.36904527,  0.75922454,  0.22504297],\n",
       "       [ 0.88764516,  0.99375127,  0.72304957,  0.79080557]])"
      ]
     },
     "execution_count": 11,
     "metadata": {},
     "output_type": "execute_result"
    }
   ],
   "source": [
    "A"
   ]
  },
  {
   "cell_type": "markdown",
   "metadata": {},
   "source": [
    "#### Problem 2"
   ]
  },
  {
   "cell_type": "code",
   "execution_count": 12,
   "metadata": {
    "collapsed": true
   },
   "outputs": [],
   "source": [
    "A = np.random.random((4,4))\n",
    "def get_det(A):\n",
    "    m,n = A.shape\n",
    "    if m != n:\n",
    "        raise Exception(\"Error, A must be invertible!\")\n",
    "    Q,R = qr(A)\n",
    "    return R.diagonal().prod() # one line ;)"
   ]
  },
  {
   "cell_type": "code",
   "execution_count": 13,
   "metadata": {},
   "outputs": [
    {
     "data": {
      "text/plain": [
       "0.00066702389754351422"
      ]
     },
     "execution_count": 13,
     "metadata": {},
     "output_type": "execute_result"
    }
   ],
   "source": [
    "np.abs(get_det(A))"
   ]
  },
  {
   "cell_type": "code",
   "execution_count": 14,
   "metadata": {},
   "outputs": [
    {
     "data": {
      "text/plain": [
       "0.00066702389754353655"
      ]
     },
     "execution_count": 14,
     "metadata": {},
     "output_type": "execute_result"
    }
   ],
   "source": [
    "np.abs(la.det(A))"
   ]
  },
  {
   "cell_type": "markdown",
   "metadata": {},
   "source": [
    "#### Problem 3"
   ]
  },
  {
   "cell_type": "code",
   "execution_count": 15,
   "metadata": {
    "collapsed": true
   },
   "outputs": [],
   "source": [
    "A = np.random.random((4,4))\n",
    "b = np.random.random(4)\n",
    "Q,R = qr(A)\n",
    "\n",
    "y = Q.transpose() @ b\n",
    "\n",
    "def backwds_sub(R, y):\n",
    "    m,n = R.shape\n",
    "    if m != n:\n",
    "        raise Exception(\"Error, A must be invertible!\")\n",
    "    x = np.zeros(n)\n",
    "    for i in range(n-1,-1,-1):\n",
    "        s = R[i,i]\n",
    "        for j in range(n-1,i-1,-1):\n",
    "            if i == j:\n",
    "                s = np.dot(R[j,:],x)\n",
    "                x[i] = (y[i]-s)/R[j,i]\n",
    "    print(x)"
   ]
  },
  {
   "cell_type": "code",
   "execution_count": 16,
   "metadata": {},
   "outputs": [
    {
     "name": "stdout",
     "output_type": "stream",
     "text": [
      "[ 0.21151455  2.26156966  0.21876045 -1.41610958]\n"
     ]
    }
   ],
   "source": [
    "backwds_sub(R,y)"
   ]
  },
  {
   "cell_type": "code",
   "execution_count": 17,
   "metadata": {},
   "outputs": [
    {
     "data": {
      "text/plain": [
       "array([ 0.21151455,  2.26156966,  0.21876045, -1.41610958])"
      ]
     },
     "execution_count": 17,
     "metadata": {},
     "output_type": "execute_result"
    }
   ],
   "source": [
    "la.solve(R,y)"
   ]
  },
  {
   "cell_type": "markdown",
   "metadata": {},
   "source": [
    "#### Problem 4"
   ]
  },
  {
   "cell_type": "code",
   "execution_count": 51,
   "metadata": {},
   "outputs": [],
   "source": [
    "def householder(A):\n",
    "    m,n = A.shape\n",
    "    R = np.copy(A)\n",
    "    Q = np.eye(m)\n",
    "    for k in range(n-1):\n",
    "        u = np.copy(R[k:,k])\n",
    "        u[0] = u[0] + np.sign(u[0])*la.norm(u)\n",
    "        u = u/la.norm(u)\n",
    "        R[k:,k:] = R[k:,k:] - 2 * np.outer(u, (u.T @ R[k:,k:]))\n",
    "        Q[k:,:] = Q[k:,:] - 2*np.outer(u, (u.T @ Q[k:,:]))\n",
    "    return(Q.T, R)"
   ]
  },
  {
   "cell_type": "code",
   "execution_count": 52,
   "metadata": {},
   "outputs": [
    {
     "data": {
      "text/plain": [
       "(array([[-0.63432671, -0.08038772,  0.68430504, -0.35056249],\n",
       "        [-0.04253993, -0.97659197, -0.19510987, -0.07994139],\n",
       "        [-0.67564011,  0.02781164, -0.27235858,  0.68451279],\n",
       "        [-0.3732699 ,  0.19756634, -0.64767242, -0.63415894]]),\n",
       " array([[ -1.13102098e+00,  -1.40092664e+00,  -1.02856593e+00,\n",
       "          -5.51297094e-01,  -4.61708542e-01],\n",
       "        [ -6.93889390e-18,  -5.86271726e-01,  -5.92034190e-01,\n",
       "          -8.64731229e-01,   4.78640958e-02],\n",
       "        [ -1.11022302e-16,   0.00000000e+00,  -4.32801047e-01,\n",
       "          -1.70227496e-01,  -4.80227807e-01],\n",
       "        [ -1.11022302e-16,   0.00000000e+00,   5.55111512e-17,\n",
       "           1.37967708e-01,  -3.66610930e-01]]))"
      ]
     },
     "execution_count": 52,
     "metadata": {},
     "output_type": "execute_result"
    }
   ],
   "source": [
    "A = np.random.random((4,5))\n",
    "householder(A)"
   ]
  },
  {
   "cell_type": "code",
   "execution_count": 49,
   "metadata": {},
   "outputs": [
    {
     "data": {
      "text/plain": [
       "(array([[-0.59463297,  0.52017609, -0.6029092 ,  0.11103586],\n",
       "        [-0.74721324, -0.07653575,  0.65272915, -0.09878926],\n",
       "        [-0.22368542, -0.61166004, -0.42312236, -0.62992405],\n",
       "        [-0.19506112, -0.59112699, -0.17723608,  0.76230402]]),\n",
       " array([[-1.21941882, -1.08786695, -0.95665812, -1.07320105, -0.47166618],\n",
       "        [ 0.        , -1.23117189,  0.03595586, -0.38328077, -0.30879726],\n",
       "        [ 0.        ,  0.        , -0.39806367, -0.62431332, -0.09776254],\n",
       "        [ 0.        ,  0.        ,  0.        ,  0.3550416 ,  0.34972064]]))"
      ]
     },
     "execution_count": 49,
     "metadata": {},
     "output_type": "execute_result"
    }
   ],
   "source": [
    "la.qr(A, mode=\"economic\")"
   ]
  },
  {
   "cell_type": "markdown",
   "metadata": {
    "collapsed": true
   },
   "source": [
    "#### Problem 5"
   ]
  },
  {
   "cell_type": "code",
   "execution_count": 70,
   "metadata": {
    "collapsed": true
   },
   "outputs": [],
   "source": [
    "def hessenberg(A):\n",
    "    m,n = A.shape\n",
    "    if m != n:\n",
    "        raise Exception(\"Error, A must be n x n!\")\n",
    "    H = np.copy(A)\n",
    "    Q = np.eye(m)\n",
    "    for k in range(n-3):\n",
    "        u = np.copy(H[k+1:, k])\n",
    "        u[0] = u[0] + np.sign(u[0])*la.norm(u)\n",
    "        u = u/la.norm(u)\n",
    "        H[1+k:,k:] = H[k+1:, k:] - 2*np.outer(u, (u.T @ H[k+1:, k:]))\n",
    "        H[:,k+1:] = H[:, k+1:] - 2*np.outer(H[:, k+1:] @ u, u.T)\n",
    "        Q[1+k:,k:] = Q[k+1:, k:] - 2*np.outer(u, (u.T @ Q[k+1:, k:]))\n",
    "    return(H, Q.T)"
   ]
  },
  {
   "cell_type": "code",
   "execution_count": 73,
   "metadata": {},
   "outputs": [
    {
     "data": {
      "text/plain": [
       "(array([[  8.02129917e-01,  -8.01113629e-01,   5.89340173e-01,\n",
       "          -3.68135168e-04],\n",
       "        [ -1.14598295e+00,   1.19411816e+00,  -6.77587328e-01,\n",
       "          -6.91800445e-01],\n",
       "        [  0.00000000e+00,  -2.21884079e-01,  -1.90038398e-01,\n",
       "           4.97769444e-01],\n",
       "        [  0.00000000e+00,  -4.57974362e-01,  -1.20310247e-01,\n",
       "          -2.91877123e-01]]),\n",
       " array([[ 1.        ,  0.        ,  0.        ,  0.        ],\n",
       "        [ 0.        , -0.80123683, -0.31071335, -0.51134797],\n",
       "        [ 0.        , -0.31071335,  0.94640195, -0.08820753],\n",
       "        [ 0.        , -0.51134797, -0.08820753,  0.85483489]]))"
      ]
     },
     "execution_count": 73,
     "metadata": {},
     "output_type": "execute_result"
    }
   ],
   "source": [
    "A = np.random.random((4,4))\n",
    "hessenberg(A)"
   ]
  },
  {
   "cell_type": "code",
   "execution_count": null,
   "metadata": {
    "collapsed": true
   },
   "outputs": [],
   "source": []
  }
 ],
 "metadata": {
  "kernelspec": {
   "display_name": "Python 3",
   "language": "python",
   "name": "python3"
  },
  "language_info": {
   "codemirror_mode": {
    "name": "ipython",
    "version": 3
   },
   "file_extension": ".py",
   "mimetype": "text/x-python",
   "name": "python",
   "nbconvert_exporter": "python",
   "pygments_lexer": "ipython3",
   "version": "3.6.1"
  }
 },
 "nbformat": 4,
 "nbformat_minor": 2
}
