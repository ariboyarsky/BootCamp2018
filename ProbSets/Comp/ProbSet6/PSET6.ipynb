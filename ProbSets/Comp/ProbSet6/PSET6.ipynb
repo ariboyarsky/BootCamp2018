{
 "cells": [
  {
   "cell_type": "markdown",
   "metadata": {},
   "source": [
    "## Ari Boyarsky\n",
    "## PSET 6"
   ]
  },
  {
   "cell_type": "code",
   "execution_count": 22,
   "metadata": {
    "collapsed": true
   },
   "outputs": [],
   "source": [
    "import numpy as np\n",
    "import sympy as sy\n",
    "import matplotlib.pyplot as plt"
   ]
  },
  {
   "cell_type": "markdown",
   "metadata": {},
   "source": [
    "## Differentiation"
   ]
  },
  {
   "cell_type": "code",
   "execution_count": 103,
   "metadata": {},
   "outputs": [
    {
     "name": "stdout",
     "output_type": "stream",
     "text": [
      "(-log(sin(x) + 1)*sin(x)*cos(cos(x)) + sin(cos(x))*cos(x)/(sin(x) + 1))*(sin(x) + 1)**sin(cos(x))\n"
     ]
    }
   ],
   "source": [
    "#Q1\n",
    "x = sy.symbols('x')\n",
    "expr = (sy.sin(x)+1)**(sy.sin(sy.cos(x)))\n",
    "d = sy.diff(expr,x)\n",
    "print(d)"
   ]
  },
  {
   "cell_type": "code",
   "execution_count": 110,
   "metadata": {
    "collapsed": true
   },
   "outputs": [],
   "source": [
    "#Q2\n",
    "def forward_1(d, xs, h):\n",
    "    f = sy.lambdify(x, d, \"numpy\")\n",
    "    return f(xs+h)-f(xs) / h\n",
    "\n",
    "def forward_2(d, xs, h):\n",
    "    f = sy.lambdify(x, d, \"numpy\")\n",
    "    return -3*f(xs)+4*f(xs+h)-2*f(xs+2*h) / 2*h\n",
    "\n",
    "def bkwd_1(d, xs, h):\n",
    "    f = sy.lambdify(x, d, \"numpy\")\n",
    "    return f(xs)-f(xs-h) / h\n",
    "\n",
    "def bkwd_2(d, xs, h):\n",
    "    f = sy.lambdify(x, d, \"numpy\")\n",
    "    return 3*f(xs)-4*f(xs-h)+f(xs-2*h) / 2*h\n",
    "\n",
    "def center_2(d, xs, h):\n",
    "    f = sy.lambdify(x, d, \"numpy\")\n",
    "    return f(xs+h)-f(xs-h) / 2*h\n",
    "\n",
    "def center_4(d, xs, h):\n",
    "    f = sy.lambdify(x, d, \"numpy\")\n",
    "    return f(xs-2*h)-8*f(xs-h)+ 8*f(xs+h)-f(xs+2*h) / 12*h"
   ]
  },
  {
   "cell_type": "code",
   "execution_count": 111,
   "metadata": {
    "collapsed": true
   },
   "outputs": [],
   "source": [
    "xs = np.linspace(-np.pi, np.pi, 50)"
   ]
  },
  {
   "cell_type": "code",
   "execution_count": 114,
   "metadata": {},
   "outputs": [
    {
     "data": {
      "text/plain": [
       "array([  1.05807054,   1.30922753,   1.58914359,   1.87158386,\n",
       "         2.0968717 ,   2.15640367,   1.88695414,   1.09700812,\n",
       "        -0.34949909,  -2.39623768,  -4.69325533,  -6.79170184,\n",
       "       -13.21973908,   0.68451083,   0.0549348 ,   0.13143438,\n",
       "         0.25746673,   0.38490431,   0.50729806,   0.62046748,\n",
       "         0.71875075,   0.79583383,   0.84587523,   0.86393494,\n",
       "         0.84568244,   0.78694905,   0.68391642,   0.53451833,\n",
       "         0.34102818,   0.1129627 ,  -0.13132123,  -0.36606152,\n",
       "        -0.56320635,  -0.6997825 ,  -0.76429197,  -0.75899312,\n",
       "        -0.69717493,  -0.5973102 ,  -0.47718869,  -0.35024249,\n",
       "        -0.22448192,  -0.10318893,   0.01375728,   0.12869059,\n",
       "         0.2454039 ,   0.36881144,   0.50485011,   0.66036483,\n",
       "         0.84263867,   1.05807054])"
      ]
     },
     "execution_count": 114,
     "metadata": {},
     "output_type": "execute_result"
    }
   ],
   "source": [
    "forward_1(expr, xs, 0.01)\n",
    "forward_2(d, xs, 0.01)\n",
    "bkwd_1(d, xs, 0.01)\n",
    "bkwd_2(d, xs, 0.01)\n",
    "center_2(d, xs, 0.01)\n",
    "center_4(d,xs,0.01)"
   ]
  },
  {
   "cell_type": "code",
   "execution_count": 4,
   "metadata": {},
   "outputs": [],
   "source": [
    "def build(diff_fn, fn, x_vals, h):\n",
    "\n",
    "    return diff_fn(fn,x_vals, h)\n",
    "\n",
    "def plot_convergence(pt):\n",
    "\n",
    "    f = lambda x: (np.sin(x) + 1)**(np.sin(np.cos(x)))\n",
    "\n",
    "    h_vals = np.logspace(-3, 0, 10)\n",
    "    y_vals = np.empty((10,6))\n",
    "\n",
    "    labels = ['1 forward', '2 forward', '1 backward', '2 backward', '1 centered', '2 centered']\n",
    "\n",
    "    for i in range(10):\n",
    "        t = build(forward_1, f, pt, h_vals[i] )\n",
    "        y_vals[i][0] = build(forward_1, f, pt, h_vals[i] )\n",
    "        y_vals[i][1] = build(forward_2, f, pt, h_vals[i] )\n",
    "        y_vals[i][2] = build(backward_1, f, pt, h_vals[i] )\n",
    "        y_vals[i][3] = build(backward_2, f, pt, h_vals[i] )\n",
    "        y_vals[i][4] = build(centered_1, f, pt, h_vals[i] )\n",
    "        y_vals[i][5] = build(centered_2, f, pt, h_vals[i] )\n",
    "\n",
    "    for i in range(6):\n",
    "        l = \"Order \" + labels[i]\n",
    "        plt.loglog(h_vals, y_vals[:,i], label=l, marker=\"o\")\n",
    "\n",
    "\n",
    "    plt.legend()\n",
    "    plt.ylabel(\"Absolute error\")\n",
    "    plt.xlabel(\"h\")\n",
    "    plt.title(\"Convergence through time\")"
   ]
  },
  {
   "cell_type": "code",
   "execution_count": 12,
   "metadata": {},
   "outputs": [
    {
     "name": "stdout",
     "output_type": "stream",
     "text": [
      "[ 23.21210031  47.00103938  48.99880514  50.09944163  48.29035084\n",
      "  51.56455905  53.92303355  25.75740028]\n"
     ]
    }
   ],
   "source": [
    "# 4\n",
    "d = np.load('plane.npy')\n",
    "\n",
    "ALPHA = 1\n",
    "BETA = 2\n",
    "d_rad = np.copy(d)\n",
    "d_rad[:,ALPHA] = np.deg2rad(d[:,ALPHA])\n",
    "d_rad[:,BETA] = np.deg2rad(d[:,BETA])\n",
    "x_t = 500 * np.tan(d_rad[:,BETA]) / (np.tan(d_rad[:,BETA]) - np.tan(d_rad[:,ALPHA]))\n",
    "y_t = 500 * np.tan(d_rad[:,BETA])*np.tan(d_rad[:,ALPHA]) / (np.tan(d_rad[:,BETA]) - np.tan(d_rad[:,ALPHA]))\n",
    "\n",
    "x_t_p1 = np.append(x_t[1:], [0])\n",
    "x_t_m1 = np.append([0], x_t[:-1])\n",
    "y_t_p1 = np.append(y_t[1:], [0])\n",
    "y_t_m1 = np.append([0], y_t[:-1])\n",
    "\n",
    "x_prime = np.empty((d.shape[0]))\n",
    "x_prime[1:-1] = (1/2)*(x_t_p1[1:-1] - x_t_m1[1:-1])\n",
    "x_prime[0] = (1/2)*(x_t_p1[0] - x_t[0])\n",
    "x_prime[-1] = (1/2)*(-x_t_m1[-1] + x_t[-1])\n",
    "\n",
    "y_prime = np.empty((d.shape[0]))\n",
    "y_prime[1:-1] = (1/2)*(y_t_p1[1:-1] - y_t_m1[1:-1])\n",
    "y_prime[0] = (1/2)*(y_t_p1[0] - y_t[0])\n",
    "y_prime[-1] = (1/2)*(-y_t_m1[-1] + y_t[-1])\n",
    "\n",
    "speed = np.sqrt(y_prime**2 + x_prime**2)\n",
    "print(speed)"
   ]
  },
  {
   "cell_type": "code",
   "execution_count": 13,
   "metadata": {
    "collapsed": true
   },
   "outputs": [],
   "source": [
    "# q6\n",
    "def J(f, pt, h):\n",
    "    m = len(f)\n",
    "    n = pt.shape[0]\n",
    "    I = np.identity(n)\n",
    "    J = np.empty((m, n))\n",
    "    for i in range(m):\n",
    "        fn = f[i]\n",
    "        for j in range(n):\n",
    "            J[i,j] = (fn(pt + h*I[:,j]) - fn(pt - h*I[:,j])) / (2*h)\n",
    "    return J"
   ]
  },
  {
   "cell_type": "code",
   "execution_count": 14,
   "metadata": {},
   "outputs": [
    {
     "name": "stdout",
     "output_type": "stream",
     "text": [
      "[[ 1.99999999  0.        ]\n",
      " [ 2.99999999 -0.99999999]]\n"
     ]
    }
   ],
   "source": [
    "fn1 = lambda vec: vec[0]**2\n",
    "fn2 = lambda vec: vec[0]**3 - vec[1] \n",
    "fn = [fn1, fn2]\n",
    "pt = np.array([1,2])\n",
    "fn_J = J(fn, pt, .00000001)\n",
    "print(fn_J)"
   ]
  },
  {
   "cell_type": "code",
   "execution_count": 17,
   "metadata": {},
   "outputs": [
    {
     "ename": "NameError",
     "evalue": "name 'timeit' is not defined",
     "output_type": "error",
     "traceback": [
      "\u001b[1;31m---------------------------------------------------------------------------\u001b[0m",
      "\u001b[1;31mNameError\u001b[0m                                 Traceback (most recent call last)",
      "\u001b[1;32m<ipython-input-17-13f799e786f0>\u001b[0m in \u001b[0;36m<module>\u001b[1;34m()\u001b[0m\n\u001b[0;32m     39\u001b[0m         \u001b[1;32mreturn\u001b[0m \u001b[0mdata_2\u001b[0m\u001b[1;33m,\u001b[0m \u001b[0mdata_3\u001b[0m\u001b[1;33m,\u001b[0m \u001b[0mdata_4\u001b[0m\u001b[1;33m\u001b[0m\u001b[0m\n\u001b[0;32m     40\u001b[0m \u001b[1;33m\u001b[0m\u001b[0m\n\u001b[1;32m---> 41\u001b[1;33m \u001b[0mdata_2\u001b[0m\u001b[1;33m,\u001b[0m \u001b[0mdata_3\u001b[0m\u001b[1;33m,\u001b[0m \u001b[0mdata_4\u001b[0m  \u001b[1;33m=\u001b[0m \u001b[0mexperiment\u001b[0m\u001b[1;33m(\u001b[0m\u001b[1;36m200\u001b[0m\u001b[1;33m)\u001b[0m\u001b[1;33m\u001b[0m\u001b[0m\n\u001b[0m\u001b[0;32m     42\u001b[0m \u001b[0mplt\u001b[0m\u001b[1;33m.\u001b[0m\u001b[0mloglog\u001b[0m\u001b[1;33m(\u001b[0m\u001b[0mdata_2\u001b[0m\u001b[1;33m[\u001b[0m\u001b[1;33m:\u001b[0m\u001b[1;33m,\u001b[0m\u001b[1;36m1\u001b[0m\u001b[1;33m]\u001b[0m\u001b[1;33m,\u001b[0m \u001b[0mdata_2\u001b[0m\u001b[1;33m[\u001b[0m\u001b[1;33m:\u001b[0m\u001b[1;33m,\u001b[0m\u001b[1;36m0\u001b[0m\u001b[1;33m]\u001b[0m\u001b[1;33m,\u001b[0m \u001b[0mlinestyle\u001b[0m\u001b[1;33m=\u001b[0m\u001b[1;34m\"None\"\u001b[0m\u001b[1;33m,\u001b[0m \u001b[0malpha\u001b[0m\u001b[1;33m=\u001b[0m\u001b[1;36m0.4\u001b[0m\u001b[1;33m,\u001b[0m \u001b[0mlabel\u001b[0m\u001b[1;33m=\u001b[0m\u001b[1;34m'SymPy'\u001b[0m\u001b[1;33m,\u001b[0m \u001b[0mmarker\u001b[0m\u001b[1;33m=\u001b[0m\u001b[1;34m'o'\u001b[0m \u001b[1;33m)\u001b[0m\u001b[1;33m\u001b[0m\u001b[0m\n\u001b[0;32m     43\u001b[0m \u001b[0mplt\u001b[0m\u001b[1;33m.\u001b[0m\u001b[0mloglog\u001b[0m\u001b[1;33m(\u001b[0m\u001b[0mdata_3\u001b[0m\u001b[1;33m[\u001b[0m\u001b[1;33m:\u001b[0m\u001b[1;33m,\u001b[0m\u001b[1;36m1\u001b[0m\u001b[1;33m]\u001b[0m\u001b[1;33m,\u001b[0m \u001b[0mdata_3\u001b[0m\u001b[1;33m[\u001b[0m\u001b[1;33m:\u001b[0m\u001b[1;33m,\u001b[0m\u001b[1;36m0\u001b[0m\u001b[1;33m]\u001b[0m\u001b[1;33m,\u001b[0m \u001b[0mlinestyle\u001b[0m\u001b[1;33m=\u001b[0m\u001b[1;34m\"None\"\u001b[0m\u001b[1;33m,\u001b[0m \u001b[0malpha\u001b[0m\u001b[1;33m=\u001b[0m\u001b[1;36m0.4\u001b[0m\u001b[1;33m,\u001b[0m \u001b[0mlabel\u001b[0m\u001b[1;33m=\u001b[0m\u001b[1;34m'Diff quot'\u001b[0m\u001b[1;33m,\u001b[0m \u001b[0mmarker\u001b[0m\u001b[1;33m=\u001b[0m\u001b[1;34m'o'\u001b[0m \u001b[1;33m)\u001b[0m\u001b[1;33m\u001b[0m\u001b[0m\n",
      "\u001b[1;32m<ipython-input-17-13f799e786f0>\u001b[0m in \u001b[0;36mexperiment\u001b[1;34m(N)\u001b[0m\n\u001b[0;32m     12\u001b[0m \u001b[1;33m\u001b[0m\u001b[0m\n\u001b[0;32m     13\u001b[0m                 \u001b[1;31m# (2):\u001b[0m\u001b[1;33m\u001b[0m\u001b[1;33m\u001b[0m\u001b[0m\n\u001b[1;32m---> 14\u001b[1;33m                 \u001b[0mstart\u001b[0m \u001b[1;33m=\u001b[0m \u001b[0mtimeit\u001b[0m\u001b[1;33m.\u001b[0m\u001b[0mdefault_timer\u001b[0m\u001b[1;33m(\u001b[0m\u001b[1;33m)\u001b[0m\u001b[1;33m\u001b[0m\u001b[0m\n\u001b[0m\u001b[0;32m     15\u001b[0m                 \u001b[0mf_prime\u001b[0m \u001b[1;33m=\u001b[0m \u001b[0msym_diff\u001b[0m\u001b[1;33m(\u001b[0m\u001b[1;33m)\u001b[0m\u001b[1;33m\u001b[0m\u001b[0m\n\u001b[0;32m     16\u001b[0m                 \u001b[0mf_prime_2\u001b[0m \u001b[1;33m=\u001b[0m \u001b[0mf_prime\u001b[0m\u001b[1;33m(\u001b[0m\u001b[0mx_0\u001b[0m\u001b[1;33m)\u001b[0m\u001b[1;33m\u001b[0m\u001b[0m\n",
      "\u001b[1;31mNameError\u001b[0m: name 'timeit' is not defined"
     ]
    }
   ],
   "source": []
  },
  {
   "cell_type": "code",
   "execution_count": 18,
   "metadata": {
    "collapsed": true
   },
   "outputs": [],
   "source": [
    "# Integration\n",
    "# 1\n",
    "def newton_cotes(g, a, b, N, method = \"midpoint\"):\n",
    "    '''\n",
    "    g: a function of x\n",
    "    a, b: lower and upper bound of integration\n",
    "    N: number of intervals cutted\n",
    "    method: \\in {\"midpoint\", \"trapezoid\", \"Simpsons\"}\n",
    "    '''\n",
    "    \n",
    "    if method == \"midpoint\":\n",
    "        # Since there are N intervals, there should be N midpoints\n",
    "        midpoints = np.zeros(N)\n",
    "        temp = 0\n",
    "        for i in range(N):\n",
    "            midpoints[i] = a + (2*i+1)*(b-a)/(2*N)\n",
    "            temp += g(midpoints[i])    \n",
    "        result = (b-a)/N * temp\n",
    "    elif method == \"trapezoid\":\n",
    "        # N intervals would yield N+1 points\n",
    "        endpoints = np.zeros(N+1)\n",
    "        for i in range(N+1):\n",
    "            endpoints[i] = a + (b-a)*i/N\n",
    "        temp = 0\n",
    "        for i in range(1, N):\n",
    "            temp += g(endpoints[i])\n",
    "        result = (b-a)/(2*N)*(g(a) + 2 * temp + g(b))\n",
    "    elif method == \"Simpsons\":\n",
    "        #For N intervals there are N+1 endpoints and N sample points\n",
    "        samplepoints = np.zeros(2*N+1)\n",
    "        for i in range(2*N+1):\n",
    "            samplepoints[i] = a + i *(b-a) / (2*N) \n",
    "        temp = 0\n",
    "        for i in range(1, 2*N):\n",
    "            # loop from i = 1 to 2N-1\n",
    "            if i%2 == 1:\n",
    "                # if i is odd\n",
    "                temp += 4*g(samplepoints[i])\n",
    "            else:\n",
    "                # i is even\n",
    "                temp += 2*g(samplepoints[i])\n",
    "        result = (b-a)/3/(2*N)*(g(a) + temp + g(b))\n",
    "        # note that the distance h between two points is (b-a)/(2N)\n",
    "    else:\n",
    "        raise ValueError\n",
    "    return result"
   ]
  },
  {
   "cell_type": "code",
   "execution_count": 19,
   "metadata": {},
   "outputs": [
    {
     "name": "stdout",
     "output_type": "stream",
     "text": [
      "4371.96476\n"
     ]
    }
   ],
   "source": [
    "g = lambda x : 0.1 * x**4 - 1.5 * x**3 + 0.53 * x**2 + 2*x +1\n",
    "print(newton_cotes(g, -10, +10, 100))"
   ]
  },
  {
   "cell_type": "code",
   "execution_count": 20,
   "metadata": {
    "collapsed": true
   },
   "outputs": [],
   "source": [
    "# q2\n",
    "from scipy.stats import norm\n",
    "def normal_approximation(mu, sigma, N, k):\n",
    "    nodes = np.linspace(mu-k*sigma, mu+k*sigma, N)\n",
    "    weights = np.ones(N)\n",
    "    # N must be greater than or equal to 2\n",
    "    weights[0] = norm.cdf((nodes[0]+nodes[1])/2, mu, sigma)\n",
    "    weights[-1] = 1-norm.cdf((nodes[-1]+nodes[-2])/2, mu, sigma)\n",
    "    \n",
    "    pdf = lambda x : 1/ np.sqrt(2*np.pi * sigma**2)*np.exp(-(x-mu)**2/(2*sigma**2))\n",
    "    for i in range(1, N-1):\n",
    "        zmin = (nodes[i-1]+nodes[i])/2\n",
    "        zmax = (nodes[i]+nodes[i+1])/2\n",
    "        weights[i] = newton_cotes(pdf, zmin, zmax, 400, method = \"Simpsons\")\n",
    "        \n",
    "    return nodes, weights"
   ]
  },
  {
   "cell_type": "code",
   "execution_count": 24,
   "metadata": {},
   "outputs": [
    {
     "data": {
      "image/png": "[encoded data removed]",
      "text/plain": [
       "<matplotlib.figure.Figure at 0x1f223ce8eb8>"
      ]
     },
     "metadata": {},
     "output_type": "display_data"
    }
   ],
   "source": [
    "x,y = normal_approximation(0, 1, 20, 3)\n",
    "plt.plot(x, y)\n",
    "plt.show()"
   ]
  },
  {
   "cell_type": "code",
   "execution_count": null,
   "metadata": {
    "collapsed": true
   },
   "outputs": [],
   "source": []
  }
 ],
 "metadata": {
  "kernelspec": {
   "display_name": "Python 3",
   "language": "python",
   "name": "python3"
  },
  "language_info": {
   "codemirror_mode": {
    "name": "ipython",
    "version": 3
   },
   "file_extension": ".py",
   "mimetype": "text/x-python",
   "name": "python",
   "nbconvert_exporter": "python",
   "pygments_lexer": "ipython3",
   "version": "3.6.1"
  }
 },
 "nbformat": 4,
 "nbformat_minor": 2
}
