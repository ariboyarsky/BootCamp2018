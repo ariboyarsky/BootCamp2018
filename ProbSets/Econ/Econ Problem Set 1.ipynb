{
 "cells": [
  {
   "cell_type": "markdown",
   "metadata": {},
   "source": [
    "# Econ Problem Set 1\n",
    "\n",
    "## Ari Boyarsky"
   ]
  },
  {
   "cell_type": "code",
   "execution_count": 3,
   "metadata": {
    "collapsed": true
   },
   "outputs": [],
   "source": [
    "# Import packages\n",
    "import numpy as np\n",
    "import matplotlib.pyplot as plt\n",
    "\n",
    "# to print plots inline\n",
    "%matplotlib inline"
   ]
  },
  {
   "cell_type": "markdown",
   "metadata": {},
   "source": [
    "# Question 1"
   ]
  },
  {
   "cell_type": "markdown",
   "metadata": {},
   "source": [
    "### Problem 1\n",
    "State Variables: $z_t, k_t$\n",
    "\n",
    "### Problem 2\n",
    "State Variables: $c_t, k_{t+1}$\n",
    "\n",
    "### Problem 3\n",
    "Bellman: $V(z_t, k_t) = \\max u(c_t) + \\beta \\mathbb{E}V(z_{t+1}, k_{t+1})$ s.t. $zk^\\alpha - c - k' + (1-\\delta)k = 0$\n",
    "\n",
    "### Problem 4\n",
    "### Solution\n",
    "\n",
    "$\\mathcal{L} =\\sum_t \\beta^t u(c_t) - \\sum_t \\lambda_t\\beta^t[z_tk_t^\\alpha - c_t - k_{t+1} + (1-\\delta)k_t]$\n",
    "\n",
    "Then, \n",
    "\n",
    "$\\mathcal{L} =\\sum_t \\beta^t u(c) - \\sum_t \\lambda_t\\beta^t[zk^\\alpha - c - k' + (1-\\delta)k]$\n",
    "\n",
    "FOC:\n",
    "\n",
    "$\\beta^tc^{-\\gamma} = - \\lambda_t$\n",
    "$\\beta^tc^{-\\gamma} = "
   ]
  },
  {
   "cell_type": "code",
   "execution_count": 33,
   "metadata": {
    "collapsed": true
   },
   "outputs": [],
   "source": [
    "gamma = 0.5\n",
    "beta = 0.96\n",
    "delta = 0.05\n",
    "alpha = 0.4\n",
    "sigma = 0.2"
   ]
  },
  {
   "cell_type": "code",
   "execution_count": 40,
   "metadata": {
    "collapsed": true
   },
   "outputs": [],
   "source": [
    "# Set up Grid\n",
    "\n",
    "'''\n",
    "------------------------------------------------------------------------\n",
    "Create Grid for State Space    \n",
    "------------------------------------------------------------------------\n",
    "lb_k      = scalar, lower bound of capital grid\n",
    "ub_k      = scalar, upper bound of capital grid \n",
    "lb_z      = scalar, lower bound of z grid\n",
    "ub_z      = scalar, upper bound of z grid  \n",
    "------------------------------------------------------------------------\n",
    "'''\n",
    "\n",
    "lb_k = 10 # k around steady state\n",
    "ub_k = 13\n",
    "size_z = 60  # Number of grid points\n",
    "size_k = 60  # Number of grid points\n",
    "k_grid = np.linspace(lb_k, ub_k, size_k)\n",
    "\n",
    "'''\n",
    "------------------------------------------------------------------------\n",
    "Create grid of current utility values    \n",
    "------------------------------------------------------------------------\n",
    "'''\n",
    "import ar1_approx as ar1\n",
    "z_t, pi_t = ar1.addacooper(size_z, 0, 0, sigma)\n",
    "z_grid = np.exp(z_t)\n",
    "pi = np.transpose(pi_t)\n",
    "\n",
    "\n",
    "C = np.zeros((size_k, size_k, size_z)) \n",
    "for i in range(size_k): # loop over k\n",
    "    for j in range(size_k): # loop over k+1\n",
    "        for n in range(size_z): # loop over z\n",
    "            curr_k = k_grid[i]\n",
    "            nxt_k = k_grid[j]\n",
    "            C[i,j,n] = z_grid[n]*(curr_k**alpha) - nxt_k + (1 - delta)*curr_k\n",
    "            \n",
    "C[C<=0] = 1e-15\n",
    "if sigma == 1:\n",
    "    U = np.log(C)\n",
    "else:\n",
    "    U = (C ** (1 - gamma)) / (1 - gamma)\n",
    "U[C<0] = -9999999\n",
    "\n"
   ]
  },
  {
   "cell_type": "code",
   "execution_count": 42,
   "metadata": {},
   "outputs": [
    {
     "name": "stdout",
     "output_type": "stream",
     "text": [
      "Value function converged after this many iterations: 423\n"
     ]
    }
   ],
   "source": [
    "'''\n",
    "------------------------------------------------------------------------\n",
    "Value Function Iteration    \n",
    "------------------------------------------------------------------------\n",
    "'''\n",
    "VFtol = 1e-7\n",
    "VFdist = 7.0 \n",
    "VFmaxiter = 1000\n",
    "V = np.zeros((size_k, size_z)) # initial guess at value function\n",
    "Vmat = np.zeros((size_k, size_k, size_z)) # initialize Vmat matrix\n",
    "Vstore = np.zeros((size_k, size_z, VFmaxiter)) #initialize Vstore array\n",
    "VFiter = 1 \n",
    "while VFdist > VFtol and VFiter < VFmaxiter:  \n",
    "    for i in range(size_k): # loop over k\n",
    "        for j in range(size_k): # loop over k+1\n",
    "            for n in range(size_z): # loop over z\n",
    "                EV = 0\n",
    "                for qq in range(size_z): # get expecatation\n",
    "                    EV += pi_t[n, qq] * V[j, qq] \n",
    "                Vmat[i,j,n] = U[i,j,n] + beta*EV\n",
    "      \n",
    "    Vstore[:,:, VFiter] = V.reshape(size_k, size_z,) # store value function at each iteration for graphing later\n",
    "    TV = Vmat.max(1) # apply max operator over k_t+1\n",
    "    PF = np.argmax(Vmat, axis=1)\n",
    "    VFdist = (np.absolute(V - TV)).max()  # check distance\n",
    "    # print(\"VFdist = {} at iteration {}\".format(VFdist, VFiter))\n",
    "    V = TV\n",
    "    VFiter += 1\n",
    "    \n",
    "\n",
    "\n",
    "if VFiter < VFmaxiter:\n",
    "    print('Value function converged after this many iterations:', VFiter)\n",
    "else:\n",
    "    print('Value function did not converge')            \n",
    "\n",
    "\n",
    "VF = V # solution to the functional equation"
   ]
  },
  {
   "cell_type": "code",
   "execution_count": 44,
   "metadata": {},
   "outputs": [
    {
     "data": {
      "text/plain": [
       "<matplotlib.figure.Figure at 0x207f4c06400>"
      ]
     },
     "metadata": {},
     "output_type": "display_data"
    },
    {
     "data": {
      "image/png": "[encoded data removed]",
      "text/plain": [
       "<matplotlib.figure.Figure at 0x207f3295240>"
      ]
     },
     "metadata": {},
     "output_type": "display_data"
    }
   ],
   "source": [
    "# Plot value function \n",
    "plt.figure()\n",
    "fig, ax = plt.subplots()\n",
    "ax.plot(k_grid[1:], VF[1:, 0], label='$z$ = ' + str(z_grid[0]))\n",
    "ax.plot(k_grid[1:], VF[1:, 5], label='$z$ = ' + str(z_grid[5]))\n",
    "ax.plot(k_grid[1:], VF[1:, 10], label='$z$ = ' + str(z_grid[10]))\n",
    "ax.plot(k_grid[1:], VF[1:, 15], label='$z$ = ' + str(z_grid[15]))\n",
    "# Now add the legend with some customizations.\n",
    "legend = ax.legend(loc='lower right', shadow=False)\n",
    "# Set the fontsize\n",
    "for label in legend.get_texts():\n",
    "    label.set_fontsize('large')\n",
    "for label in legend.get_lines():\n",
    "    label.set_linewidth(1.5)  # the legend line width\n",
    "plt.xlabel('K')\n",
    "plt.ylabel('Value Function')\n",
    "plt.title('Value Function - deterministic cake eating')\n",
    "plt.show()"
   ]
  },
  {
   "cell_type": "code",
   "execution_count": 46,
   "metadata": {},
   "outputs": [
    {
     "data": {
      "text/plain": [
       "<matplotlib.figure.Figure at 0x207f2018518>"
      ]
     },
     "metadata": {},
     "output_type": "display_data"
    },
    {
     "data": {
      "image/png": "[encoded data removed]",
      "text/plain": [
       "<matplotlib.figure.Figure at 0x207f2018470>"
      ]
     },
     "metadata": {},
     "output_type": "display_data"
    }
   ],
   "source": [
    "optK = k_grid[PF]\n",
    "optC = z_grid*(k_grid**alpha) - optK + (1 - delta)*k_grid\n",
    "plt.figure()\n",
    "fig, ax = plt.subplots()\n",
    "ax.plot(k_grid[:], optC[:][10])\n",
    "# Now add the legend with some customizations.\n",
    "plt.xlabel('K')\n",
    "plt.ylabel('Optimal C')\n",
    "plt.title('Policy Function')\n",
    "plt.show()"
   ]
  },
  {
   "cell_type": "code",
   "execution_count": 48,
   "metadata": {},
   "outputs": [
    {
     "data": {
      "text/plain": [
       "<matplotlib.figure.Figure at 0x207efd5be48>"
      ]
     },
     "metadata": {},
     "output_type": "display_data"
    },
    {
     "data": {
      "image/png": "[encoded data removed]",
      "text/plain": [
       "<matplotlib.figure.Figure at 0x207f4be86a0>"
      ]
     },
     "metadata": {},
     "output_type": "display_data"
    }
   ],
   "source": [
    "optK = k_grid[PF]\n",
    "plt.figure()\n",
    "fig, ax = plt.subplots()\n",
    "ax.plot(k_grid[:], optK[:][10])\n",
    "# Now add the legend with some customizations.\n",
    "plt.xlabel('K')\n",
    "plt.ylabel('Optimal K+1')\n",
    "plt.title('Policy Function')\n",
    "plt.show()"
   ]
  },
  {
   "cell_type": "markdown",
   "metadata": {},
   "source": [
    "# Question 3\n",
    "\n",
    "### Problem 3\n",
    "Bellman: $V(z_t, k_t) = \\max u(c_t) + \\beta \\mathbb{E}[V(z_{t+1}, k_{t+1})|z_t]$ s.t. $zk^\\alpha - c - k' + (1-\\delta)k = 0$"
   ]
  },
  {
   "cell_type": "code",
   "execution_count": 50,
   "metadata": {
    "collapsed": true
   },
   "outputs": [],
   "source": [
    "gamma = 0.5\n",
    "beta = 0.96\n",
    "delta = 0.05\n",
    "alpha = 0.4\n",
    "rho = 0.8\n",
    "sigma_v = 0.1"
   ]
  },
  {
   "cell_type": "code",
   "execution_count": 51,
   "metadata": {
    "collapsed": true,
    "scrolled": true
   },
   "outputs": [],
   "source": [
    "# Set up Grid\n",
    "\n",
    "'''\n",
    "------------------------------------------------------------------------\n",
    "Create Grid for State Space    \n",
    "------------------------------------------------------------------------\n",
    "lb_k      = scalar, lower bound of capital grid\n",
    "ub_k      = scalar, upper bound of capital grid \n",
    "lb_z      = scalar, lower bound of z grid\n",
    "ub_z      = scalar, upper bound of z grid  \n",
    "------------------------------------------------------------------------\n",
    "'''\n",
    "\n",
    "lb_k = 10 # k around steady state\n",
    "ub_k = 13\n",
    "size_z = 60  # Number of grid points\n",
    "size_k = 60  # Number of grid points\n",
    "k_grid = np.linspace(lb_k, ub_k, size_k)\n",
    "\n",
    "'''\n",
    "------------------------------------------------------------------------\n",
    "Create grid of current utility values    \n",
    "------------------------------------------------------------------------\n",
    "'''\n",
    "import ar1_approx as ar1\n",
    "z_t, pi_t = ar1.addacooper(size_z, 0, rho, sigma_v)\n",
    "z_grid = np.exp(z_t)\n",
    "pi = np.transpose(pi_t)\n",
    "\n",
    "\n",
    "C = np.zeros((size_k, size_k, size_z)) \n",
    "for i in range(size_k): # loop over k\n",
    "    for j in range(size_k): # loop over k+1\n",
    "        for n in range(size_z): # loop over z\n",
    "            curr_k = k_grid[i]\n",
    "            nxt_k = k_grid[j]\n",
    "            C[i,j,n] = z_grid[n]*(curr_k**alpha) - nxt_k + (1 - delta)*curr_k\n",
    "            \n",
    "C[C<=0] = 1e-15\n",
    "if sigma == 1:\n",
    "    U = np.log(C)\n",
    "else:\n",
    "    U = (C ** (1 - gamma)) / (1 - gamma)\n",
    "U[C<0] = -9999999\n",
    "\n"
   ]
  },
  {
   "cell_type": "code",
   "execution_count": 52,
   "metadata": {},
   "outputs": [
    {
     "name": "stdout",
     "output_type": "stream",
     "text": [
      "VFdist = 5.127491482346631 at iteration 1\n",
      "VFdist = 3.5030844368971614 at iteration 2\n",
      "VFdist = 3.1815059604401785 at iteration 3\n",
      "VFdist = 2.9471218282676173 at iteration 4\n",
      "VFdist = 2.7508040660888256 at iteration 5\n",
      "VFdist = 2.5802933192104796 at iteration 6\n",
      "VFdist = 2.431172649850101 at iteration 7\n",
      "VFdist = 2.298704962272769 at iteration 8\n",
      "VFdist = 2.1796472428276346 at iteration 9\n",
      "VFdist = 2.071557413144948 at iteration 10\n",
      "VFdist = 1.9725578058553097 at iteration 11\n",
      "VFdist = 1.881186773190965 at iteration 12\n",
      "VFdist = 1.7962971538942227 at iteration 13\n",
      "VFdist = 1.7169825801134806 at iteration 14\n",
      "VFdist = 1.6425220065304487 at iteration 15\n",
      "VFdist = 1.5723378824936276 at iteration 16\n",
      "VFdist = 1.5059638919536127 at iteration 17\n",
      "VFdist = 1.4430206531657603 at iteration 18\n",
      "VFdist = 1.38319589570645 at iteration 19\n",
      "VFdist = 1.326229917940509 at iteration 20\n",
      "VFdist = 1.2719042179333755 at iteration 21\n",
      "VFdist = 1.2200326453573354 at iteration 22\n",
      "VFdist = 1.170454649454662 at iteration 23\n",
      "VFdist = 1.1230300932571566 at iteration 24\n",
      "VFdist = 1.0776352822534676 at iteration 25\n",
      "VFdist = 1.0341598048001828 at iteration 26\n",
      "VFdist = 0.9925041415806959 at iteration 27\n",
      "VFdist = 0.9525777884807454 at iteration 28\n",
      "VFdist = 0.9142977744986922 at iteration 29\n",
      "VFdist = 0.8775874856044794 at iteration 30\n",
      "VFdist = 0.8423757317414484 at iteration 31\n",
      "VFdist = 0.8085960083486299 at iteration 32\n",
      "VFdist = 0.7761859047482602 at iteration 33\n",
      "VFdist = 0.7450866245555403 at iteration 34\n",
      "VFdist = 0.7152425970687091 at iteration 35\n",
      "VFdist = 0.6866011576633753 at iteration 36\n",
      "VFdist = 0.6591122826839779 at iteration 37\n",
      "VFdist = 0.6327283672014303 at iteration 38\n",
      "VFdist = 0.6074040372060523 at iteration 39\n",
      "VFdist = 0.5830959893202845 at iteration 40\n",
      "VFdist = 0.5597628524222955 at iteration 41\n",
      "VFdist = 0.5373650666559087 at iteration 42\n",
      "VFdist = 0.515864776954146 at iteration 43\n",
      "VFdist = 0.4952257383982328 at iteration 44\n",
      "VFdist = 0.475413230990668 at iteration 45\n",
      "VFdist = 0.45639398229057804 at iteration 46\n",
      "VFdist = 0.4381360967162067 at iteration 47\n",
      "VFdist = 0.42060899047169187 at iteration 48\n",
      "VFdist = 0.40378333125713084 at iteration 49\n",
      "VFdist = 0.38763098208863767 at iteration 50\n",
      "VFdist = 0.37212494869402235 at iteration 51\n",
      "VFdist = 0.3572393300540284 at iteration 52\n",
      "VFdist = 0.34294927173745293 at iteration 53\n",
      "VFdist = 0.32923092174047497 at iteration 54\n",
      "VFdist = 0.31606138859220323 at iteration 55\n",
      "VFdist = 0.3034187015276899 at iteration 56\n",
      "VFdist = 0.2912817725596426 at iteration 57\n",
      "VFdist = 0.27963036030701005 at iteration 58\n",
      "VFdist = 0.2684450354577308 at iteration 59\n",
      "VFdist = 0.25770714775944725 at iteration 60\n",
      "VFdist = 0.2473987944454734 at iteration 61\n",
      "VFdist = 0.23750279001325225 at iteration 62\n",
      "VFdist = 0.2280026372821169 at iteration 63\n",
      "VFdist = 0.21888249966353612 at iteration 64\n",
      "VFdist = 0.2101271745833344 at iteration 65\n",
      "VFdist = 0.20172206800100412 at iteration 66\n",
      "VFdist = 0.19365316997412663 at iteration 67\n",
      "VFdist = 0.1859070312210349 at iteration 68\n",
      "VFdist = 0.17847074063678292 at iteration 69\n",
      "VFdist = 0.17133190372123863 at iteration 70\n",
      "VFdist = 0.16447862187975204 at iteration 71\n",
      "VFdist = 0.15789947255947823 at iteration 72\n",
      "VFdist = 0.15158349018626893 at iteration 73\n",
      "VFdist = 0.14552014786877976 at iteration 74\n",
      "VFdist = 0.1396993398381028 at iteration 75\n",
      "VFdist = 0.13411136459257023 at iteration 76\n",
      "VFdist = 0.1287469087190516 at iteration 77\n",
      "VFdist = 0.12359703136331746 at iteration 78\n",
      "VFdist = 0.11865314932261128 at iteration 79\n",
      "VFdist = 0.11390702273592979 at iteration 80\n",
      "VFdist = 0.10935074134732758 at iteration 81\n",
      "VFdist = 0.10497671131930986 at iteration 82\n",
      "VFdist = 0.10077764257445665 at iteration 83\n",
      "VFdist = 0.09674653664342259 at iteration 84\n",
      "VFdist = 0.09287667499962993 at iteration 85\n",
      "VFdist = 0.08916160786060345 at iteration 86\n",
      "VFdist = 0.08559514343758678 at iteration 87\n",
      "VFdist = 0.08217133761530704 at iteration 88\n",
      "VFdist = 0.07888448404442272 at iteration 89\n",
      "VFdist = 0.0757291046309092 at iteration 90\n",
      "VFdist = 0.0726999404052151 at iteration 91\n",
      "VFdist = 0.06979194275739076 at iteration 92\n",
      "VFdist = 0.06700026502235801 at iteration 93\n",
      "VFdist = 0.0643202544021193 at iteration 94\n",
      "VFdist = 0.061747444212386426 at iteration 95\n",
      "VFdist = 0.05927754643386152 at iteration 96\n",
      "VFdist = 0.05690644456865357 at iteration 97\n",
      "VFdist = 0.054630186779704104 at iteration 98\n",
      "VFdist = 0.05244497930367231 at iteration 99\n",
      "VFdist = 0.05034718012768735 at iteration 100\n",
      "VFdist = 0.04833329291953703 at iteration 101\n",
      "VFdist = 0.046399961200350504 at iteration 102\n",
      "VFdist = 0.0445439627505948 at iteration 103\n",
      "VFdist = 0.0427622042392386 at iteration 104\n",
      "VFdist = 0.04105171606867941 at iteration 105\n",
      "VFdist = 0.03940964742515973 at iteration 106\n",
      "VFdist = 0.03783326152758093 at iteration 107\n",
      "VFdist = 0.03631993106603204 at iteration 108\n",
      "VFdist = 0.03486713382304174 at iteration 109\n",
      "VFdist = 0.03347244846982278 at iteration 110\n",
      "VFdist = 0.03213355053078715 at iteration 111\n",
      "VFdist = 0.030848208509354436 at iteration 112\n",
      "VFdist = 0.029614280168814844 at iteration 113\n",
      "VFdist = 0.028429708961908773 at iteration 114\n",
      "VFdist = 0.027292520603296566 at iteration 115\n",
      "VFdist = 0.0262008197790351 at iteration 116\n",
      "VFdist = 0.02515278698777479 at iteration 117\n",
      "VFdist = 0.024146675508148974 at iteration 118\n",
      "VFdist = 0.02318080848770876 at iteration 119\n",
      "VFdist = 0.02225357614810264 at iteration 120\n",
      "VFdist = 0.02136343310209554 at iteration 121\n",
      "VFdist = 0.020508895777936686 at iteration 122\n",
      "VFdist = 0.01968853994671349 at iteration 123\n",
      "VFdist = 0.01890099834876935 at iteration 124\n",
      "VFdist = 0.01814495841473729 at iteration 125\n",
      "VFdist = 0.0174191600780631 at iteration 126\n",
      "VFdist = 0.016722393674882596 at iteration 127\n",
      "VFdist = 0.016053497927828175 at iteration 128\n",
      "VFdist = 0.015411358010666731 at iteration 129\n",
      "VFdist = 0.014794903690159344 at iteration 130\n",
      "VFdist = 0.014203107542485327 at iteration 131\n",
      "VFdist = 0.013634983240734755 at iteration 132\n",
      "VFdist = 0.013089583911039426 at iteration 133\n",
      "VFdist = 0.012566000554542711 at iteration 134\n",
      "VFdist = 0.012063360532309275 at iteration 135\n",
      "VFdist = 0.011580826110986209 at iteration 136\n",
      "VFdist = 0.011117593066487075 at iteration 137\n",
      "VFdist = 0.010672889343808833 at iteration 138\n",
      "VFdist = 0.010245973769997363 at iteration 139\n",
      "VFdist = 0.009836134819167341 at iteration 140\n",
      "VFdist = 0.009442689426350626 at iteration 141\n",
      "VFdist = 0.009064981849263631 at iteration 142\n",
      "VFdist = 0.008702382575279444 at iteration 143\n",
      "VFdist = 0.008354287272211991 at iteration 144\n",
      "VFdist = 0.008020115781306458 at iteration 145\n",
      "VFdist = 0.007699311150005883 at iteration 146\n",
      "VFdist = 0.007391338703968131 at iteration 147\n",
      "VFdist = 0.007095685155789511 at iteration 148\n",
      "VFdist = 0.00681185774953974 at iteration 149\n",
      "VFdist = 0.006539383439530866 at iteration 150\n",
      "VFdist = 0.006277808101941673 at iteration 151\n",
      "VFdist = 0.006026695777819668 at iteration 152\n",
      "VFdist = 0.005785627946693239 at iteration 153\n",
      "VFdist = 0.005554202828818688 at iteration 154\n",
      "VFdist = 0.005332034715621603 at iteration 155\n",
      "VFdist = 0.005118753326982528 at iteration 156\n",
      "VFdist = 0.004914003193874805 at iteration 157\n",
      "VFdist = 0.0047174430661414135 at iteration 158\n",
      "VFdist = 0.004528745343492346 at iteration 159\n",
      "VFdist = 0.004347595529694104 at iteration 160\n",
      "VFdist = 0.004173691708501792 at iteration 161\n",
      "VFdist = 0.004006744040154331 at iteration 162\n",
      "VFdist = 0.0038464742785322414 at iteration 163\n",
      "VFdist = 0.0036926153073721935 at iteration 164\n",
      "VFdist = 0.0035449106950835585 at iteration 165\n",
      "VFdist = 0.003403114267243268 at iteration 166\n",
      "VFdist = 0.0032669896965416 at iteration 167\n",
      "VFdist = 0.0031363101086725464 at iteration 168\n",
      "VFdist = 0.0030108577043108653 at iteration 169\n",
      "VFdist = 0.00289042339612422 at iteration 170\n",
      "VFdist = 0.002774806460266177 at iteration 171\n",
      "VFdist = 0.0026638142018811095 at iteration 172\n",
      "VFdist = 0.0025572616337683485 at iteration 173\n",
      "VFdist = 0.0024549711684329623 at iteration 174\n",
      "VFdist = 0.0023567723216757486 at iteration 175\n",
      "VFdist = 0.002262501428802466 at iteration 176\n",
      "VFdist = 0.002172001371633314 at iteration 177\n",
      "VFdist = 0.002085121316781624 at iteration 178\n",
      "VFdist = 0.002001716464093306 at iteration 179\n",
      "VFdist = 0.0019216478055312791 at iteration 180\n",
      "VFdist = 0.0018447818933111648 at iteration 181\n"
     ]
    },
    {
     "name": "stdout",
     "output_type": "stream",
     "text": [
      "VFdist = 0.0017709906175582546 at iteration 182\n",
      "VFdist = 0.001700150992846261 at iteration 183\n",
      "VFdist = 0.0016321449531488952 at iteration 184\n",
      "VFdist = 0.0015668591550337396 at iteration 185\n",
      "VFdist = 0.001504184788828411 at iteration 186\n",
      "VFdist = 0.0014440173972616321 at iteration 187\n",
      "VFdist = 0.001386256701366051 at iteration 188\n",
      "VFdist = 0.0013308064332875347 at iteration 189\n",
      "VFdist = 0.001277574175958307 at iteration 190\n",
      "VFdist = 0.001226471208951807 at iteration 191\n",
      "VFdist = 0.0011774123605761133 at iteration 192\n",
      "VFdist = 0.0011303158661490897 at iteration 193\n",
      "VFdist = 0.0010851032315031262 at iteration 194\n",
      "VFdist = 0.0010416991022594857 at iteration 195\n",
      "VFdist = 0.0010000311381475058 at iteration 196\n",
      "VFdist = 0.0009600298926244477 at iteration 197\n",
      "VFdist = 0.0009216286969149223 at iteration 198\n",
      "VFdist = 0.0008847635490383254 at iteration 199\n",
      "VFdist = 0.0008493730070853189 at iteration 200\n",
      "VFdist = 0.0008153980868002009 at iteration 201\n",
      "VFdist = 0.0007827821633412668 at iteration 202\n",
      "VFdist = 0.0007514708767928369 at iteration 203\n",
      "VFdist = 0.000721412041741587 at iteration 204\n",
      "VFdist = 0.0006925555600645339 at iteration 205\n",
      "VFdist = 0.000664853337653426 at iteration 206\n",
      "VFdist = 0.0006382592041660473 at iteration 207\n",
      "VFdist = 0.0006127288359891736 at iteration 208\n",
      "VFdist = 0.000588219682555291 at iteration 209\n",
      "VFdist = 0.0005646908952599006 at iteration 210\n",
      "VFdist = 0.0005421032594341568 at iteration 211\n",
      "VFdist = 0.000520419129074412 at iteration 212\n",
      "VFdist = 0.0004996023639449731 at iteration 213\n",
      "VFdist = 0.00047961826935249974 at iteration 214\n",
      "VFdist = 0.0004604335385778313 at iteration 215\n",
      "VFdist = 0.0004420161970557501 at iteration 216\n",
      "VFdist = 0.00042433554915533023 at iteration 217\n",
      "VFdist = 0.00040736212719139075 at iteration 218\n",
      "VFdist = 0.00039106764211283007 at iteration 219\n",
      "VFdist = 0.0003754249364220641 at iteration 220\n",
      "VFdist = 0.0003604079389845083 at iteration 221\n",
      "VFdist = 0.00034599162142967543 at iteration 222\n",
      "VFdist = 0.0003321519565560038 at iteration 223\n",
      "VFdist = 0.0003188658782988796 at iteration 224\n",
      "VFdist = 0.0003061112431765878 at iteration 225\n",
      "VFdist = 0.00029386679345577704 at iteration 226\n",
      "VFdist = 0.00028211212175222045 at iteration 227\n",
      "VFdist = 0.0002708276368963425 at iteration 228\n",
      "VFdist = 0.0002599945313761509 at iteration 229\n",
      "VFdist = 0.00024959475015862154 at iteration 230\n",
      "VFdist = 0.00023961096012214966 at iteration 231\n",
      "VFdist = 0.0002300265217343167 at iteration 232\n",
      "VFdist = 0.00022082546084334354 at iteration 233\n",
      "VFdist = 0.00021199244243064186 at iteration 234\n",
      "VFdist = 0.00020351274473284775 at iteration 235\n",
      "VFdist = 0.0001953722349412601 at iteration 236\n",
      "VFdist = 0.00018755734554076753 at iteration 237\n",
      "VFdist = 0.0001800550517288002 at iteration 238\n",
      "VFdist = 0.0001728528497011439 at iteration 239\n",
      "VFdist = 0.00016593873567671835 at iteration 240\n",
      "VFdist = 0.00015930118625817613 at iteration 241\n",
      "VFdist = 0.00015292913879250136 at iteration 242\n",
      "VFdist = 0.0001468119732805917 at iteration 243\n",
      "VFdist = 0.0001409394943436837 at iteration 244\n",
      "VFdist = 0.00013530191456823104 at iteration 245\n",
      "VFdist = 0.00012988983799289144 at iteration 246\n",
      "VFdist = 0.0001246942444765864 at iteration 247\n",
      "VFdist = 0.0001197064746918386 at iteration 248\n",
      "VFdist = 0.00011491821574338701 at iteration 249\n",
      "VFdist = 0.00011032148709944067 at iteration 250\n",
      "VFdist = 0.0001059086276029575 at iteration 251\n",
      "VFdist = 0.00010167228251134475 at iteration 252\n",
      "VFdist = 9.76053912182806e-05 at iteration 253\n",
      "VFdist = 9.37011755581807e-05 at iteration 254\n",
      "VFdist = 8.995312856541204e-05 at iteration 255\n",
      "VFdist = 8.635500341824809e-05 at iteration 256\n",
      "VFdist = 8.290080329231841e-05 at iteration 257\n",
      "VFdist = 7.958477114300422e-05 at iteration 258\n",
      "VFdist = 7.640138029785248e-05 at iteration 259\n",
      "VFdist = 7.334532512004444e-05 at iteration 260\n",
      "VFdist = 7.041151211240049e-05 at iteration 261\n",
      "VFdist = 6.759505161824109e-05 at iteration 262\n",
      "VFdist = 6.489124956488013e-05 at iteration 263\n",
      "VFdist = 6.229559957660058e-05 at iteration 264\n",
      "VFdist = 5.98037755992209e-05 at iteration 265\n",
      "VFdist = 5.741162460992655e-05 at iteration 266\n",
      "VFdist = 5.511515961131863e-05 at iteration 267\n",
      "VFdist = 5.291055322231841e-05 at iteration 268\n",
      "VFdist = 5.0794131098541584e-05 at iteration 269\n",
      "VFdist = 4.87623658642633e-05 at iteration 270\n",
      "VFdist = 4.681187121491348e-05 at iteration 271\n",
      "VFdist = 4.493939638905431e-05 at iteration 272\n",
      "VFdist = 4.314182054088178e-05 at iteration 273\n",
      "VFdist = 4.1416147723793983e-05 at iteration 274\n",
      "VFdist = 3.9759501802905106e-05 at iteration 275\n",
      "VFdist = 3.816912175125253e-05 at iteration 276\n",
      "VFdist = 3.6642356874949655e-05 at iteration 277\n",
      "VFdist = 3.517666260677288e-05 at iteration 278\n",
      "VFdist = 3.3769596115007516e-05 at iteration 279\n",
      "VFdist = 3.2418812267565045e-05 at iteration 280\n",
      "VFdist = 3.112205978084148e-05 at iteration 281\n",
      "VFdist = 2.9877177382786613e-05 at iteration 282\n",
      "VFdist = 2.8682090317033726e-05 at iteration 283\n",
      "VFdist = 2.7534806690709956e-05 at iteration 284\n",
      "VFdist = 2.6433414461735083e-05 at iteration 285\n",
      "VFdist = 2.537607788610785e-05 at iteration 286\n",
      "VFdist = 2.4361034761000155e-05 at iteration 287\n",
      "VFdist = 2.3386593355212426e-05 at iteration 288\n",
      "VFdist = 2.2451129638056955e-05 at iteration 289\n",
      "VFdist = 2.1553084465608663e-05 at iteration 290\n",
      "VFdist = 2.0690961093805527e-05 at iteration 291\n",
      "VFdist = 1.9863322648916437e-05 at iteration 292\n",
      "VFdist = 1.9068789754328463e-05 at iteration 293\n",
      "VFdist = 1.830603817154497e-05 at iteration 294\n",
      "VFdist = 1.7573796640135697e-05 at iteration 295\n",
      "VFdist = 1.6870844760319414e-05 at iteration 296\n",
      "VFdist = 1.6196010975022546e-05 at iteration 297\n",
      "VFdist = 1.55481705519378e-05 at iteration 298\n",
      "VFdist = 1.4926243736113065e-05 at iteration 299\n",
      "VFdist = 1.4329194002016266e-05 at iteration 300\n",
      "VFdist = 1.3756026220335116e-05 at iteration 301\n",
      "VFdist = 1.3205785180048224e-05 at iteration 302\n",
      "VFdist = 1.267755376943569e-05 at iteration 303\n",
      "VFdist = 1.2170451654469616e-05 at iteration 304\n",
      "VFdist = 1.1683633573511543e-05 at iteration 305\n",
      "VFdist = 1.1216288228865778e-05 at iteration 306\n",
      "VFdist = 1.0767636695163674e-05 at iteration 307\n",
      "VFdist = 1.0336931254073534e-05 at iteration 308\n",
      "VFdist = 9.923454001636856e-06 at iteration 309\n",
      "VFdist = 9.5265158535085e-06 at iteration 310\n",
      "VFdist = 9.145455223347199e-06 at iteration 311\n",
      "VFdist = 8.779637028055731e-06 at iteration 312\n",
      "VFdist = 8.428451550912541e-06 at iteration 313\n",
      "VFdist = 8.091313503655329e-06 at iteration 314\n",
      "VFdist = 7.76766094645609e-06 at iteration 315\n",
      "VFdist = 7.456954520534964e-06 at iteration 316\n",
      "VFdist = 7.158676325502711e-06 at iteration 317\n",
      "VFdist = 6.872329279872247e-06 at iteration 318\n",
      "VFdist = 6.597436126298817e-06 at iteration 319\n",
      "VFdist = 6.3335386641938385e-06 at iteration 320\n",
      "VFdist = 6.080197124447295e-06 at iteration 321\n",
      "VFdist = 5.836989259933034e-06 at iteration 322\n",
      "VFdist = 5.603509734442014e-06 at iteration 323\n",
      "VFdist = 5.37936929845273e-06 at iteration 324\n",
      "VFdist = 5.1641945475466855e-06 at iteration 325\n",
      "VFdist = 4.95762677132916e-06 at iteration 326\n",
      "VFdist = 4.759321711844677e-06 at iteration 327\n",
      "VFdist = 4.568948838823417e-06 at iteration 328\n",
      "VFdist = 4.386190894933861e-06 at iteration 329\n",
      "VFdist = 4.210743284716045e-06 at iteration 330\n",
      "VFdist = 4.04231354877993e-06 at iteration 331\n",
      "VFdist = 3.880620994323181e-06 at iteration 332\n",
      "VFdist = 3.7253961693295423e-06 at iteration 333\n",
      "VFdist = 3.57638035097807e-06 at iteration 334\n",
      "VFdist = 3.433325090895778e-06 at iteration 335\n",
      "VFdist = 3.2959921014708016e-06 at iteration 336\n",
      "VFdist = 3.1641524316228242e-06 at iteration 337\n",
      "VFdist = 3.0375863389053848e-06 at iteration 338\n",
      "VFdist = 2.9160828916019454e-06 at iteration 339\n",
      "VFdist = 2.7994395566111052e-06 at iteration 340\n",
      "VFdist = 2.687461986283779e-06 at iteration 341\n",
      "VFdist = 2.579963549464992e-06 at iteration 342\n",
      "VFdist = 2.476764976222512e-06 at iteration 343\n",
      "VFdist = 2.377694400479413e-06 at iteration 344\n",
      "VFdist = 2.2825866068387768e-06 at iteration 345\n",
      "VFdist = 2.1912831442705283e-06 at iteration 346\n",
      "VFdist = 2.1036318287315225e-06 at iteration 347\n",
      "VFdist = 2.0194865726352873e-06 at iteration 348\n",
      "VFdist = 1.938707100634929e-06 at iteration 349\n",
      "VFdist = 1.861158835936294e-06 at iteration 350\n",
      "VFdist = 1.7867124739723295e-06 at iteration 351\n"
     ]
    },
    {
     "name": "stdout",
     "output_type": "stream",
     "text": [
      "VFdist = 1.7152439966139355e-06 at iteration 352\n",
      "VFdist = 1.6466342316334703e-06 at iteration 353\n",
      "VFdist = 1.580768866915605e-06 at iteration 354\n",
      "VFdist = 1.5175381378185193e-06 at iteration 355\n",
      "VFdist = 1.4568365855893717e-06 at iteration 356\n",
      "VFdist = 1.3985631284185729e-06 at iteration 357\n",
      "VFdist = 1.3426206351141445e-06 at iteration 358\n",
      "VFdist = 1.2889157829931719e-06 at iteration 359\n",
      "VFdist = 1.2373591715686416e-06 at iteration 360\n",
      "VFdist = 1.187864810958672e-06 at iteration 361\n",
      "VFdist = 1.1403502355733508e-06 at iteration 362\n",
      "VFdist = 1.094736205686786e-06 at iteration 363\n",
      "VFdist = 1.0509467784913795e-06 at iteration 364\n",
      "VFdist = 1.0089089101938953e-06 at iteration 365\n",
      "VFdist = 9.68552555491442e-07 at iteration 366\n",
      "VFdist = 9.298104686195074e-07 at iteration 367\n",
      "VFdist = 8.926180328217015e-07 at iteration 368\n",
      "VFdist = 8.569133456148847e-07 at iteration 369\n",
      "VFdist = 8.226367924635269e-07 at iteration 370\n",
      "VFdist = 7.897313309968013e-07 at iteration 371\n",
      "VFdist = 7.581420646829429e-07 at iteration 372\n",
      "VFdist = 7.278164275703602e-07 at iteration 373\n",
      "VFdist = 6.987037721728484e-07 at iteration 374\n",
      "VFdist = 6.707556252649738e-07 at iteration 375\n",
      "VFdist = 6.439253752432705e-07 at iteration 376\n",
      "VFdist = 6.181684000239329e-07 at iteration 377\n",
      "VFdist = 5.934416265063192e-07 at iteration 378\n",
      "VFdist = 5.697039711094476e-07 at iteration 379\n",
      "VFdist = 5.469158423920817e-07 at iteration 380\n",
      "VFdist = 5.250391978961488e-07 at iteration 381\n",
      "VFdist = 5.040376294118687e-07 at iteration 382\n",
      "VFdist = 4.838761498149324e-07 at iteration 383\n",
      "VFdist = 4.6452109359051974e-07 at iteration 384\n",
      "VFdist = 4.4594025894184597e-07 at iteration 385\n",
      "VFdist = 4.28102666205632e-07 at iteration 386\n",
      "VFdist = 4.1097858627381356e-07 at iteration 387\n",
      "VFdist = 3.945393984849943e-07 at iteration 388\n",
      "VFdist = 3.7875784641983046e-07 at iteration 389\n",
      "VFdist = 3.6360752631026116e-07 at iteration 390\n",
      "VFdist = 3.490632423108764e-07 at iteration 391\n",
      "VFdist = 3.3510072228182253e-07 at iteration 392\n",
      "VFdist = 3.216966888430761e-07 at iteration 393\n",
      "VFdist = 3.088288309527343e-07 at iteration 394\n",
      "VFdist = 2.964757186418865e-07 at iteration 395\n",
      "VFdist = 2.84616632484358e-07 at iteration 396\n",
      "VFdist = 2.732320041332059e-07 at iteration 397\n",
      "VFdist = 2.6230269156712893e-07 at iteration 398\n",
      "VFdist = 2.518106185789293e-07 at iteration 399\n",
      "VFdist = 2.4173819213046954e-07 at iteration 400\n",
      "VFdist = 2.320686576240405e-07 at iteration 401\n",
      "VFdist = 2.2278594258295925e-07 at iteration 402\n",
      "VFdist = 2.1387448612131266e-07 at iteration 403\n",
      "VFdist = 2.053195089501969e-07 at iteration 404\n",
      "VFdist = 1.9710674337147793e-07 at iteration 405\n",
      "VFdist = 1.8922247591035557e-07 at iteration 406\n",
      "VFdist = 1.8165358994792768e-07 at iteration 407\n",
      "VFdist = 1.7438743782349775e-07 at iteration 408\n",
      "VFdist = 1.6741192609970312e-07 at iteration 409\n",
      "VFdist = 1.6071551556251507e-07 at iteration 410\n",
      "VFdist = 1.5428688016072556e-07 at iteration 411\n",
      "VFdist = 1.4811539017500763e-07 at iteration 412\n",
      "VFdist = 1.421907853682569e-07 at iteration 413\n",
      "VFdist = 1.3650313235302747e-07 at iteration 414\n",
      "VFdist = 1.3104303775435255e-07 at iteration 415\n",
      "VFdist = 1.2580132136008615e-07 at iteration 416\n",
      "VFdist = 1.2076927191628783e-07 at iteration 417\n",
      "VFdist = 1.1593851922953036e-07 at iteration 418\n",
      "VFdist = 1.1130096311262605e-07 at iteration 419\n",
      "VFdist = 1.068489297040287e-07 at iteration 420\n",
      "VFdist = 1.0257498672672227e-07 at iteration 421\n",
      "VFdist = 9.847197190993029e-08 at iteration 422\n",
      "VFdist = 9.453312088680832e-08 at iteration 423\n",
      "VFdist = 9.075181139905908e-08 at iteration 424\n",
      "VFdist = 8.712173382718902e-08 at iteration 425\n",
      "VFdist = 8.363684855794418e-08 at iteration 426\n",
      "VFdist = 8.029138598431018e-08 at iteration 427\n",
      "VFdist = 7.707971860781981e-08 at iteration 428\n",
      "VFdist = 7.399655999051902e-08 at iteration 429\n",
      "VFdist = 7.103672317043674e-08 at iteration 430\n",
      "VFdist = 6.819523434842267e-08 at iteration 431\n",
      "VFdist = 6.546743236413022e-08 at iteration 432\n",
      "VFdist = 6.284876974405051e-08 at iteration 433\n",
      "VFdist = 6.033478427980299e-08 at iteration 434\n",
      "VFdist = 5.792142587779381e-08 at iteration 435\n",
      "VFdist = 5.560455917930085e-08 at iteration 436\n",
      "VFdist = 5.338037567526044e-08 at iteration 437\n",
      "VFdist = 5.124515212173719e-08 at iteration 438\n",
      "VFdist = 4.9195378437616455e-08 at iteration 439\n",
      "VFdist = 4.722755875263829e-08 at iteration 440\n",
      "VFdist = 4.533843878107291e-08 at iteration 441\n",
      "VFdist = 4.3524920556592406e-08 at iteration 442\n",
      "VFdist = 4.178392032372358e-08 at iteration 443\n",
      "VFdist = 4.011255327895924e-08 at iteration 444\n",
      "VFdist = 3.850807672733936e-08 at iteration 445\n",
      "VFdist = 3.696780481732276e-08 at iteration 446\n",
      "VFdist = 3.548905169736827e-08 at iteration 447\n",
      "VFdist = 3.4069486787302594e-08 at iteration 448\n",
      "VFdist = 3.27067368743883e-08 at iteration 449\n",
      "VFdist = 3.139845716759737e-08 at iteration 450\n",
      "VFdist = 3.014255867128668e-08 at iteration 451\n",
      "VFdist = 2.893682449212065e-08 at iteration 452\n",
      "VFdist = 2.777933616471273e-08 at iteration 453\n",
      "VFdist = 2.6668161012821656e-08 at iteration 454\n",
      "VFdist = 2.560148004704388e-08 at iteration 455\n",
      "VFdist = 2.4577403223702277e-08 at iteration 456\n",
      "VFdist = 2.3594310505359317e-08 at iteration 457\n",
      "VFdist = 2.2650567643722752e-08 at iteration 458\n",
      "VFdist = 2.1744511968790903e-08 at iteration 459\n",
      "VFdist = 2.087475081680168e-08 at iteration 460\n",
      "VFdist = 2.003977783715527e-08 at iteration 461\n",
      "VFdist = 1.923818615523487e-08 at iteration 462\n",
      "VFdist = 1.8468711004970828e-08 at iteration 463\n",
      "VFdist = 1.7729917090036906e-08 at iteration 464\n",
      "VFdist = 1.702072438547475e-08 at iteration 465\n",
      "VFdist = 1.6339882336069422e-08 at iteration 466\n",
      "VFdist = 1.5686296706007852e-08 at iteration 467\n",
      "VFdist = 1.5058873259476968e-08 at iteration 468\n",
      "VFdist = 1.4456531971518416e-08 at iteration 469\n",
      "VFdist = 1.3878263871447416e-08 at iteration 470\n",
      "VFdist = 1.3323131042852765e-08 at iteration 471\n",
      "VFdist = 1.279022399103269e-08 at iteration 472\n",
      "VFdist = 1.2278604799575987e-08 at iteration 473\n",
      "VFdist = 1.1787477660618606e-08 at iteration 474\n",
      "VFdist = 1.1315975712022919e-08 at iteration 475\n",
      "VFdist = 1.086334577848902e-08 at iteration 476\n",
      "VFdist = 1.0428834684717003e-08 at iteration 477\n",
      "VFdist = 1.0011646622842818e-08 at iteration 478\n",
      "VFdist = 9.61119894782314e-09 at iteration 479\n",
      "Value function converged after this many iterations: 480\n"
     ]
    }
   ],
   "source": [
    "'''\n",
    "------------------------------------------------------------------------\n",
    "Value Function Iteration    \n",
    "------------------------------------------------------------------------\n",
    "'''\n",
    "VFtol = 1e-8\n",
    "VFdist = 7.0 \n",
    "VFmaxiter = 1000\n",
    "V = np.zeros((size_k, size_z)) # initial guess at value function\n",
    "Vmat = np.zeros((size_k, size_k, size_z)) # initialize Vmat matrix\n",
    "Vstore = np.zeros((size_k, size_z, VFmaxiter)) #initialize Vstore array\n",
    "VFiter = 1 \n",
    "while VFdist > VFtol and VFiter < VFmaxiter:  \n",
    "    for i in range(size_k): # loop over k\n",
    "        for j in range(size_k): # loop over k+1\n",
    "            for n in range(size_z): # loop over z\n",
    "                EV = 0\n",
    "                for qq in range(size_z): # get expecatation\n",
    "                    EV += pi_t[n, qq] * V[j, qq] \n",
    "                Vmat[i,j,n] = U[i,j,n] + beta*EV\n",
    "      \n",
    "    Vstore[:,:, VFiter] = V.reshape(size_k, size_z,) # store value function at each iteration for graphing later\n",
    "    TV = Vmat.max(1) # apply max operator over k_t+1\n",
    "    PF = np.argmax(Vmat, axis=1)\n",
    "    VFdist = (np.absolute(V - TV)).max()  # check distance\n",
    "    print(\"VFdist = {} at iteration {}\".format(VFdist, VFiter))\n",
    "    V = TV\n",
    "    VFiter += 1\n",
    "    \n",
    "\n",
    "\n",
    "if VFiter < VFmaxiter:\n",
    "    print('Value function converged after this many iterations:', VFiter)\n",
    "else:\n",
    "    print('Value function did not converge')            \n",
    "\n",
    "\n",
    "VF = V # solution to the functional equation"
   ]
  },
  {
   "cell_type": "code",
   "execution_count": 53,
   "metadata": {},
   "outputs": [
    {
     "data": {
      "text/plain": [
       "<matplotlib.figure.Figure at 0x207f2048c50>"
      ]
     },
     "metadata": {},
     "output_type": "display_data"
    },
    {
     "data": {
      "image/png": "[encoded data removed]",
      "text/plain": [
       "<matplotlib.figure.Figure at 0x207f2048128>"
      ]
     },
     "metadata": {},
     "output_type": "display_data"
    }
   ],
   "source": [
    "# Plot value function \n",
    "plt.figure()\n",
    "fig, ax = plt.subplots()\n",
    "ax.plot(k_grid[1:], VF[1:, 0], label='$z$ = ' + str(z_grid[0]))\n",
    "ax.plot(k_grid[1:], VF[1:, 5], label='$z$ = ' + str(z_grid[5]))\n",
    "ax.plot(k_grid[1:], VF[1:, 10], label='$z$ = ' + str(z_grid[10]))\n",
    "ax.plot(k_grid[1:], VF[1:, 15], label='$z$ = ' + str(z_grid[15]))\n",
    "# Now add the legend with some customizations.\n",
    "legend = ax.legend(loc='lower right', shadow=False)\n",
    "# Set the fontsize\n",
    "for label in legend.get_texts():\n",
    "    label.set_fontsize('large')\n",
    "for label in legend.get_lines():\n",
    "    label.set_linewidth(1.5)  # the legend line width\n",
    "plt.xlabel('K')\n",
    "plt.ylabel('Value Function')\n",
    "plt.title('Value Function - deterministic cake eating')\n",
    "plt.show()"
   ]
  },
  {
   "cell_type": "code",
   "execution_count": 54,
   "metadata": {},
   "outputs": [
    {
     "data": {
      "text/plain": [
       "<matplotlib.figure.Figure at 0x207f4e547b8>"
      ]
     },
     "metadata": {},
     "output_type": "display_data"
    },
    {
     "data": {
      "image/png": "[encoded data removed]",
      "text/plain": [
       "<matplotlib.figure.Figure at 0x207efc3c4e0>"
      ]
     },
     "metadata": {},
     "output_type": "display_data"
    }
   ],
   "source": [
    "optK = k_grid[PF]\n",
    "optC = z_grid*(k_grid**alpha) - optK + (1 - delta)*k_grid\n",
    "plt.figure()\n",
    "fig, ax = plt.subplots()\n",
    "ax.plot(k_grid[:], optC[:][10])\n",
    "ax.plot(k_grid[:], optC[:][15])\n",
    "ax.plot(k_grid[:], optC[:][19])\n",
    "# Now add the legend with some customizations.\n",
    "plt.xlabel('K')\n",
    "plt.ylabel('Optimal C')\n",
    "plt.title('Policy Function')\n",
    "plt.show()"
   ]
  },
  {
   "cell_type": "code",
   "execution_count": 55,
   "metadata": {},
   "outputs": [
    {
     "data": {
      "text/plain": [
       "<matplotlib.figure.Figure at 0x207f21465c0>"
      ]
     },
     "metadata": {},
     "output_type": "display_data"
    },
    {
     "data": {
      "image/png": "[encoded data removed]",
      "text/plain": [
       "<matplotlib.figure.Figure at 0x207f2146d68>"
      ]
     },
     "metadata": {},
     "output_type": "display_data"
    }
   ],
   "source": [
    "optK = k_grid[PF]\n",
    "plt.figure()\n",
    "fig, ax = plt.subplots()\n",
    "ax.plot(k_grid[:], optK[:][10])\n",
    "ax.plot(k_grid[:], optK[:][15])\n",
    "ax.plot(k_grid[:], optK[:][19])\n",
    "# Now add the legend with some customizations.\n",
    "plt.xlabel('K')\n",
    "plt.ylabel('Optimal K+1')\n",
    "plt.title('Policy Function')\n",
    "plt.show()"
   ]
  },
  {
   "cell_type": "markdown",
   "metadata": {},
   "source": [
    "# Question 4"
   ]
  },
  {
   "cell_type": "markdown",
   "metadata": {},
   "source": [
    "### Problem 1:\n",
    "\n",
    "Bellman:\n",
    "    $$V(w) = \\max \\{V^1(w), V^2(w)\\}$$\n",
    "    $$V^1(w) = \\mathbb{E}\\sum^\\infty_{t=0}\\beta^tw = \\frac{w}{1-\\beta}$$\n",
    "    $$V^0(w) = b + \\beta \\mathbb{E} V(w')$$\n",
    "    \n",
    "### Problem 2:"
   ]
  },
  {
   "cell_type": "code",
   "execution_count": 1,
   "metadata": {
    "collapsed": true
   },
   "outputs": [],
   "source": [
    "beta = 0.96\n",
    "b = 0.05\n",
    "mu = 0.0\n",
    "sigma = 0.15"
   ]
  },
  {
   "cell_type": "code",
   "execution_count": 23,
   "metadata": {},
   "outputs": [],
   "source": [
    "# Create Grid Space for b\n",
    "size_w = 100\n",
    "\n",
    "import ar1_approx as ar1\n",
    "ln_w_grid, pi_t = ar1.addacooper(size_w, mu, 0, sigma)\n",
    "w_grid = np.exp(ln_w_grid)\n",
    "pi = np.transpose(pi_t)\n",
    "\n",
    "# get grid space for U\n",
    "U = np.zeros(size_w)\n",
    "for i in range(size_w):\n",
    "    U[i] = w_grid[i]/(1-beta)"
   ]
  },
  {
   "cell_type": "code",
   "execution_count": 24,
   "metadata": {},
   "outputs": [
    {
     "name": "stdout",
     "output_type": "stream",
     "text": [
      "Value function converged after this many iterations: 3\n"
     ]
    }
   ],
   "source": [
    "'''\n",
    "------------------------------------------------------------------------\n",
    "Value Function Iteration    \n",
    "------------------------------------------------------------------------\n",
    "'''\n",
    "VFtol = 1e-8\n",
    "VFdist = 7.0 \n",
    "VFmaxiter = 100\n",
    "V = np.zeros(size_w) # initial guess at value function\n",
    "TV = np.zeros(size_w) # initialize Vmat matrix\n",
    "Vstore = np.zeros((size_w, VFmaxiter)) #initialize Vstore array\n",
    "PF_discrete = np.zeros(size_w)\n",
    "VFiter = 1 \n",
    "while VFdist > VFtol and VFiter < VFmaxiter:  \n",
    "    for i in range(size_w): # loop over k\n",
    "                EV = 0\n",
    "                for qq in range(size_w): # get expecatation\n",
    "                    EV += pi[i, qq] * V[qq] \n",
    "                V_1 = U[i]\n",
    "                V_0 = b + beta*EV\n",
    "                TV[i] = max(V_1, V_0)\n",
    "                PF_discrete[i] = V_1 >= V_0\n",
    "                \n",
    "      \n",
    "    Vstore[:, VFiter] = TV # store value function at each iteration for graphing later\n",
    "    VFdist = (np.absolute(V - TV)).max()  # check distance\n",
    "    # print(\"VFdist = {} at iteration {}\".format(VFdist, VFiter))\n",
    "    V = TV\n",
    "    VFiter += 1\n",
    "    \n",
    "\n",
    "\n",
    "if VFiter < VFmaxiter:\n",
    "    print('Value function converged after this many iterations:', VFiter)\n",
    "else:\n",
    "    print('Value function did not converge')            \n",
    "\n",
    "\n",
    "VF = V # solution to the functional equation"
   ]
  },
  {
   "cell_type": "code",
   "execution_count": 25,
   "metadata": {},
   "outputs": [
    {
     "name": "stdout",
     "output_type": "stream",
     "text": [
      "1.03273034785\n"
     ]
    }
   ],
   "source": [
    "threshold_w = w_grid[np.argmax(PF_discrete)]\n",
    "print(threshold_w)"
   ]
  },
  {
   "cell_type": "code",
   "execution_count": 35,
   "metadata": {},
   "outputs": [
    {
     "data": {
      "text/plain": [
       "<matplotlib.figure.Figure at 0x19649e3ef60>"
      ]
     },
     "metadata": {},
     "output_type": "display_data"
    },
    {
     "data": {
      "image/png": "[encoded data removed]",
      "text/plain": [
       "<matplotlib.figure.Figure at 0x19649e3e978>"
      ]
     },
     "metadata": {},
     "output_type": "display_data"
    }
   ],
   "source": [
    "# Plot value function \n",
    "plt.figure()\n",
    "fig, ax = plt.subplots()\n",
    "ax.plot(w_grid[:], VF[:])\n",
    "# Set the fontsize\n",
    "plt.xlabel('Wage')\n",
    "plt.ylabel('Value')\n",
    "plt.title('Value Function')\n",
    "plt.show()"
   ]
  },
  {
   "cell_type": "code",
   "execution_count": 27,
   "metadata": {},
   "outputs": [],
   "source": [
    "# grid for b\n",
    "grid_b = np.linspace(0.01, 1, 20)\n",
    "thresh = np.zeros(20)"
   ]
  },
  {
   "cell_type": "code",
   "execution_count": 32,
   "metadata": {},
   "outputs": [
    {
     "name": "stdout",
     "output_type": "stream",
     "text": [
      "Value function converged after this many iterations: 3\n",
      "Value function converged after this many iterations: 3\n",
      "Value function converged after this many iterations: 3\n",
      "Value function converged after this many iterations: 3\n",
      "Value function converged after this many iterations: 3\n",
      "Value function converged after this many iterations: 3\n",
      "Value function converged after this many iterations: 3\n",
      "Value function converged after this many iterations: 3\n",
      "Value function converged after this many iterations: 3\n",
      "Value function converged after this many iterations: 3\n",
      "Value function converged after this many iterations: 3\n",
      "Value function converged after this many iterations: 3\n",
      "Value function converged after this many iterations: 3\n",
      "Value function converged after this many iterations: 3\n",
      "Value function converged after this many iterations: 3\n",
      "Value function converged after this many iterations: 3\n",
      "Value function converged after this many iterations: 3\n",
      "Value function converged after this many iterations: 3\n",
      "Value function converged after this many iterations: 3\n",
      "Value function converged after this many iterations: 3\n"
     ]
    }
   ],
   "source": [
    "# VFI\n",
    "for j in range(20):\n",
    "    VFtol = 1e-8\n",
    "    VFdist = 7.0 \n",
    "    VFmaxiter = 100\n",
    "    V = np.zeros(size_w) # initial guess at value function\n",
    "    TV = np.zeros(size_w) # initialize Vmat matrix\n",
    "    Vstore = np.zeros((size_w, VFmaxiter)) #initialize Vstore array\n",
    "    PF_discrete = np.zeros(size_w)\n",
    "    VFiter = 1 \n",
    "    while VFdist > VFtol and VFiter < VFmaxiter:  \n",
    "        for i in range(size_w): # loop over k\n",
    "                    EV = 0\n",
    "                    for qq in range(size_w): # get expecatation\n",
    "                        EV += pi[i, qq] * V[qq] \n",
    "                    V_1 = U[i]\n",
    "                    V_0 = grid_b[j] + beta*EV\n",
    "                    TV[i] = max(V_1, V_0)\n",
    "                    PF_discrete[i] = V_1 >= V_0\n",
    "\n",
    "\n",
    "        Vstore[:, VFiter] = TV # store value function at each iteration for graphing later\n",
    "        VFdist = (np.absolute(V - TV)).max()  # check distance\n",
    "        # print(\"VFdist = {} at iteration {}\".format(VFdist, VFiter))\n",
    "        V = TV\n",
    "        VFiter += 1\n",
    "\n",
    "\n",
    "\n",
    "    if VFiter < VFmaxiter:\n",
    "        print('Value function converged after this many iterations:', VFiter)\n",
    "    else:\n",
    "        print('Value function did not converge')            \n",
    "\n",
    "\n",
    "    VF = V # solution to the functional equation\n",
    "    thresh[j] = w_grid[np.argmax(PF_discrete)]"
   ]
  },
  {
   "cell_type": "code",
   "execution_count": 33,
   "metadata": {},
   "outputs": [
    {
     "data": {
      "text/plain": [
       "array([ 1.02877475,  1.03273035,  1.03672313,  1.04075636,  1.04483344,\n",
       "        1.048958  ,  1.05313387,  1.05736513,  1.06165615,  1.06165615,\n",
       "        1.0660116 ,  1.07043651,  1.07493631,  1.07951689,  1.08418465,\n",
       "        1.0889466 ,  1.09381039,  1.09878449,  1.09878449,  1.10387824])"
      ]
     },
     "execution_count": 33,
     "metadata": {},
     "output_type": "execute_result"
    }
   ],
   "source": [
    "thresh"
   ]
  },
  {
   "cell_type": "code",
   "execution_count": 34,
   "metadata": {},
   "outputs": [
    {
     "data": {
      "text/plain": [
       "<matplotlib.figure.Figure at 0x1964ca77d30>"
      ]
     },
     "metadata": {},
     "output_type": "display_data"
    },
    {
     "data": {
      "image/png": "[encoded data removed]",
      "text/plain": [
       "<matplotlib.figure.Figure at 0x1964ca77ac8>"
      ]
     },
     "metadata": {},
     "output_type": "display_data"
    }
   ],
   "source": [
    "plt.figure()\n",
    "fig, ax = plt.subplots()\n",
    "ax.plot(grid_b[:], thresh[:])\n",
    "# Set the fontsize\n",
    "plt.xlabel('Benefits')\n",
    "plt.ylabel('Wage')\n",
    "plt.title('Threshold Plot')\n",
    "plt.show()"
   ]
  },
  {
   "cell_type": "code",
   "execution_count": null,
   "metadata": {
    "collapsed": true
   },
   "outputs": [],
   "source": []
  }
 ],
 "metadata": {
  "kernelspec": {
   "display_name": "Python 3",
   "language": "python",
   "name": "python3"
  },
  "language_info": {
   "codemirror_mode": {
    "name": "ipython",
    "version": 3
   },
   "file_extension": ".py",
   "mimetype": "text/x-python",
   "name": "python",
   "nbconvert_exporter": "python",
   "pygments_lexer": "ipython3",
   "version": "3.6.1"
  }
 },
 "nbformat": 4,
 "nbformat_minor": 2
}
