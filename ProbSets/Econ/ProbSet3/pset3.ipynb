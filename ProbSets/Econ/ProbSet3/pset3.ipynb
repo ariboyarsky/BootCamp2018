{
 "cells": [
  {
   "cell_type": "markdown",
   "metadata": {},
   "source": [
    "### OLG Models\n",
    "#### Ari Boyarsky\n",
    "#### Exercise 2.1"
   ]
  },
  {
   "cell_type": "code",
   "execution_count": 58,
   "metadata": {
    "collapsed": true
   },
   "outputs": [],
   "source": [
    "import numpy as np\n",
    "import matplotlib.pyplot as plt"
   ]
  },
  {
   "cell_type": "code",
   "execution_count": 7,
   "metadata": {
    "collapsed": true
   },
   "outputs": [],
   "source": [
    "# Calibration Parameters\n",
    "beta = 0.442   # 20yr discount\n",
    "delta = 0.6415 # 20yr capital deprec \n",
    "sigma = 3      # risk aversion in CRRA\n",
    "A = 1          # productivity\n",
    "alpha = 0.35   # capital share of income"
   ]
  },
  {
   "cell_type": "code",
   "execution_count": 44,
   "metadata": {
    "collapsed": true
   },
   "outputs": [],
   "source": [
    "def feasible(f_params, bvec_guess):\n",
    "    nvec, A, alpha, delta = f_params\n",
    "    \n",
    "    # market clearing\n",
    "    K = bvec_guess.sum()\n",
    "    L = nvec.sum()\n",
    "    \n",
    "    # k constraint K > 0 \n",
    "    k_cnstr = K <= 0\n",
    "    \n",
    "    # FOC\n",
    "    r = alpha * A * (L/K)**(1-alpha) - delta\n",
    "    w = (1-alpha) * A * (K/L)**alpha\n",
    "    \n",
    "    # calculate c vector from constraints\n",
    "    c = np.zeros((3,1))\n",
    "    c[0] = w*nvec[0] - bvec_guess[0]\n",
    "    c[1] = w*nvec[1] - (1+r)*bvec_guess[0] - bvec_guess[1]\n",
    "    c[2] = w*nvec[2] - (1+r)*bvec_guess[1]\n",
    "    \n",
    "    # c and b cnstr\n",
    "    c_cnstr = c<=0\n",
    "    b_cnstr = np.array([False, False])\n",
    "    if c_cnstr[0]:\n",
    "        b_cnstr[0] = True\n",
    "    if c_cnstr[1]:\n",
    "        b_cnstr[0] = True\n",
    "        b_cnstr[1] = True\n",
    "    if c_cnstr[2]:\n",
    "        b_cnstr[1] = True\n",
    "    \n",
    "    return(b_cnstr, c_cnstr, k_cnstr)"
   ]
  },
  {
   "cell_type": "code",
   "execution_count": 41,
   "metadata": {},
   "outputs": [
    {
     "name": "stdout",
     "output_type": "stream",
     "text": [
      "Violated? \n",
      " b_cnstr: [ True  True]\n",
      "c_cnstr: [[ True  True  True]]\n",
      "k_cnstr: False\n"
     ]
    }
   ],
   "source": [
    "# a \n",
    "nvec = np.array([1,1,0.2])\n",
    "b_cnstr, c_cnstr, k_cnstr = feasible((nvec,A,alpha,delta),np.array([1.0, 1.2]))\n",
    "print(\"Violated? \\n b_cnstr:\", b_cnstr)\n",
    "print(\"c_cnstr:\", c_cnstr.reshape(1,3))\n",
    "print(\"k_cnstr:\", k_cnstr)"
   ]
  },
  {
   "cell_type": "code",
   "execution_count": 42,
   "metadata": {},
   "outputs": [
    {
     "name": "stdout",
     "output_type": "stream",
     "text": [
      "Violated? \n",
      " b_cnstr: [False False]\n",
      "c_cnstr: [[False False False]]\n",
      "k_cnstr: False\n"
     ]
    }
   ],
   "source": [
    "# b\n",
    "nvec = np.array([1,1,0.2])\n",
    "b_cnstr, c_cnstr, k_cnstr = feasible((nvec,A,alpha,delta),np.array([0.06, -0.001]))\n",
    "print(\"Violated? \\n b_cnstr:\", b_cnstr)\n",
    "print(\"c_cnstr:\", c_cnstr.reshape(1,3))\n",
    "print(\"k_cnstr:\", k_cnstr)"
   ]
  },
  {
   "cell_type": "code",
   "execution_count": 43,
   "metadata": {},
   "outputs": [
    {
     "name": "stdout",
     "output_type": "stream",
     "text": [
      "Violated? \n",
      " b_cnstr: [False  True]\n",
      "c_cnstr: [[False False  True]]\n",
      "k_cnstr: False\n"
     ]
    }
   ],
   "source": [
    "nvec = np.array([1,1,0.2])\n",
    "b_cnstr, c_cnstr, k_cnstr = feasible((nvec,A,alpha,delta),np.array([0.1, 0.1]))\n",
    "print(\"Violated? \\n b_cnstr:\", b_cnstr)\n",
    "print(\"c_cnstr:\", c_cnstr.reshape(1,3))\n",
    "print(\"k_cnstr:\", k_cnstr)"
   ]
  },
  {
   "cell_type": "markdown",
   "metadata": {},
   "source": [
    "#### Exercise 2.2"
   ]
  },
  {
   "cell_type": "code",
   "execution_count": 63,
   "metadata": {},
   "outputs": [],
   "source": [
    "import time\n",
    "import scipy.optimize as opt\n",
    "\n",
    "def u_prime(c, sigma):\n",
    "    if c > 1e-5:\n",
    "        return c**(-sigma)\n",
    "    else:\n",
    "        return 1e5**sigma\n",
    "def euler(bvec_guess, params):\n",
    "    \n",
    "    beta, sigma, nvec, L, A, alpha, delta, SS_tol = params\n",
    "\n",
    "    # market clearing\n",
    "    K = bvec_guess.sum()\n",
    "    L = nvec.sum()\n",
    "    # FOC\n",
    "    r = alpha * A * (L/K)**(1-alpha) - delta\n",
    "    w =  (1-alpha) * A * (K/L)**alpha\n",
    "    # get consumption\n",
    "    c = np.zeros((3,1))\n",
    "    c[0] = w*nvec[0] - bvec_guess[0]\n",
    "    c[1] = w*nvec[1] - (1+r)*bvec_guess[0] - bvec_guess[1]\n",
    "    c[2] = w*nvec[2] - (1+r)*bvec_guess[1]\n",
    "    \n",
    "    # eulers\n",
    "    euler1 = u_prime(c[0], sigma) - beta*(1+r)*u_prime(c[1], sigma)\n",
    "    euler2 = u_prime(c[1], sigma) - beta*(1+r)*u_prime(c[2], sigma)\n",
    "    \n",
    "    return (euler1, euler2)\n",
    "    \n",
    "def get_SS(params, bvec_guess, SS_graphs):\n",
    "    # timer\n",
    "    start_time = time.clock()\n",
    "    beta, sigma, nvec, L, A, alpha, delta, SS_tol = params\n",
    "\n",
    "    result = opt.root(euler, bvec_guess, args = params, tol = SS_tol)\n",
    "    b_ss = result.x\n",
    "    \n",
    "    K = b_ss.sum()\n",
    "    L = nvec.sum()\n",
    "    r = alpha * A * (L/K)**(1-alpha) - delta\n",
    "    w =  (1-alpha) * A * (K/L)**alpha\n",
    "    \n",
    "    c = np.zeros((3))\n",
    "    c[0] = w*nvec[0] - b_ss[0]\n",
    "    c[1] = w*nvec[1] - (1+r)*b_ss[0] - b_ss[1]\n",
    "    c[2] = w*nvec[2] - (1+r)*b_ss[1]\n",
    "    \n",
    "    Y = A*(K**alpha)*(L**(1-alpha))\n",
    "    C_ss = Y-K*delta\n",
    "    EulErr_ss = result.fun\n",
    "    RCerr_ss = Y - C_ss - delta*K\n",
    "    \n",
    "    # stop timer\n",
    "    ss_time = time.clock()-start_time\n",
    "    \n",
    "    if SS_graphs:\n",
    "        x = np.arange(3)\n",
    "        plt.bar(x, c)\n",
    "        plt.xticks(x, ('C_1', 'C_2', 'C_3'))\n",
    "        plt.title('consumption')\n",
    "        plt.show()\n",
    "        x = np.arange(2)\n",
    "        plt.bar(x, b_ss)\n",
    "        plt.xticks(x, ('b_2', 'b_3'))\n",
    "        plt.title('savings')\n",
    "        plt.show()\n",
    "    \n",
    "    ss_output = {\n",
    "        'b_ss': b_ss, 'c_ss': c, 'w_ss': w, 'r_ss': r,\n",
    "        'K_ss': K, 'Y_ss': Y, 'C_ss': C_ss,\n",
    "        'EulErr_ss': EulErr_ss, 'RCerr_ss': RCerr_ss,\n",
    "        'ss_time': ss_time\n",
    "    }\n",
    "    \n",
    "    return(ss_output)"
   ]
  },
  {
   "cell_type": "code",
   "execution_count": 61,
   "metadata": {},
   "outputs": [
    {
     "data": {
      "image/png": "[encoded data removed]",
      "text/plain": [
       "<matplotlib.figure.Figure at 0x1cf8d0fb240>"
      ]
     },
     "metadata": {},
     "output_type": "display_data"
    },
    {
     "data": {
      "image/png": "[encoded data removed]",
      "text/plain": [
       "<matplotlib.figure.Figure at 0x1cf8ce69358>"
      ]
     },
     "metadata": {},
     "output_type": "display_data"
    },
    {
     "data": {
      "text/plain": [
       "{'C_ss': 1.0188949619075278,\n",
       " 'EulErr_ss': array([ -5.00000000e+14,   5.00000000e+14]),\n",
       " 'K_ss': 0.65052056029791483,\n",
       " 'RCerr_ss': -1.1102230246251565e-16,\n",
       " 'Y_ss': 1.4362039013386401,\n",
       " 'b_ss': array([ 0.27160725,  0.37891331]),\n",
       " 'c_ss': array([ 0.15272572, -0.26182836, -0.34376838]),\n",
       " 'r_ss': 0.13122171880058442,\n",
       " 'ss_time': 0.0012494884906573134,\n",
       " 'w_ss': 0.42433297085005273}"
      ]
     },
     "execution_count": 61,
     "metadata": {},
     "output_type": "execute_result"
    }
   ],
   "source": [
    "# a and b \n",
    "bvec_guess = np.array([.1,.1])\n",
    "ss_tol = 1e-6\n",
    "L = nvec.sum()\n",
    "params = [beta, sigma, nvec, L, A, alpha, delta, ss_tol]\n",
    "get_SS(params, bvec_guess, True)"
   ]
  },
  {
   "cell_type": "code",
   "execution_count": 62,
   "metadata": {},
   "outputs": [
    {
     "name": "stderr",
     "output_type": "stream",
     "text": [
      "C:\\ProgramData\\Anaconda3\\lib\\site-packages\\ipykernel_launcher.py:17: RuntimeWarning: invalid value encountered in double_scalars\n",
      "C:\\ProgramData\\Anaconda3\\lib\\site-packages\\ipykernel_launcher.py:18: RuntimeWarning: invalid value encountered in double_scalars\n",
      "C:\\ProgramData\\Anaconda3\\lib\\site-packages\\ipykernel_launcher.py:5: RuntimeWarning: invalid value encountered in greater\n",
      "  \"\"\"\n"
     ]
    },
    {
     "data": {
      "image/png": "[encoded data removed]",
      "text/plain": [
       "<matplotlib.figure.Figure at 0x1cf8cddd438>"
      ]
     },
     "metadata": {},
     "output_type": "display_data"
    },
    {
     "data": {
      "image/png": "[encoded data removed]",
      "text/plain": [
       "<matplotlib.figure.Figure at 0x1cf8d233e80>"
      ]
     },
     "metadata": {},
     "output_type": "display_data"
    },
    {
     "data": {
      "text/plain": [
       "{'C_ss': 0.86285535602934937,\n",
       " 'EulErr_ss': array([ -2.00155291e+08,   1.00000000e+15]),\n",
       " 'K_ss': 0.24450278797447211,\n",
       " 'RCerr_ss': 0.0,\n",
       " 'Y_ss': 1.0197038945149732,\n",
       " 'b_ss': array([ 23.87039984, -23.62589706]),\n",
       " 'c_ss': array([-23.56912369, -19.47356247,  43.01644029]),\n",
       " 'r_ss': 0.81818218210052951,\n",
       " 'ss_time': 0.001427540600559496,\n",
       " 'w_ss': 0.30127615065215113}"
      ]
     },
     "execution_count": 62,
     "metadata": {},
     "output_type": "execute_result"
    }
   ],
   "source": [
    "# c\n",
    "bvec_guess = np.array([.1,.1])\n",
    "ss_tol = 1e-6\n",
    "L = nvec.sum()\n",
    "params = [0.55, sigma, nvec, L, A, alpha, delta, ss_tol]\n",
    "get_SS(params, bvec_guess, True)"
   ]
  },
  {
   "cell_type": "markdown",
   "metadata": {},
   "source": [
    "#### Exercise 2.3"
   ]
  },
  {
   "cell_type": "code",
   "execution_count": 68,
   "metadata": {},
   "outputs": [],
   "source": [
    "T = 40\n",
    "e = 1e-9\n",
    "bvec_guess = np.array([.1,.1])\n",
    "nvec = np.array([1,1,.2])\n",
    "L = nvec.sum()\n",
    "params = [beta, sigma, nvec, L, A, alpha, delta, e]\n",
    "guess_ss = get_SS(params, bvec_guess, False)"
   ]
  },
  {
   "cell_type": "code",
   "execution_count": 73,
   "metadata": {},
   "outputs": [],
   "source": [
    "b2 = 0.8*guess_ss[\"b_ss\"][0]\n",
    "b3 = 1.1*guess_ss[\"b_ss\"][1]\n",
    "bvec_guess = np.array([b2,b3])"
   ]
  },
  {
   "cell_type": "code",
   "execution_count": 75,
   "metadata": {
    "collapsed": true
   },
   "outputs": [],
   "source": [
    "K = b2+b3\n",
    "K_guess = guess_ss[\"b_ss\"].sum()\n",
    "Kgrid = np.linspace(K, K_guess, T)\n",
    "Kgrid = np.append(Kgrid, K_guess)"
   ]
  },
  {
   "cell_type": "code",
   "execution_count": 76,
   "metadata": {
    "collapsed": true
   },
   "outputs": [],
   "source": [
    "Wpath = ((1-alpha)*A/(L**alpha)) * Kgrid**alpha\n",
    "Rpath = alpha * A * (L/Kgrid)**(1-alpha) - delta"
   ]
  },
  {
   "cell_type": "code",
   "execution_count": 83,
   "metadata": {},
   "outputs": [
    {
     "data": {
      "text/plain": [
       "array([ 0.23136226])"
      ]
     },
     "execution_count": 83,
     "metadata": {},
     "output_type": "execute_result"
    }
   ],
   "source": [
    "def b32_err(b32, params): \n",
    "    rpath, wpath, beta, sigma = params\n",
    "    error = ((1+rpath[0])*b2 + wpath[0] - b32)**(-sigma) - beta*(1+rpath[1])*((1+rpath[1])*b32 + wpath[1]*0.2)**(-sigma)\n",
    "    return error\n",
    "    \n",
    "\n",
    "def get_b32(rpath, wpath, beta, sigma, b32):\n",
    "    root =  opt.root(b32_err, b32, np.array([rpath, wpath, beta, sigma]), tol=e)  \n",
    "    b32_p = root.x\n",
    "    return b32_p\n",
    "\n",
    "b32_init = get_b32(Rpath, Wpath, beta, sigma, 0.1)\n",
    "b32_init"
   ]
  },
  {
   "cell_type": "code",
   "execution_count": 102,
   "metadata": {
    "collapsed": true
   },
   "outputs": [],
   "source": [
    "def eul_err(bvec_guess, params):\n",
    "    beta, sigma, w, r = params\n",
    "    EulErr = np.zeros(2)\n",
    "    \n",
    "    c_1 = w[0] - bvec_guess[0]\n",
    "    c_2 = w[1] - bvec_guess[1] + (1+r[0])*bvec_guess[0]\n",
    "    c_3 = 0.2*w[2] + (1+r[1])*bvec_guess[1]\n",
    "    \n",
    "    if c_1 <= 1e-5:\n",
    "        U_1 = 1e5\n",
    "    else:\n",
    "        U_1 = c_1**(-sigma)\n",
    "    \n",
    "    if c_2 <= 1e-5:\n",
    "        U_2 = 1e5\n",
    "    else:\n",
    "        U_2 = c_2**(-sigma)\n",
    "        \n",
    "    if c_3 <= 1e-5:\n",
    "        U_3 = 1e5\n",
    "    else:\n",
    "        U_3 = c_3**(-sigma)\n",
    "\n",
    "    EulErr[0] = beta*(1+r[0])*U_2 - U_1\n",
    "    EulErr[1] = beta*(1+r[1])*U_3 - U_2\n",
    "    \n",
    "    return EulErr"
   ]
  },
  {
   "cell_type": "code",
   "execution_count": 124,
   "metadata": {},
   "outputs": [],
   "source": [
    "def timepath(bvec_guess, r, w, beta, sigma):\n",
    "    \n",
    "    b_mat = np.zeros((len(Kgrid), 2))\n",
    "    b_mat[0,:] = bvec_guess\n",
    "    \n",
    "    for i in range(T):\n",
    "        root = opt.root(eul_err, bvec_guess, ([beta, sigma, w, r]), tol=e)\n",
    "        result = root.x\n",
    "        b_mat[i, 0] = result[0]\n",
    "        b_mat[i+1, 1] = result[1]\n",
    "    \n",
    "    return b_mat"
   ]
  },
  {
   "cell_type": "code",
   "execution_count": 125,
   "metadata": {},
   "outputs": [
    {
     "data": {
      "text/plain": [
       "array([[ 0.02973101,  0.41680464],\n",
       "       [ 0.02973101,  0.1432925 ],\n",
       "       [ 0.02973101,  0.1432925 ],\n",
       "       [ 0.02973101,  0.1432925 ],\n",
       "       [ 0.02973101,  0.1432925 ],\n",
       "       [ 0.02973101,  0.1432925 ],\n",
       "       [ 0.02973101,  0.1432925 ],\n",
       "       [ 0.02973101,  0.1432925 ],\n",
       "       [ 0.02973101,  0.1432925 ],\n",
       "       [ 0.02973101,  0.1432925 ],\n",
       "       [ 0.02973101,  0.1432925 ],\n",
       "       [ 0.02973101,  0.1432925 ],\n",
       "       [ 0.02973101,  0.1432925 ],\n",
       "       [ 0.02973101,  0.1432925 ],\n",
       "       [ 0.02973101,  0.1432925 ],\n",
       "       [ 0.02973101,  0.1432925 ],\n",
       "       [ 0.02973101,  0.1432925 ],\n",
       "       [ 0.02973101,  0.1432925 ],\n",
       "       [ 0.02973101,  0.1432925 ],\n",
       "       [ 0.02973101,  0.1432925 ],\n",
       "       [ 0.02973101,  0.1432925 ],\n",
       "       [ 0.02973101,  0.1432925 ],\n",
       "       [ 0.02973101,  0.1432925 ],\n",
       "       [ 0.02973101,  0.1432925 ],\n",
       "       [ 0.02973101,  0.1432925 ],\n",
       "       [ 0.02973101,  0.1432925 ],\n",
       "       [ 0.02973101,  0.1432925 ],\n",
       "       [ 0.02973101,  0.1432925 ],\n",
       "       [ 0.02973101,  0.1432925 ],\n",
       "       [ 0.02973101,  0.1432925 ],\n",
       "       [ 0.02973101,  0.1432925 ],\n",
       "       [ 0.02973101,  0.1432925 ],\n",
       "       [ 0.02973101,  0.1432925 ],\n",
       "       [ 0.02973101,  0.1432925 ],\n",
       "       [ 0.02973101,  0.1432925 ],\n",
       "       [ 0.02973101,  0.1432925 ],\n",
       "       [ 0.02973101,  0.1432925 ],\n",
       "       [ 0.02973101,  0.1432925 ],\n",
       "       [ 0.02973101,  0.1432925 ],\n",
       "       [ 0.02973101,  0.1432925 ],\n",
       "       [ 0.        ,  0.1432925 ]])"
      ]
     },
     "execution_count": 125,
     "metadata": {},
     "output_type": "execute_result"
    }
   ],
   "source": [
    "timepath(bvec_guess, Rpath, Wpath, beta, sigma)"
   ]
  },
  {
   "cell_type": "code",
   "execution_count": 142,
   "metadata": {},
   "outputs": [
    {
     "name": "stdout",
     "output_type": "stream",
     "text": [
      "51\n",
      "8.45602969364e-10\n"
     ]
    }
   ],
   "source": [
    "b_guess = np.array([0.1, 0.1])\n",
    "b32_first = get_b32(Rpath, Wpath, beta, sigma, 0.18)\n",
    "\n",
    "iter = 0\n",
    "dist = 0.1\n",
    "\n",
    "R_1 = Rpath.copy()\n",
    "W_1 = Wpath.copy()\n",
    "K_1 = Kgrid.copy()\n",
    "K_prime = Kgrid.copy()\n",
    "\n",
    "while iter < 300 and dist > e:\n",
    "    b_mat = timepath(b_guess, R_1, W_1, beta, sigma)\n",
    "    b32_init = get_b32(R_1, W_1, beta, sigma, 0.1)\n",
    "    b_mat[0, 1] = b32_init #fill hole at top right\n",
    "    temp = Kgrid.copy()\n",
    "    temp = b_mat.sum(axis = 1)\n",
    "    K_prime[1:T+1] = temp[0:T]\n",
    "    dist = ((K_prime - K_1)**2).sum()\n",
    "    K_2 = .2 * K_prime + (1-.2)*K_1\n",
    "\n",
    "    K_1 = K_2\n",
    "    W_1 = ((1-alpha)*A/(L**alpha))*K_2**alpha\n",
    "    R_1 = alpha*A*(L/K_2)**(1-alpha) - delta\n",
    "    iter += 1\n",
    "\n",
    "print(iter)\n",
    "print(dist)\n",
    "tp,b = K_prime, b_mat"
   ]
  },
  {
   "cell_type": "code",
   "execution_count": 145,
   "metadata": {},
   "outputs": [
    {
     "data": {
      "image/png": "[encoded data removed]",
      "text/plain": [
       "<matplotlib.figure.Figure at 0x1cf8d05f208>"
      ]
     },
     "metadata": {},
     "output_type": "display_data"
    }
   ],
   "source": [
    "plt.figure(figsize=(12, 8))\n",
    "plt.plot(tp)\n",
    "plt.xlabel('Time')\n",
    "plt.ylabel('K')\n",
    "plt.title('capital')\n",
    "plt.show()"
   ]
  },
  {
   "cell_type": "code",
   "execution_count": 146,
   "metadata": {},
   "outputs": [
    {
     "data": {
      "image/png": "[encoded data removed]",
      "text/plain": [
       "<matplotlib.figure.Figure at 0x1cf8d7b2160>"
      ]
     },
     "metadata": {},
     "output_type": "display_data"
    }
   ],
   "source": [
    "Wpath_fin = ((1-alpha)*A/(L**alpha))*tp**alpha\n",
    "Rpath_fin = alpha*A*(L/tp)**(1-alpha) - delta\n",
    "\n",
    "plt.figure(figsize=(12, 8))\n",
    "plt.plot(Wpath_fin)\n",
    "plt.xlabel('Time')\n",
    "plt.ylabel('W')\n",
    "plt.title('Wage rate')\n",
    "plt.show()"
   ]
  },
  {
   "cell_type": "code",
   "execution_count": 147,
   "metadata": {},
   "outputs": [
    {
     "data": {
      "image/png": "[encoded data removed]",
      "text/plain": [
       "<matplotlib.figure.Figure at 0x1cf8d2364a8>"
      ]
     },
     "metadata": {},
     "output_type": "display_data"
    }
   ],
   "source": [
    "plt.figure(figsize=(12, 8))\n",
    "plt.plot(Rpath_fin)\n",
    "plt.xlabel('Time')\n",
    "plt.ylabel('R')\n",
    "plt.title('Interest rate')\n",
    "plt.show()"
   ]
  },
  {
   "cell_type": "code",
   "execution_count": null,
   "metadata": {
    "collapsed": true
   },
   "outputs": [],
   "source": []
  },
  {
   "cell_type": "code",
   "execution_count": null,
   "metadata": {
    "collapsed": true
   },
   "outputs": [],
   "source": []
  }
 ],
 "metadata": {
  "kernelspec": {
   "display_name": "Python 3",
   "language": "python",
   "name": "python3"
  },
  "language_info": {
   "codemirror_mode": {
    "name": "ipython",
    "version": 3
   },
   "file_extension": ".py",
   "mimetype": "text/x-python",
   "name": "python",
   "nbconvert_exporter": "python",
   "pygments_lexer": "ipython3",
   "version": "3.6.1"
  }
 },
 "nbformat": 4,
 "nbformat_minor": 2
}
