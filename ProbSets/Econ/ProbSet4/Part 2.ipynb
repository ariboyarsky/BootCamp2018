{
 "cells": [
  {
   "cell_type": "markdown",
   "metadata": {},
   "source": [
    "Ari Boyarsky\n",
    "\n",
    "Day 2 DSEG"
   ]
  },
  {
   "cell_type": "code",
   "execution_count": 1,
   "metadata": {},
   "outputs": [
    {
     "name": "stdout",
     "output_type": "stream",
     "text": [
      "3.1333792783220216 -9.24666619684417 3.1973257942061446 -1.6783029001074112 3.1973257942061446 0.95 0.4 0.319526513241\n"
     ]
    }
   ],
   "source": [
    "# Ex 1\n",
    "import numpy as np\n",
    "alpha = 0.4\n",
    "beta = 0.98\n",
    "rho = 0.95\n",
    "sigma = 0.02\n",
    "gamma = 2.5\n",
    "zss = 0\n",
    "kbar = (beta*alpha)**(1/(1-alpha))\n",
    "F = alpha* (kbar**(alpha-1))/(kbar**alpha - kbar)\n",
    "G = - alpha * (kbar**(alpha-1))*(alpha + kbar**(alpha-1))/(kbar**alpha - kbar)\n",
    "H = (alpha**2) * (kbar**(2*alpha-2))/(kbar**alpha - kbar)\n",
    "L = - alpha * (kbar**(2*alpha - 1))/(kbar**alpha - kbar)\n",
    "M = (alpha**2 * kbar**(2*alpha - 2))/(kbar**alpha - kbar)\n",
    "N = rho\n",
    "P = (-G -np.sqrt(G**2 - 4*F*H))/(2*F)\n",
    "Q = -(L*N + M)/(F*N + F*P + G)\n",
    "print(F,G,H,L,M,N,P,Q)"
   ]
  },
  {
   "cell_type": "code",
   "execution_count": 8,
   "metadata": {},
   "outputs": [
    {
     "name": "stdout",
     "output_type": "stream",
     "text": [
      "3.1242559322 -9.1970004702 3.17891923893 -1.67660723632 3.17891923893 0.95 0.4 0.318550139852\n"
     ]
    }
   ],
   "source": [
    "# Ex 2\n",
    "alpha = 0.4\n",
    "beta = 0.98\n",
    "rho = 0.95\n",
    "sigma = 0.02\n",
    "gamma = 2.5\n",
    "zss = 0\n",
    "kbar = (((beta*alpha)**(1/(1-alpha))))\n",
    "kbar = 2.71**np.log(kbar)\n",
    "F = alpha* (kbar**(alpha-1))/(kbar**alpha - kbar)\n",
    "G = - alpha * (kbar**(alpha-1))*(alpha + kbar**(alpha-1))/(kbar**alpha - kbar)\n",
    "H = (alpha**2) * (kbar**(2*alpha-2))/(kbar**alpha - kbar)\n",
    "L = - alpha * (kbar**(2*alpha - 1))/(kbar**alpha - kbar)\n",
    "M = (alpha**2 * kbar**(2*alpha - 2))/(kbar**alpha - kbar)\n",
    "N = rho\n",
    "P = (-G -np.sqrt(G**2 - 4*F*H))/(2*F)\n",
    "Q = -(L*N + M)/(F*N + F*P + G)\n",
    "print(F,G,H,L,M,N,P,Q)"
   ]
  },
  {
   "cell_type": "markdown",
   "metadata": {},
   "source": [
    "### Ex 3\n",
    "\n",
    "$$[(FP_G)P + H]X_{t-1} + Z_t[(FP_G)Q^2 + (FQ+L)NQ + MQ] = 0$$"
   ]
  },
  {
   "cell_type": "markdown",
   "metadata": {},
   "source": [
    "### Ex 4"
   ]
  },
  {
   "cell_type": "code",
   "execution_count": 5,
   "metadata": {},
   "outputs": [
    {
     "name": "stdout",
     "output_type": "stream",
     "text": [
      "4.22522902678 0.860703206154 0.121482277121 1.32795276835 0.579791453167 1.28322610883 0.422522902678\n"
     ]
    }
   ],
   "source": [
    "import scipy.optimize as opt\n",
    "\n",
    "#EX 4\n",
    "\n",
    "beta = 0.98\n",
    "gamma = 2.5\n",
    "alpha = 0.4\n",
    "delta = 0.1\n",
    "tau = 0.05\n",
    "zss = 0\n",
    "a = 0.5\n",
    "Xi = 1.5\n",
    "\n",
    "def foc(ss_val,*args): \n",
    "\n",
    "    c = ss_val[0]\n",
    "    k = ss_val[1]\n",
    "    l = ss_val[2]\n",
    "    \n",
    "    beta, gamma, alpha, delta, tau, zss, a, Xi  = args\n",
    "\n",
    "    r = alpha* (k**(alpha-1) * (np.exp(zss)*l)**(1-alpha))\n",
    "    w = (1-alpha)*np.exp(zss) * (k**alpha) * (l*np.exp(zss))**(-alpha)\n",
    "    res_1 = 1/(c**gamma) - beta * ((r-delta)*(1-tau)+1)/(c**gamma)\n",
    "    res_2 = c + k - (1-delta)*k - (k**(alpha) * (np.exp(zss)*l)**(1-alpha)) \n",
    "    res_3 = -a/((1-l)**Xi) + w*(1-tau)/(c**gamma)\n",
    "    err = np.array([res_1,res_2,res_3])\n",
    "    \n",
    "    return err\n",
    "\n",
    "\n",
    "parameter = (beta, gamma, alpha, delta, tau, zss, a, Xi )\n",
    "results = opt.root(foc,np.array([1.0,3.2,0.3]),args=parameter)\n",
    "css,kss,Lss = results.x\n",
    "yss = kss**alpha * Lss**(1-alpha)\n",
    "rss =  alpha*kss**(alpha-1) * Lss**(1-alpha)\n",
    "wss = (1-alpha)* kss**alpha * Lss**(-alpha)\n",
    "Iss = delta*kss\n",
    "Tss = tau*(wss*Lss + (rss-delta)*kss)\n",
    "\n",
    "print(kss, css, rss, wss, Lss,yss,Iss)"
   ]
  },
  {
   "cell_type": "code",
   "execution_count": null,
   "metadata": {
    "collapsed": true
   },
   "outputs": [],
   "source": []
  }
 ],
 "metadata": {
  "kernelspec": {
   "display_name": "Python 3",
   "language": "python",
   "name": "python3"
  },
  "language_info": {
   "codemirror_mode": {
    "name": "ipython",
    "version": 3
   },
   "file_extension": ".py",
   "mimetype": "text/x-python",
   "name": "python",
   "nbconvert_exporter": "python",
   "pygments_lexer": "ipython3",
   "version": "3.6.1"
  }
 },
 "nbformat": 4,
 "nbformat_minor": 2
}
