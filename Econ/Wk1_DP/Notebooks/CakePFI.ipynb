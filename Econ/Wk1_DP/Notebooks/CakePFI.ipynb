{
 "cells": [
  {
   "cell_type": "markdown",
   "metadata": {},
   "source": [
    "#  The Deterministic Cake Eating Problem - Policy Function Iteration Solution\n",
    "### by [Jason DeBacker](http://jasondebacker.com), June 2018\n",
    "This Jupyter notebook illustrates how to solve the deterministic cake eating problem using Coleman's policy function iteration (PFI).\n",
    "\n",
    "## The Problem:\n",
    "\n",
    "$$V(w)=\\max_{c} u(c)+\\beta V(w'), \\forall w\\in[0,\\bar{w}]$$\n",
    "\n",
    "The necessary condition (after applying the envelope theorem) is given by the Euler equation:\n",
    "\n",
    "$$ u'(c) = \\beta u'(c') $$\n",
    "\n",
    "The unknowns in this system are functions: The value function, $V(w)$, and the policy function, $c = \\phi(w)$ (or, equivalently, $w' = p(w)$).\n",
    "\n",
    "## The Solution:\n",
    "\n",
    "We'll solve this problem with policy function iteration (PFI).  With this method, we'll use an iterative procedure to converge to a fixed point in function space, the true policy function, $\\phi(w)$.  \n",
    "\n",
    "The computational algorithm for PFI is as follows:\n",
    "\n",
    "1. Create a discrete grid of the state variable, $w$\n",
    "2. Make an initial guess at the policy function, $\\phi_{0}(w)$\n",
    "    * This will be a consumption value for each point in the state space\n",
    "3. Find $K\\phi(w)$, where $K\\phi(w)$ is the root  of:\n",
    "$$ u'(K\\phi(w)) - \\beta u'(\\phi_{0}(w - K\\phi(w)) = 0$$\n",
    "4. Update the guess at the policy function: $\\phi_{1}(w) = K\\phi(w)$\n",
    "5. Repeat this process:\n",
    "$$\\phi_{i+1} \\ (w) = K\\phi(w), \\text{ where } K\\phi(w) \\text{ solves } u'(K\\phi(w)) - \\beta u'(\\phi_{i}(w - K\\phi(w)) = 0$$\n",
    "6. Stop when, $|\\phi_{i+1} \\ (w)-\\phi_{i}(w)|<\\varepsilon$, where $\\varepsilon$ is a small number.\n",
    "\n"
   ]
  },
  {
   "cell_type": "code",
   "execution_count": 1,
   "metadata": {
    "collapsed": true
   },
   "outputs": [],
   "source": [
    "# Import packages\n",
    "import numpy as np\n",
    "import matplotlib.pyplot as plt\n",
    "import scipy.optimize as opt\n",
    "from scipy.optimize import fminbound\n",
    "from scipy import interpolate\n",
    "\n",
    "# to print plots inline\n",
    "%matplotlib inline"
   ]
  },
  {
   "cell_type": "markdown",
   "metadata": {},
   "source": [
    "## Step 1: Set parameters and create grid for state space\n",
    "\n",
    "Parameters:\n",
    "* $\\beta$ = rate of time preference\n",
    "* $\\sigma$ = coefficient of relative risk aversion (if $\\sigma = 1$, $u(c)=log(c)$), parameter describes the curvature of the utility function"
   ]
  },
  {
   "cell_type": "code",
   "execution_count": 2,
   "metadata": {
    "collapsed": true
   },
   "outputs": [],
   "source": [
    "beta = 0.95\n",
    "sigma = 1.0\n",
    "R = 1\n",
    "\n",
    "'''\n",
    "------------------------------------------------------------------------\n",
    "Create Grid for State Space    \n",
    "------------------------------------------------------------------------\n",
    "lb_w      = scalar, lower bound of cake grid\n",
    "ub_w      = scalar, upper bound of cake grid \n",
    "size_w    = integer, number of grid points in cake state space\n",
    "w_grid    = vector, size_w x 1 vector of cake grid points \n",
    "------------------------------------------------------------------------\n",
    "'''\n",
    "lb_w = 0.4 \n",
    "ub_w = 2.0 \n",
    "size_w = 200  # Number of grid points\n",
    "w_grid = np.linspace(lb_w, ub_w, size_w)"
   ]
  },
  {
   "cell_type": "markdown",
   "metadata": {},
   "source": [
    "## Step 2: Create functions to use in solution"
   ]
  },
  {
   "cell_type": "code",
   "execution_count": 3,
   "metadata": {
    "collapsed": true
   },
   "outputs": [],
   "source": [
    "def utility(w, wprime, sigma, R):\n",
    "    \"\"\"\n",
    "    Per period utility function\n",
    "    \"\"\"\n",
    "    C = w - wprime / R\n",
    "    try:\n",
    "        C[C<=0] = 1e-10 # replace 0 and negative consumption with a tiny value - to impose non-negativity on cons\n",
    "    except TypeError:\n",
    "        if C <= 0:\n",
    "            C = 1e-10\n",
    "    if sigma == 1:\n",
    "        U = np.log(C)\n",
    "    else:\n",
    "        U = (C ** (1 - sigma)) / (1 - sigma)\n",
    "    \n",
    "    return U\n",
    "\n",
    "\n",
    "def u_prime(C, sigma):\n",
    "    MU = C ** - sigma\n",
    "    try:\n",
    "        MU[C<=0] = 999999999 # replace 0 and negative consumption with a tiny value - to impose non-negativity on cons\n",
    "    except TypeError:\n",
    "        if C <= 0:\n",
    "            MU = 999999999\n",
    "    \n",
    "    return MU"
   ]
  },
  {
   "cell_type": "code",
   "execution_count": 4,
   "metadata": {
    "collapsed": true
   },
   "outputs": [],
   "source": [
    "def coleman_operator(phi, w_grid, params):\n",
    "    '''\n",
    "    The Coleman operator, which takes an existing guess phi of the\n",
    "    optimal consumption policy and computes and returns the updated function\n",
    "    Kphi on the grid points.\n",
    "    '''\n",
    "    beta, sigma = params\n",
    "    \n",
    "    # === Apply linear interpolation to phi === #\n",
    "    phi_func = interpolate.interp1d(w_grid, phi, fill_value='extrapolate')\n",
    "\n",
    "    # == Initialize Kphi if necessary == #\n",
    "    Kphi = np.empty_like(phi)\n",
    "\n",
    "    # == solve for updated consumption value\n",
    "    for i, w in enumerate(w_grid):\n",
    "        def h(c):\n",
    "            return u_prime(c, sigma) - beta * u_prime(phi_func(R * (w - c)), sigma)\n",
    "        results = opt.root(h, 1e-10)\n",
    "        c_star = results.x[0]\n",
    "        Kphi[i] = c_star\n",
    "        \n",
    "    return Kphi"
   ]
  },
  {
   "cell_type": "markdown",
   "metadata": {},
   "source": [
    "## Step 3: Policy Function Iteration"
   ]
  },
  {
   "cell_type": "code",
   "execution_count": 5,
   "metadata": {},
   "outputs": [
    {
     "name": "stdout",
     "output_type": "stream",
     "text": [
      "Iteration  1  distance =  0.974358974359\n",
      "Iteration  2  distance =  0.324501674195\n",
      "Iteration  3  distance =  0.16203762969\n",
      "Iteration  4  distance =  0.0970523254989\n",
      "Iteration  5  distance =  0.0645600085751\n",
      "Iteration  6  distance =  0.0459933203689\n",
      "Iteration  7  distance =  0.0343895008541\n",
      "Iteration  8  distance =  0.0266539894246\n",
      "Iteration  9  distance =  0.0212395051654\n",
      "Iteration  10  distance =  0.0173020760437\n",
      "Iteration  11  distance =  0.0143493844078\n",
      "Iteration  12  distance =  0.0120784649112\n",
      "Iteration  13  distance =  0.0102945534774\n",
      "Iteration  14  distance =  0.00886780674903\n",
      "Iteration  15  distance =  0.00770895678064\n",
      "Iteration  16  distance =  0.00675499027182\n",
      "Iteration  17  distance =  0.00596039698917\n",
      "Iteration  18  distance =  0.00529164245603\n",
      "Iteration  19  distance =  0.00472357520273\n",
      "Iteration  20  distance =  0.00423703160199\n",
      "Iteration  21  distance =  0.00381720280391\n",
      "Iteration  22  distance =  0.0034524986927\n",
      "Iteration  23  distance =  0.00313374319088\n",
      "Iteration  24  distance =  0.00285359488018\n",
      "Iteration  25  distance =  0.00260612361054\n",
      "Iteration  26  distance =  0.00238649687875\n",
      "Iteration  27  distance =  0.00219074461396\n",
      "Iteration  28  distance =  0.00201558074031\n",
      "Iteration  29  distance =  0.00185826637644\n",
      "Iteration  30  distance =  0.00171650392654\n",
      "Iteration  31  distance =  0.00158835434027\n",
      "Iteration  32  distance =  0.00147217192461\n",
      "Iteration  33  distance =  0.00136655257786\n",
      "Iteration  34  distance =  0.00127029237779\n",
      "Iteration  35  distance =  0.00118235422306\n",
      "Iteration  36  distance =  0.00110184078638\n",
      "Iteration  37  distance =  0.0010279724509\n",
      "Iteration  38  distance =  0.000960069207321\n",
      "Iteration  39  distance =  0.0008975357197\n",
      "Iteration  40  distance =  0.000839848941505\n",
      "Iteration  41  distance =  0.000786547796272\n",
      "Iteration  42  distance =  0.000737224538479\n",
      "Iteration  43  distance =  0.000691517489332\n",
      "Iteration  44  distance =  0.000649104902848\n",
      "Iteration  45  distance =  0.000609699765668\n",
      "Iteration  46  distance =  0.000573045371637\n",
      "Iteration  47  distance =  0.00053891154196\n",
      "Iteration  48  distance =  0.000507091385519\n",
      "Iteration  49  distance =  0.000477398512887\n",
      "Iteration  50  distance =  0.000449664632824\n",
      "Iteration  51  distance =  0.000423737472408\n",
      "Iteration  52  distance =  0.000399478971895\n",
      "Iteration  53  distance =  0.000376763713591\n",
      "Iteration  54  distance =  0.000355477550676\n",
      "Iteration  55  distance =  0.000335516407408\n",
      "Iteration  56  distance =  0.000316785226571\n",
      "Iteration  57  distance =  0.000299197043914\n",
      "Iteration  58  distance =  0.000282672172303\n",
      "Iteration  59  distance =  0.00026713748094\n",
      "Iteration  60  distance =  0.000252525757172\n",
      "Iteration  61  distance =  0.000238775140234\n",
      "Iteration  62  distance =  0.000225828617753\n",
      "Iteration  63  distance =  0.000213633577176\n",
      "Iteration  64  distance =  0.00020214140535\n",
      "Iteration  65  distance =  0.000191307130402\n",
      "Iteration  66  distance =  0.000181089100868\n",
      "Iteration  67  distance =  0.000171448697684\n",
      "Iteration  68  distance =  0.000162350075214\n",
      "Iteration  69  distance =  0.000153759928007\n",
      "Iteration  70  distance =  0.000145647280371\n",
      "Iteration  71  distance =  0.000137983296229\n",
      "Iteration  72  distance =  0.000130741107037\n",
      "Iteration  73  distance =  0.000123895655802\n",
      "Iteration  74  distance =  0.000117423555495\n",
      "Iteration  75  distance =  0.000111302960328\n",
      "Iteration  76  distance =  0.000105513448582\n",
      "Iteration  77  distance =  0.000100035915783\n",
      "Iteration  78  distance =  9.48524771821e-05\n",
      "Iteration  79  distance =  8.99463786291e-05\n",
      "Iteration  80  distance =  8.53019149872e-05\n",
      "Iteration  81  distance =  8.09043553902e-05\n",
      "Iteration  82  distance =  7.67398746404e-05\n",
      "Iteration  83  distance =  7.27954902108e-05\n",
      "Iteration  84  distance =  6.9059004299e-05\n",
      "Iteration  85  distance =  6.55189504836e-05\n",
      "Iteration  86  distance =  6.21645445374e-05\n",
      "Iteration  87  distance =  5.89856390748e-05\n",
      "Iteration  88  distance =  5.59726816234e-05\n",
      "Iteration  89  distance =  5.31166758796e-05\n",
      "Iteration  90  distance =  5.04091458405e-05\n",
      "Iteration  91  distance =  4.78421025736e-05\n",
      "Iteration  92  distance =  4.54080134054e-05\n",
      "Iteration  93  distance =  4.30997733196e-05\n",
      "Iteration  94  distance =  4.09106783806e-05\n",
      "Iteration  95  distance =  3.8834401043e-05\n",
      "Iteration  96  distance =  3.68649671499e-05\n",
      "Iteration  97  distance =  3.49967345262e-05\n",
      "Iteration  98  distance =  3.32243730223e-05\n",
      "Iteration  99  distance =  3.15428459004e-05\n",
      "Iteration  100  distance =  2.99473924562e-05\n",
      "Iteration  101  distance =  2.84335117888e-05\n",
      "Iteration  102  distance =  2.69969476289e-05\n",
      "Iteration  103  distance =  2.56336741439e-05\n",
      "Iteration  104  distance =  2.43398826551e-05\n",
      "Iteration  105  distance =  2.3111969195e-05\n",
      "Iteration  106  distance =  2.19465228483e-05\n",
      "Iteration  107  distance =  2.08403148189e-05\n",
      "Iteration  108  distance =  1.97902881677e-05\n",
      "Iteration  109  distance =  1.87935481927e-05\n",
      "Iteration  110  distance =  1.78473533735e-05\n",
      "Iteration  111  distance =  1.69491068835e-05\n",
      "Iteration  112  distance =  1.60963485938e-05\n",
      "Iteration  113  distance =  1.52867475611e-05\n",
      "Iteration  114  distance =  1.45180949567e-05\n",
      "Iteration  115  distance =  1.37882974095e-05\n",
      "Iteration  116  distance =  1.3095370738e-05\n",
      "Iteration  117  distance =  1.24374340435e-05\n",
      "Iteration  118  distance =  1.18127041442e-05\n",
      "Iteration  119  distance =  1.12194903267e-05\n",
      "Iteration  120  distance =  1.06561893968e-05\n",
      "Iteration  121  distance =  1.01212810088e-05\n",
      "Iteration  122  distance =  9.61332325951e-06\n",
      "Iteration  123  distance =  9.13094852542e-06\n",
      "Iteration  124  distance =  8.67285953572e-06\n",
      "Iteration  125  distance =  8.23782565987e-06\n",
      "Iteration  126  distance =  7.82467940022e-06\n",
      "Iteration  127  distance =  7.43231307923e-06\n",
      "Iteration  128  distance =  7.05967570638e-06\n",
      "Iteration  129  distance =  6.70577001498e-06\n",
      "Iteration  130  distance =  6.36964966123e-06\n",
      "Iteration  131  distance =  6.05041657431e-06\n",
      "Iteration  132  distance =  5.74721844845e-06\n",
      "Iteration  133  distance =  5.45924637077e-06\n",
      "Iteration  134  distance =  5.18573257487e-06\n",
      "Iteration  135  distance =  4.92594831518e-06\n",
      "Iteration  136  distance =  4.67920185399e-06\n",
      "Iteration  137  distance =  4.44483655464e-06\n",
      "Iteration  138  distance =  4.22222907659e-06\n",
      "Iteration  139  distance =  4.01078766513e-06\n",
      "Iteration  140  distance =  3.80995053106e-06\n",
      "Iteration  141  distance =  3.61918431503e-06\n",
      "Iteration  142  distance =  3.43798263333e-06\n",
      "Iteration  143  distance =  3.26586469879e-06\n",
      "Iteration  144  distance =  3.10237401359e-06\n",
      "Iteration  145  distance =  2.94707713067e-06\n",
      "Iteration  146  distance =  2.79956247878e-06\n",
      "Iteration  147  distance =  2.65943924938e-06\n",
      "Iteration  148  distance =  2.52633633958e-06\n",
      "Iteration  149  distance =  2.39990135163e-06\n",
      "Iteration  150  distance =  2.27979964235e-06\n",
      "Iteration  151  distance =  2.16571342274e-06\n",
      "Iteration  152  distance =  2.05734090296e-06\n",
      "Iteration  153  distance =  1.9543954817e-06\n",
      "Iteration  154  distance =  1.85660497727e-06\n",
      "Iteration  155  distance =  1.76371089798e-06\n",
      "Iteration  156  distance =  1.67546774898e-06\n",
      "Iteration  157  distance =  1.59164237659e-06\n",
      "Iteration  158  distance =  1.51201334356e-06\n",
      "Iteration  159  distance =  1.43637033823e-06\n",
      "Iteration  160  distance =  1.36451361279e-06\n",
      "Iteration  161  distance =  1.29625345031e-06\n",
      "Iteration  162  distance =  1.23140965921e-06\n",
      "Iteration  163  distance =  1.16981109279e-06\n",
      "Iteration  164  distance =  1.11129519359e-06\n",
      "Iteration  165  distance =  1.05570756134e-06\n",
      "Iteration  166  distance =  1.00290154137e-06\n",
      "Iteration  167  distance =  9.52737835555e-07\n",
      "Iteration  168  distance =  9.05084131864e-07\n",
      "Iteration  169  distance =  8.5981475284e-07\n",
      "Iteration  170  distance =  8.16810322504e-07\n",
      "Iteration  171  distance =  7.75957448976e-07\n",
      "Iteration  172  distance =  7.37148424287e-07\n",
      "Iteration  173  distance =  7.00280938307e-07\n",
      "Iteration  174  distance =  6.65257808216e-07\n",
      "Iteration  175  distance =  6.31986720359e-07\n",
      "Iteration  176  distance =  6.00379986337e-07\n",
      "Iteration  177  distance =  5.70354310336e-07\n",
      "Iteration  178  distance =  5.41830569328e-07\n",
      "Iteration  179  distance =  5.14733602963e-07\n",
      "Iteration  180  distance =  4.8899201506e-07\n",
      "Iteration  181  distance =  4.6453798519e-07\n",
      "Iteration  182  distance =  4.41307088747e-07\n"
     ]
    },
    {
     "name": "stdout",
     "output_type": "stream",
     "text": [
      "Iteration  183  distance =  4.19238126798e-07\n",
      "Iteration  184  distance =  3.98272964816e-07\n",
      "Iteration  185  distance =  3.78356378353e-07\n",
      "Iteration  186  distance =  3.59435907718e-07\n",
      "Iteration  187  distance =  3.41461719233e-07\n",
      "Iteration  188  distance =  3.24386473433e-07\n",
      "Iteration  189  distance =  3.08165200635e-07\n",
      "Iteration  190  distance =  2.92755181472e-07\n",
      "Iteration  191  distance =  2.78115834765e-07\n",
      "Iteration  192  distance =  2.64208610282e-07\n",
      "Iteration  193  distance =  2.50996886608e-07\n",
      "Iteration  194  distance =  2.38445875309e-07\n",
      "Iteration  195  distance =  2.2652252836e-07\n",
      "Iteration  196  distance =  2.15195451375e-07\n",
      "Iteration  197  distance =  2.04434821002e-07\n",
      "Iteration  198  distance =  1.9421230571e-07\n",
      "Iteration  199  distance =  1.84500991762e-07\n",
      "Iteration  200  distance =  1.75275311598e-07\n",
      "Iteration  201  distance =  1.66510976868e-07\n",
      "Iteration  202  distance =  1.58184914473e-07\n",
      "Iteration  203  distance =  1.5027520521e-07\n",
      "Iteration  204  distance =  1.42761026542e-07\n",
      "Iteration  205  distance =  1.35622597749e-07\n",
      "Iteration  206  distance =  1.28841127156e-07\n",
      "Iteration  207  distance =  1.22398763194e-07\n",
      "Iteration  208  distance =  1.16278547554e-07\n",
      "Iteration  209  distance =  1.10464369707e-07\n",
      "Iteration  210  distance =  1.0494092513e-07\n",
      "Iteration  211  distance =  9.96936749542e-08\n",
      "Iteration  212  distance =  9.47088070746e-08\n",
      "Iteration  213  distance =  8.9973200515e-08\n",
      "Iteration  214  distance =  8.54743905793e-08\n",
      "Iteration  215  distance =  8.1200535712e-08\n",
      "Iteration  216  distance =  7.71403867172e-08\n",
      "Iteration  217  distance =  7.32832572264e-08\n",
      "Iteration  218  distance =  6.96189948191e-08\n",
      "Iteration  219  distance =  6.6137955293e-08\n",
      "Iteration  220  distance =  6.28309765743e-08\n",
      "Iteration  221  distance =  5.96893546118e-08\n",
      "Iteration  222  distance =  5.67048208944e-08\n",
      "Iteration  223  distance =  5.38695202473e-08\n",
      "Iteration  224  distance =  5.11759904731e-08\n",
      "Iteration  225  distance =  4.86171424646e-08\n",
      "Iteration  226  distance =  4.61862415674e-08\n",
      "Iteration  227  distance =  4.38768898992e-08\n",
      "Iteration  228  distance =  4.16830097938e-08\n",
      "Iteration  229  distance =  3.95988271201e-08\n",
      "Iteration  230  distance =  3.7618856627e-08\n",
      "Iteration  231  distance =  3.57378876631e-08\n",
      "Iteration  232  distance =  3.39509695219e-08\n",
      "Iteration  233  distance =  3.22533997288e-08\n",
      "Iteration  234  distance =  3.06407105383e-08\n",
      "Iteration  235  distance =  2.91086575677e-08\n",
      "Iteration  236  distance =  2.76532089866e-08\n",
      "Iteration  237  distance =  2.62705344423e-08\n",
      "Iteration  238  distance =  2.49569948596e-08\n",
      "Iteration  239  distance =  2.37091336008e-08\n",
      "Iteration  240  distance =  2.25236665014e-08\n",
      "Iteration  241  distance =  2.13974737096e-08\n",
      "Iteration  242  distance =  2.03275915683e-08\n",
      "Iteration  243  distance =  1.93112043578e-08\n",
      "Iteration  244  distance =  1.83456372593e-08\n",
      "Iteration  245  distance =  1.74283491666e-08\n",
      "Iteration  246  distance =  1.6556925983e-08\n",
      "Iteration  247  distance =  1.57290746955e-08\n",
      "Iteration  248  distance =  1.49426163526e-08\n",
      "Iteration  249  distance =  1.41954813876e-08\n",
      "Iteration  250  distance =  1.34857036233e-08\n",
      "Iteration  251  distance =  1.28114150399e-08\n",
      "Iteration  252  distance =  1.21708412515e-08\n",
      "Iteration  253  distance =  1.15622964258e-08\n",
      "Iteration  254  distance =  1.09841791357e-08\n",
      "Iteration  255  distance =  1.04349679592e-08\n",
      "Iteration  256  distance =  9.913217483e-09\n",
      "Policy function converged after this many iterations: 257\n"
     ]
    }
   ],
   "source": [
    "'''\n",
    "------------------------------------------------------------------------\n",
    "Policy Function Iteration    \n",
    "------------------------------------------------------------------------\n",
    "PFtol     = scalar, tolerance required for policy function to converge\n",
    "PFdist    = scalar, distance between last two policy functions\n",
    "PFmaxiter = integer, maximum number of iterations for policy function\n",
    "phi       = vector, policy function for choice of consumption at each iteration\n",
    "PFstore   = matrix, stores phi at each iteration \n",
    "PFiter    = integer, current iteration number\n",
    "PF_params = tuple, contains parameters to pass into Coleman operator: beta, sigma\n",
    "new_phi   = vector, updated policy function after applying Coleman operator \n",
    "------------------------------------------------------------------------\n",
    "'''\n",
    "PFtol = 1e-8 \n",
    "PFdist = 7.0 \n",
    "PFmaxiter = 500 \n",
    "phi = w_grid # initial guess at policy function is to eat all cake\n",
    "PFstore = np.zeros((size_w, PFmaxiter)) #initialize PFstore array\n",
    "PFiter = 1 \n",
    "PF_params = (beta, sigma)\n",
    "while PFdist > PFtol and PFiter < PFmaxiter:\n",
    "    PFstore[:, PFiter] = phi\n",
    "    new_phi = coleman_operator(phi, w_grid, PF_params)\n",
    "    PFdist = (np.absolute(phi - new_phi)).max()\n",
    "    phi = new_phi\n",
    "    print('Iteration ', PFiter, ' distance = ', PFdist)\n",
    "    PFiter += 1\n",
    "\n",
    "if PFiter < PFmaxiter:\n",
    "    print('Policy function converged after this many iterations:', PFiter)\n",
    "else:\n",
    "    print('Policy function did not converge')            "
   ]
  },
  {
   "cell_type": "markdown",
   "metadata": {},
   "source": [
    "## Step 4: Extract decision rules from solution"
   ]
  },
  {
   "cell_type": "code",
   "execution_count": 6,
   "metadata": {
    "collapsed": true
   },
   "outputs": [],
   "source": [
    "'''\n",
    "------------------------------------------------------------------------\n",
    "Find savings policy function and value function   \n",
    "------------------------------------------------------------------------\n",
    "optC  = vector, the optimal choice of c for each c\n",
    "optW  = vector, the optimal choice of w' for each w\n",
    "VF    = vector, the \"true\" value function\n",
    "------------------------------------------------------------------------\n",
    "'''\n",
    "optC = phi # optimal consumption\n",
    "optW = R * (w_grid - optC) # solution to the savings policy function from transition equation"
   ]
  },
  {
   "cell_type": "markdown",
   "metadata": {},
   "source": [
    "## Visualize output"
   ]
  },
  {
   "cell_type": "code",
   "execution_count": 7,
   "metadata": {},
   "outputs": [
    {
     "data": {
      "text/plain": [
       "<matplotlib.figure.Figure at 0x2348c182fd0>"
      ]
     },
     "metadata": {},
     "output_type": "display_data"
    },
    {
     "data": {
      "image/png": "[encoded data removed]",
      "text/plain": [
       "<matplotlib.figure.Figure at 0x2348c182f98>"
      ]
     },
     "metadata": {},
     "output_type": "display_data"
    }
   ],
   "source": [
    "#Plot optimal consumption rule as a function of cake size\n",
    "plt.figure()\n",
    "fig, ax = plt.subplots()\n",
    "ax.plot(w_grid[1:], optC[1:], label='Consumption')\n",
    "# Now add the legend with some customizations.\n",
    "legend = ax.legend(loc='upper left', shadow=False)\n",
    "# Set the fontsize\n",
    "for label in legend.get_texts():\n",
    "    label.set_fontsize('large')\n",
    "for label in legend.get_lines():\n",
    "    label.set_linewidth(1.5)  # the legend line width\n",
    "plt.xlabel('Size of Cake')\n",
    "plt.ylabel('Optimal Consumption')\n",
    "plt.title('Policy Function, consumption - deterministic cake eating')\n",
    "plt.show()"
   ]
  },
  {
   "cell_type": "code",
   "execution_count": 8,
   "metadata": {},
   "outputs": [
    {
     "data": {
      "text/plain": [
       "<matplotlib.figure.Figure at 0x2348c1a7d30>"
      ]
     },
     "metadata": {},
     "output_type": "display_data"
    },
    {
     "data": {
      "image/png": "[encoded data removed]",
      "text/plain": [
       "<matplotlib.figure.Figure at 0x2348c1a7cf8>"
      ]
     },
     "metadata": {},
     "output_type": "display_data"
    }
   ],
   "source": [
    "#Plot cake to leave rule as a function of cake size\n",
    "plt.figure()\n",
    "fig, ax = plt.subplots()\n",
    "ax.plot(w_grid[1:], optW[1:], label='Savings')\n",
    "ax.plot(w_grid[1:], w_grid[1:], '--', label='45 degree line')\n",
    "# Now add the legend with some customizations.\n",
    "legend = ax.legend(loc='upper left', shadow=False)\n",
    "# Set the fontsize\n",
    "for label in legend.get_texts():\n",
    "    label.set_fontsize('large')\n",
    "for label in legend.get_lines():\n",
    "    label.set_linewidth(1.5)  # the legend line width\n",
    "plt.xlabel('Size of Cake')\n",
    "plt.ylabel('Optimal Savings')\n",
    "plt.title('Policy Function, savings - deterministic cake eating')\n",
    "plt.show()"
   ]
  },
  {
   "cell_type": "markdown",
   "metadata": {
    "collapsed": true
   },
   "source": [
    "## Finding approximation errors\n",
    "\n",
    "It's a little complicated (we need to do the guess and verify method), but we can show that with $\\sigma = 1.0$ (i.e., $u(c) = log(c)$), then the policy function is $w' = \\beta w$.  Knowing this, we can find the approximation error from our solution method (VFI over a discrete grid).  This errors are found as:"
   ]
  },
  {
   "cell_type": "code",
   "execution_count": 11,
   "metadata": {},
   "outputs": [
    {
     "data": {
      "image/png": "[encoded data removed]",
      "text/plain": [
       "<matplotlib.figure.Figure at 0x2348cf9a0f0>"
      ]
     },
     "metadata": {},
     "output_type": "display_data"
    }
   ],
   "source": [
    "Wprime_errors = optW - beta * w_grid\n",
    "\n",
    "# Plot policy function approximation errors\n",
    "plt.figure()\n",
    "plt.plot(w_grid[1:], Wprime_errors[1:])\n",
    "plt.xlabel('Size of Cake')\n",
    "plt.ylabel('Error')\n",
    "plt.title('VFI w prime policy function errors')\n",
    "plt.show()"
   ]
  },
  {
   "cell_type": "code",
   "execution_count": 12,
   "metadata": {},
   "outputs": [
    {
     "data": {
      "image/png": "[encoded data removed]",
      "text/plain": [
       "<matplotlib.figure.Figure at 0x2348d0473c8>"
      ]
     },
     "metadata": {},
     "output_type": "display_data"
    }
   ],
   "source": [
    "C_errors = optC - (1 - beta) * w_grid\n",
    "# Plot policy function approximation errors\n",
    "plt.figure()\n",
    "plt.plot(w_grid[1:], C_errors[1:])\n",
    "plt.xlabel('Size of Cake')\n",
    "plt.ylabel('Error')\n",
    "plt.title('VFI consumption policy function errors')\n",
    "plt.show()"
   ]
  },
  {
   "cell_type": "code",
   "execution_count": null,
   "metadata": {
    "collapsed": true
   },
   "outputs": [],
   "source": []
  }
 ],
 "metadata": {
  "kernelspec": {
   "display_name": "Python 3",
   "language": "python",
   "name": "python3"
  },
  "language_info": {
   "codemirror_mode": {
    "name": "ipython",
    "version": 3
   },
   "file_extension": ".py",
   "mimetype": "text/x-python",
   "name": "python",
   "nbconvert_exporter": "python",
   "pygments_lexer": "ipython3",
   "version": "3.6.1"
  }
 },
 "nbformat": 4,
 "nbformat_minor": 2
}
