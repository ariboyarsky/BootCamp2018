{
 "cells": [
  {
   "cell_type": "markdown",
   "metadata": {},
   "source": [
    "# The Deterministic Cake Eating Problem - Value Function Iteration with Interpolation Solution\n",
    "### by [Jason DeBacker](http://jasondebacker.com), June 2018\n",
    "This Jupyter notebook illustrates how to solve the deterministic cake eating problem using interpolation with value function iteration (VFI).\n",
    "\n",
    "## The Problem:\n",
    "\n",
    "$$V(w)=\\max_{c} u(c)+\\beta V(w'), \\forall w\\in[0,\\bar{w}]$$\n",
    "\n",
    "or, substituting in the law of motion: $w' = w - c$,\n",
    "\n",
    "$$V(w)=\\max_{0\\leq w' \\leq w}u(w-w')+\\beta V(w'), \\forall w$$\n",
    "\n",
    "The unknowns in this system are functions: The value function, $V(w)$, and the policy function, $c = \\phi(w)$ (or, equivalently, $w' = p(w)$).\n",
    "\n",
    "## The Solution:\n",
    "\n",
    "We'll solve this problem with value function iteration (VFI).  With this method, we'll use an iterative procedure to converge to a fixed point in function space, the true value function, $V(w)$.  \n",
    "\n",
    "The computational algorithm for VFI is as follows:\n",
    "\n",
    "1. Create a discrete grid of the state variable, $w$\n",
    "2. Make an initial guess at the value function, $V_{0}(w)$\n",
    "    * This will be a value for each point in the state space\n",
    "3. Perform the operation:\n",
    "$$TV(w) = \\max_{w'}u(w-w') + \\beta V_{0}(w')$$\n",
    "4. Update the guess at the value function: $V_{1}(w) = TV(w)$\n",
    "5. Repeat this process:\n",
    "$$V_{i+1} \\ (w) = TV(w) = \\max_{w'}u(w-w') + \\beta V_{i}(w)$$\n",
    "6. Stop when, $|V_{i+1} \\ (w)-V_{i}(w)|<\\varepsilon$, where $\\varepsilon$ is a small number.\n",
    "\n"
   ]
  },
  {
   "cell_type": "code",
   "execution_count": 1,
   "metadata": {
    "collapsed": true
   },
   "outputs": [],
   "source": [
    "# Import packages\n",
    "import numpy as np\n",
    "import matplotlib.pyplot as plt\n",
    "from scipy import interpolate\n",
    "from scipy.optimize import fminbound\n",
    "import scipy.optimize as opt\n",
    "\n",
    "# to print plots inline\n",
    "%matplotlib inline"
   ]
  },
  {
   "cell_type": "markdown",
   "metadata": {},
   "source": [
    "## Step 1: Set parameters and create grid for state space\n",
    "\n",
    "Parameters:\n",
    "* $\\beta$ = rate of time preference\n",
    "* $\\sigma$ = coefficient of relative risk aversion (if $\\sigma = 1$, $u(c)=log(c)$), parameter describes the curvature of the utility function"
   ]
  },
  {
   "cell_type": "code",
   "execution_count": 2,
   "metadata": {
    "collapsed": true
   },
   "outputs": [],
   "source": [
    "beta = 0.95\n",
    "sigma = 1.0\n",
    "R = 1.0 / beta\n",
    "\n",
    "'''\n",
    "------------------------------------------------------------------------\n",
    "Create Grid for State Space    \n",
    "------------------------------------------------------------------------\n",
    "lb_w      = scalar, lower bound of cake grid\n",
    "ub_w      = scalar, upper bound of cake grid \n",
    "size_w    = integer, number of grid points in cake state space\n",
    "w_grid    = vector, size_w x 1 vector of cake grid points \n",
    "------------------------------------------------------------------------\n",
    "'''\n",
    "lb_w = 0.1 \n",
    "ub_w = 1.0 \n",
    "size_w = 200  # Number of grid points\n",
    "w_grid = np.linspace(lb_w, ub_w, size_w)"
   ]
  },
  {
   "cell_type": "code",
   "execution_count": 3,
   "metadata": {
    "collapsed": true
   },
   "outputs": [],
   "source": [
    "def utility(w, wprime, sigma, R):\n",
    "    \"\"\"\n",
    "    Per period utility function\n",
    "    \"\"\"\n",
    "    C = w - wprime / R\n",
    "    if sigma == 1:\n",
    "        U = np.log(C)\n",
    "    else:\n",
    "        U = (C ** (1 - sigma)) / (1 - sigma)\n",
    "    return U  "
   ]
  },
  {
   "cell_type": "code",
   "execution_count": 4,
   "metadata": {
    "collapsed": true
   },
   "outputs": [],
   "source": [
    "# write Bellman operator function to help with VFI\n",
    "def bellman_operator(V, w_grid, params):\n",
    "    '''\n",
    "    The approximate Bellman operator, which computes and returns the\n",
    "    updated value function TV on the grid points.  An array to store\n",
    "    the new set of values TV is optionally supplied (to avoid having to\n",
    "    allocate new arrays at each iteration).  If supplied, any existing data in \n",
    "    Tw will be overwritten.\n",
    "    '''\n",
    "    beta, sigma, R = params\n",
    "    \n",
    "    # Apply cubic interpolation to V\n",
    "    V_func = interpolate.interp1d(w_grid, V, kind='cubic', fill_value='extrapolate')\n",
    "\n",
    "    # Initialize array for operator and policy function\n",
    "    TV = np.empty_like(V)\n",
    "    optW = np.empty_like(TV)\n",
    "\n",
    "    # == set TV[i] = max_w' { u(w,w') + beta V(w')} == #\n",
    "    for i, w in enumerate(w_grid):\n",
    "        def objective(wprime):\n",
    "            return - utility(w, wprime, sigma, R) - beta * V_func(wprime)\n",
    "        wprime_star = fminbound(objective, 1e-6, w - 1e-6)\n",
    "        optW[i] = wprime_star\n",
    "        TV[i] = - objective(wprime_star)\n",
    "    return TV, optW"
   ]
  },
  {
   "cell_type": "markdown",
   "metadata": {},
   "source": [
    "## Step 2: Value Function Iteration"
   ]
  },
  {
   "cell_type": "code",
   "execution_count": 5,
   "metadata": {},
   "outputs": [
    {
     "name": "stdout",
     "output_type": "stream",
     "text": [
      "Iteration  1 , distance =  2.30265739597\n",
      "Iteration  2 , distance =  3.47010614024\n",
      "Iteration  3 , distance =  3.66625016667\n",
      "Iteration  4 , distance =  3.68236858945\n",
      "Iteration  5 , distance =  3.63286901861\n",
      "Iteration  6 , distance =  3.55209240236\n",
      "Iteration  7 , distance =  3.45477338434\n",
      "Iteration  8 , distance =  3.34850797883\n",
      "Iteration  9 , distance =  3.23766537012\n",
      "Iteration  10 , distance =  3.12494249762\n",
      "Iteration  11 , distance =  3.01208345762\n",
      "Iteration  12 , distance =  2.90025046888\n",
      "Iteration  13 , distance =  2.79023139444\n",
      "Iteration  14 , distance =  2.68256355162\n",
      "Iteration  15 , distance =  2.5776110352\n",
      "Iteration  16 , distance =  2.47561538526\n",
      "Iteration  17 , distance =  2.37672938409\n",
      "Iteration  18 , distance =  2.28104091981\n",
      "Iteration  19 , distance =  2.18858995821\n",
      "Iteration  20 , distance =  2.09938033112\n",
      "Iteration  21 , distance =  2.0133890781\n",
      "Iteration  22 , distance =  1.93057316496\n",
      "Iteration  23 , distance =  1.85087448537\n",
      "Iteration  24 , distance =  1.77422386953\n",
      "Iteration  25 , distance =  1.70054417669\n",
      "Iteration  26 , distance =  1.62975253514\n",
      "Iteration  27 , distance =  1.56176227597\n",
      "Iteration  28 , distance =  1.49648439792\n",
      "Iteration  29 , distance =  1.43382855509\n",
      "Iteration  30 , distance =  1.37370429059\n",
      "Iteration  31 , distance =  1.31602141293\n",
      "Iteration  32 , distance =  1.26069071653\n",
      "Iteration  33 , distance =  1.20762441281\n",
      "Iteration  34 , distance =  1.15673641398\n",
      "Iteration  35 , distance =  1.10794261795\n",
      "Iteration  36 , distance =  1.06116110177\n",
      "Iteration  37 , distance =  1.01631228437\n",
      "Iteration  38 , distance =  0.973318951809\n",
      "Iteration  39 , distance =  0.932106390414\n",
      "Iteration  40 , distance =  0.892602361479\n",
      "Iteration  41 , distance =  0.85473723375\n",
      "Iteration  42 , distance =  0.818443791379\n",
      "Iteration  43 , distance =  0.783657396342\n",
      "Iteration  44 , distance =  0.750315848551\n",
      "Iteration  45 , distance =  0.718359355228\n",
      "Iteration  46 , distance =  0.687730429802\n",
      "Iteration  47 , distance =  0.658373975938\n",
      "Iteration  48 , distance =  0.630237094215\n",
      "Iteration  49 , distance =  0.603269058979\n",
      "Iteration  50 , distance =  0.577421252735\n",
      "Iteration  51 , distance =  0.552647093792\n",
      "Iteration  52 , distance =  0.528901942373\n",
      "Iteration  53 , distance =  0.506143100011\n",
      "Iteration  54 , distance =  0.48432963888\n",
      "Iteration  55 , distance =  0.463422363331\n",
      "Iteration  56 , distance =  0.443383858806\n",
      "Iteration  57 , distance =  0.424178209371\n",
      "Iteration  58 , distance =  0.40577111221\n",
      "Iteration  59 , distance =  0.388129710683\n",
      "Iteration  60 , distance =  0.371222569171\n",
      "Iteration  61 , distance =  0.355019601074\n",
      "Iteration  62 , distance =  0.339492016205\n",
      "Iteration  63 , distance =  0.324612256002\n",
      "Iteration  64 , distance =  0.310353926116\n",
      "Iteration  65 , distance =  0.296691767627\n",
      "Iteration  66 , distance =  0.283601577503\n",
      "Iteration  67 , distance =  0.271060181067\n",
      "Iteration  68 , distance =  0.259045441411\n",
      "Iteration  69 , distance =  0.247536062805\n",
      "Iteration  70 , distance =  0.236511601233\n",
      "Iteration  71 , distance =  0.225952536504\n",
      "Iteration  72 , distance =  0.215840248252\n",
      "Iteration  73 , distance =  0.206156512461\n",
      "Iteration  74 , distance =  0.196884325666\n",
      "Iteration  75 , distance =  0.188007063083\n",
      "Iteration  76 , distance =  0.179508807827\n",
      "Iteration  77 , distance =  0.171374338909\n",
      "Iteration  78 , distance =  0.163589009662\n",
      "Iteration  79 , distance =  0.156138744377\n",
      "Iteration  80 , distance =  0.149010025741\n",
      "Iteration  81 , distance =  0.142189868113\n",
      "Iteration  82 , distance =  0.135665781293\n",
      "Iteration  83 , distance =  0.12942576625\n",
      "Iteration  84 , distance =  0.123458291818\n",
      "Iteration  85 , distance =  0.117752237961\n",
      "Iteration  86 , distance =  0.11229694527\n",
      "Iteration  87 , distance =  0.10708214522\n",
      "Iteration  88 , distance =  0.102097948362\n",
      "Iteration  89 , distance =  0.0973348727107\n",
      "Iteration  90 , distance =  0.0927837804787\n",
      "Iteration  91 , distance =  0.0884358811493\n",
      "Iteration  92 , distance =  0.0842827190589\n",
      "Iteration  93 , distance =  0.0803161595114\n",
      "Iteration  94 , distance =  0.0765283767652\n",
      "Iteration  95 , distance =  0.0729118446397\n",
      "Iteration  96 , distance =  0.0694593245679\n",
      "Iteration  97 , distance =  0.0661638570692\n",
      "Iteration  98 , distance =  0.0630187540299\n",
      "Iteration  99 , distance =  0.060017575381\n",
      "Iteration  100 , distance =  0.0571541396704\n",
      "Iteration  101 , distance =  0.0544225036278\n",
      "Iteration  102 , distance =  0.0518169565113\n",
      "Iteration  103 , distance =  0.0493320120173\n",
      "Iteration  104 , distance =  0.0469624003591\n",
      "Iteration  105 , distance =  0.0447030617962\n",
      "Iteration  106 , distance =  0.042549139266\n",
      "Iteration  107 , distance =  0.0404959687427\n",
      "Iteration  108 , distance =  0.0385390723576\n",
      "Iteration  109 , distance =  0.0366741594915\n",
      "Iteration  110 , distance =  0.0348971166669\n",
      "Iteration  111 , distance =  0.0332039714884\n",
      "Iteration  112 , distance =  0.031590968555\n",
      "Iteration  113 , distance =  0.0300544719037\n",
      "Iteration  114 , distance =  0.0285910053109\n",
      "Iteration  115 , distance =  0.0271972385667\n",
      "Iteration  116 , distance =  0.0258699826623\n",
      "Iteration  117 , distance =  0.0246061856233\n",
      "Iteration  118 , distance =  0.0234029227809\n",
      "Iteration  119 , distance =  0.0222573962953\n",
      "Iteration  120 , distance =  0.021166931587\n",
      "Iteration  121 , distance =  0.0201289679854\n",
      "Iteration  122 , distance =  0.019141057667\n",
      "Iteration  123 , distance =  0.0182008588389\n",
      "Iteration  124 , distance =  0.0173061570024\n",
      "Iteration  125 , distance =  0.0164547753535\n",
      "Iteration  126 , distance =  0.0156446896065\n",
      "Iteration  127 , distance =  0.0148739485463\n",
      "Iteration  128 , distance =  0.014140688908\n",
      "Iteration  129 , distance =  0.0134431315875\n",
      "Iteration  130 , distance =  0.0127795786962\n",
      "Iteration  131 , distance =  0.0121484088141\n",
      "Iteration  132 , distance =  0.0115480722056\n",
      "Iteration  133 , distance =  0.0109770908369\n",
      "Iteration  134 , distance =  0.0104340628778\n",
      "Iteration  135 , distance =  0.00991764396591\n",
      "Iteration  136 , distance =  0.00942652047756\n",
      "Iteration  137 , distance =  0.00895954125821\n",
      "Iteration  138 , distance =  0.00851550488109\n",
      "Iteration  139 , distance =  0.00809330169795\n",
      "Iteration  140 , distance =  0.00769187417133\n",
      "Iteration  141 , distance =  0.00731021447783\n",
      "Iteration  142 , distance =  0.00694736227038\n",
      "Iteration  143 , distance =  0.0066024034065\n",
      "Iteration  144 , distance =  0.00627446590804\n",
      "Iteration  145 , distance =  0.00596271984563\n",
      "Iteration  146 , distance =  0.00566637412594\n",
      "Iteration  147 , distance =  0.00538471174465\n",
      "Iteration  148 , distance =  0.00511694779091\n",
      "Iteration  149 , distance =  0.00486243178996\n",
      "Iteration  150 , distance =  0.00462051177209\n",
      "Iteration  151 , distance =  0.00439057413411\n",
      "Iteration  152 , distance =  0.0041720304862\n",
      "Iteration  153 , distance =  0.00396432079141\n",
      "Iteration  154 , distance =  0.00376691204421\n",
      "Iteration  155 , distance =  0.00357929730384\n",
      "Iteration  156 , distance =  0.00340099431014\n",
      "Iteration  157 , distance =  0.00323154374689\n",
      "Iteration  158 , distance =  0.0030704852223\n",
      "Iteration  159 , distance =  0.0029174537957\n",
      "Iteration  160 , distance =  0.00277202732873\n",
      "Iteration  161 , distance =  0.00263382999516\n",
      "Iteration  162 , distance =  0.00250250436243\n",
      "Iteration  163 , distance =  0.00237771043511\n",
      "Iteration  164 , distance =  0.00225912484464\n",
      "Iteration  165 , distance =  0.002146440299\n",
      "Iteration  166 , distance =  0.00203936433309\n",
      "Iteration  167 , distance =  0.00193761895231\n",
      "Iteration  168 , distance =  0.00184092907485\n",
      "Iteration  169 , distance =  0.00174906507856\n",
      "Iteration  170 , distance =  0.00166177705822\n",
      "Iteration  171 , distance =  0.00157883804681\n",
      "Iteration  172 , distance =  0.00150003154097\n",
      "Iteration  173 , distance =  0.00142515253839\n",
      "Iteration  174 , distance =  0.00135401483024\n",
      "Iteration  175 , distance =  0.00128642731983\n",
      "Iteration  176 , distance =  0.0012222136636\n",
      "Iteration  177 , distance =  0.00116114893736\n",
      "Iteration  178 , distance =  0.00110316480476\n",
      "Iteration  179 , distance =  0.00104807619907\n",
      "Iteration  180 , distance =  0.000995738561258\n",
      "Iteration  181 , distance =  0.00094601427125\n",
      "Iteration  182 , distance =  0.000898773386169\n",
      "Iteration  183 , distance =  0.000853891598297\n",
      "Iteration  184 , distance =  0.000811251062942\n",
      "Iteration  185 , distance =  0.000770739883706\n",
      "Iteration  186 , distance =  0.000732187606957\n",
      "Iteration  187 , distance =  0.000695615220195\n",
      "Iteration  188 , distance =  0.000660869428231\n",
      "Iteration  189 , distance =  0.000627859399657\n",
      "Iteration  190 , distance =  0.000596498214222\n",
      "Iteration  191 , distance =  0.000566703511993\n",
      "Iteration  192 , distance =  0.000538397046952\n"
     ]
    },
    {
     "name": "stdout",
     "output_type": "stream",
     "text": [
      "Iteration  193 , distance =  0.000511504481551\n",
      "Iteration  194 , distance =  0.000486277835648\n",
      "Iteration  195 , distance =  0.000462002257933\n",
      "Iteration  196 , distance =  0.000438938600354\n",
      "Iteration  197 , distance =  0.000417026357127\n",
      "Iteration  198 , distance =  0.000396208043455\n",
      "Iteration  199 , distance =  0.000376429044479\n",
      "Iteration  200 , distance =  0.000357637472163\n",
      "Iteration  201 , distance =  0.000339784029109\n",
      "Iteration  202 , distance =  0.000322821879209\n",
      "Iteration  203 , distance =  0.000306706524725\n",
      "Iteration  204 , distance =  0.000291395689572\n",
      "Iteration  205 , distance =  0.000276849208362\n",
      "Iteration  206 , distance =  0.000263028921012\n",
      "Iteration  207 , distance =  0.000249898572733\n",
      "Iteration  208 , distance =  0.000237423718687\n",
      "Iteration  209 , distance =  0.000225571633848\n",
      "Iteration  210 , distance =  0.000214311226983\n",
      "Iteration  211 , distance =  0.00020361295914\n",
      "Iteration  212 , distance =  0.000193448766126\n",
      "Iteration  213 , distance =  0.000183791984895\n",
      "Iteration  214 , distance =  0.000174617283506\n",
      "Iteration  215 , distance =  0.000165900594894\n",
      "Iteration  216 , distance =  0.000157619053411\n",
      "Iteration  217 , distance =  0.000149750935066\n",
      "Iteration  218 , distance =  0.000142275600382\n",
      "Iteration  219 , distance =  0.000135173440412\n",
      "Iteration  220 , distance =  0.000128425825096\n",
      "Iteration  221 , distance =  0.000122015054544\n",
      "Iteration  222 , distance =  0.000115924312524\n",
      "Iteration  223 , distance =  0.000110137622329\n",
      "Iteration  224 , distance =  0.000104639804931\n",
      "Iteration  225 , distance =  9.94164390562e-05\n",
      "Iteration  226 , distance =  9.44538234364e-05\n",
      "Iteration  227 , distance =  8.97389408578e-05\n",
      "Iteration  228 , distance =  8.52594239547e-05\n",
      "Iteration  229 , distance =  8.10035227659e-05\n",
      "Iteration  230 , distance =  7.69600739972e-05\n",
      "Iteration  231 , distance =  7.31184716187e-05\n",
      "Iteration  232 , distance =  6.94686391682e-05\n",
      "Iteration  233 , distance =  6.60010031339e-05\n",
      "Iteration  234 , distance =  6.2706468043e-05\n",
      "Iteration  235 , distance =  5.95763924451e-05\n",
      "Iteration  236 , distance =  5.6602566346e-05\n",
      "Iteration  237 , distance =  5.37771895779e-05\n",
      "Iteration  238 , distance =  5.10928514359e-05\n",
      "Iteration  239 , distance =  4.85425111236e-05\n",
      "Iteration  240 , distance =  4.61194793644e-05\n",
      "Iteration  241 , distance =  4.3817400865e-05\n",
      "Iteration  242 , distance =  4.1630237547e-05\n",
      "Iteration  243 , distance =  3.95522528152e-05\n",
      "Iteration  244 , distance =  3.75779964656e-05\n",
      "Iteration  245 , distance =  3.57022903472e-05\n",
      "Iteration  246 , distance =  3.39202147757e-05\n",
      "Iteration  247 , distance =  3.22270958009e-05\n",
      "Iteration  248 , distance =  3.06184927013e-05\n",
      "Iteration  249 , distance =  2.90901864304e-05\n",
      "Iteration  250 , distance =  2.76381686888e-05\n",
      "Iteration  251 , distance =  2.62586311521e-05\n",
      "Iteration  252 , distance =  2.49479556231e-05\n",
      "Iteration  253 , distance =  2.37027046097e-05\n",
      "Iteration  254 , distance =  2.25196122017e-05\n",
      "Iteration  255 , distance =  2.13955754447e-05\n",
      "Iteration  256 , distance =  2.03276464106e-05\n",
      "Iteration  257 , distance =  1.93130242252e-05\n",
      "Iteration  258 , distance =  1.83490479486e-05\n",
      "Iteration  259 , distance =  1.74331893419e-05\n",
      "Iteration  260 , distance =  1.65630464863e-05\n",
      "Iteration  261 , distance =  1.57363373461e-05\n",
      "Iteration  262 , distance =  1.49508937994e-05\n",
      "Iteration  263 , distance =  1.4204655912e-05\n",
      "Iteration  264 , distance =  1.34956666216e-05\n",
      "Iteration  265 , distance =  1.28220666227e-05\n",
      "Iteration  266 , distance =  1.21820893355e-05\n",
      "Iteration  267 , distance =  1.15740563729e-05\n",
      "Iteration  268 , distance =  1.09963732058e-05\n",
      "Iteration  269 , distance =  1.0447524815e-05\n",
      "Iteration  270 , distance =  9.92607186845e-06\n",
      "Iteration  271 , distance =  9.43064686965e-06\n",
      "Iteration  272 , distance =  8.95995061967e-06\n",
      "Iteration  273 , distance =  8.51274867841e-06\n",
      "Iteration  274 , distance =  8.08786835194e-06\n",
      "Iteration  275 , distance =  7.68419536712e-06\n",
      "Iteration  276 , distance =  7.30067117161e-06\n",
      "Iteration  277 , distance =  6.93628999215e-06\n",
      "Iteration  278 , distance =  6.5900963051e-06\n",
      "Iteration  279 , distance =  6.26118226421e-06\n",
      "Iteration  280 , distance =  5.94868534165e-06\n",
      "Iteration  281 , distance =  5.65178602585e-06\n",
      "Iteration  282 , distance =  5.36970578935e-06\n",
      "Iteration  283 , distance =  5.10170494294e-06\n",
      "Iteration  284 , distance =  4.84708070303e-06\n",
      "Iteration  285 , distance =  4.60516534417e-06\n",
      "Iteration  286 , distance =  4.37532453645e-06\n",
      "Iteration  287 , distance =  4.1569555691e-06\n",
      "Iteration  288 , distance =  3.94948581572e-06\n",
      "Iteration  289 , distance =  3.7523712848e-06\n",
      "Iteration  290 , distance =  3.5650950565e-06\n",
      "Iteration  291 , distance =  3.38716607473e-06\n",
      "Iteration  292 , distance =  3.21811779713e-06\n",
      "Iteration  293 , distance =  3.05750691609e-06\n",
      "Iteration  294 , distance =  2.90491230714e-06\n",
      "Iteration  295 , distance =  2.75993386367e-06\n",
      "Iteration  296 , distance =  2.62219141689e-06\n",
      "Iteration  297 , distance =  2.4913237695e-06\n",
      "Iteration  298 , distance =  2.36698780043e-06\n",
      "Iteration  299 , distance =  2.24885751265e-06\n",
      "Iteration  300 , distance =  2.13662312376e-06\n",
      "Iteration  301 , distance =  2.02999038379e-06\n",
      "Iteration  302 , distance =  1.92867967996e-06\n",
      "Iteration  303 , distance =  1.83242536878e-06\n",
      "Iteration  304 , distance =  1.74097509387e-06\n",
      "Iteration  305 , distance =  1.65408906128e-06\n",
      "Iteration  306 , distance =  1.57153945679e-06\n",
      "Iteration  307 , distance =  1.4931098633e-06\n",
      "Iteration  308 , distance =  1.41859459291e-06\n",
      "Iteration  309 , distance =  1.3477983174e-06\n",
      "Iteration  310 , distance =  1.28053540038e-06\n",
      "Iteration  311 , distance =  1.21662949937e-06\n",
      "Iteration  312 , distance =  1.15591301153e-06\n",
      "Iteration  313 , distance =  1.09822681793e-06\n",
      "Iteration  314 , distance =  1.04341964402e-06\n",
      "Iteration  315 , distance =  9.91347775425e-07\n",
      "Iteration  316 , distance =  9.41874716887e-07\n",
      "Iteration  317 , distance =  8.94870751722e-07\n",
      "Iteration  318 , distance =  8.50212629189e-07\n",
      "Iteration  319 , distance =  8.07783308687e-07\n",
      "Iteration  320 , distance =  7.67471519225e-07\n",
      "Iteration  321 , distance =  7.29171560465e-07\n",
      "Iteration  322 , distance =  6.9278306114e-07\n",
      "Iteration  323 , distance =  6.58210566939e-07\n",
      "Iteration  324 , distance =  6.25363526296e-07\n",
      "Iteration  325 , distance =  5.94155721956e-07\n",
      "Iteration  326 , distance =  5.6450539887e-07\n",
      "Iteration  327 , distance =  5.36334837875e-07\n",
      "Iteration  328 , distance =  5.09570128315e-07\n",
      "Iteration  329 , distance =  4.84141153834e-07\n",
      "Iteration  330 , distance =  4.59981222889e-07\n",
      "Iteration  331 , distance =  4.37027040334e-07\n",
      "Iteration  332 , distance =  4.15218380567e-07\n",
      "Iteration  333 , distance =  3.9449808753e-07\n",
      "Iteration  334 , distance =  3.74811833126e-07\n",
      "Iteration  335 , distance =  3.56108060373e-07\n",
      "Iteration  336 , distance =  3.3833768498e-07\n",
      "Iteration  337 , distance =  3.21454109553e-07\n",
      "Iteration  338 , distance =  3.05413109913e-07\n",
      "Iteration  339 , distance =  2.90172636142e-07\n",
      "Iteration  340 , distance =  2.75692741525e-07\n",
      "Iteration  341 , distance =  2.61935426238e-07\n",
      "Iteration  342 , distance =  2.48864665764e-07\n",
      "Iteration  343 , distance =  2.36446197732e-07\n",
      "Iteration  344 , distance =  2.24647450864e-07\n",
      "Iteration  345 , distance =  2.13437488128e-07\n",
      "Iteration  346 , distance =  2.0278696411e-07\n",
      "Iteration  347 , distance =  1.92667926058e-07\n",
      "Iteration  348 , distance =  1.83053856517e-07\n",
      "Iteration  349 , distance =  1.73919559643e-07\n",
      "Iteration  350 , distance =  1.65241075933e-07\n",
      "Iteration  351 , distance =  1.56995682232e-07\n",
      "Iteration  352 , distance =  1.49161763829e-07\n",
      "Iteration  353 , distance =  1.41718757618e-07\n",
      "Iteration  354 , distance =  1.34647166306e-07\n",
      "Iteration  355 , distance =  1.2792850157e-07\n",
      "Iteration  356 , distance =  1.21545070897e-07\n",
      "Iteration  357 , distance =  1.15480204954e-07\n",
      "Iteration  358 , distance =  1.09717959162e-07\n",
      "Iteration  359 , distance =  1.04243270016e-07\n",
      "Iteration  360 , distance =  9.90417845514e-08\n",
      "Iteration  361 , distance =  9.40998461374e-08\n",
      "Iteration  362 , distance =  8.94045228961e-08\n",
      "Iteration  363 , distance =  8.49435082273e-08\n",
      "Iteration  364 , distance =  8.07050781759e-08\n",
      "Iteration  365 , distance =  7.66781340644e-08\n",
      "Iteration  366 , distance =  7.28521740712e-08\n",
      "Iteration  367 , distance =  6.92171084893e-08\n",
      "Iteration  368 , distance =  6.5763430257e-08\n",
      "Iteration  369 , distance =  6.24821012707e-08\n",
      "Iteration  370 , distance =  5.93644813307e-08\n",
      "Iteration  371 , distance =  5.6402456039e-08\n",
      "Iteration  372 , distance =  5.35882378472e-08\n",
      "Iteration  373 , distance =  5.09144086891e-08\n",
      "Iteration  374 , distance =  4.83740336676e-08\n",
      "Iteration  375 , distance =  4.59604194702e-08\n",
      "Iteration  376 , distance =  4.36672280557e-08\n"
     ]
    },
    {
     "name": "stdout",
     "output_type": "stream",
     "text": [
      "Iteration  377 , distance =  4.14884624433e-08\n",
      "Iteration  378 , distance =  3.94184098695e-08\n",
      "Iteration  379 , distance =  3.74516702095e-08\n",
      "Iteration  380 , distance =  3.55830565013e-08\n",
      "Iteration  381 , distance =  3.3807666e-08\n",
      "Iteration  382 , distance =  3.2120865967e-08\n",
      "Iteration  383 , distance =  3.05182510374e-08\n",
      "Iteration  384 , distance =  2.89955863764e-08\n",
      "Iteration  385 , distance =  2.75489071555e-08\n",
      "Iteration  386 , distance =  2.61744048657e-08\n",
      "Iteration  387 , distance =  2.48684841608e-08\n",
      "Iteration  388 , distance =  2.36277344356e-08\n",
      "Iteration  389 , distance =  2.24488871936e-08\n",
      "Iteration  390 , distance =  2.13288586792e-08\n",
      "Iteration  391 , distance =  2.02647214564e-08\n",
      "Iteration  392 , distance =  1.92536759869e-08\n",
      "Iteration  393 , distance =  1.82930648407e-08\n",
      "Iteration  394 , distance =  1.73804011183e-08\n",
      "Iteration  395 , distance =  1.65132831853e-08\n",
      "Iteration  396 , distance =  1.56894088832e-08\n",
      "Iteration  397 , distance =  1.49066607946e-08\n",
      "Iteration  398 , distance =  1.4162949924e-08\n",
      "Iteration  399 , distance =  1.34563293841e-08\n",
      "Iteration  400 , distance =  1.27849801856e-08\n",
      "Iteration  401 , distance =  1.21471543935e-08\n",
      "Iteration  402 , distance =  1.1541146705e-08\n",
      "Iteration  403 , distance =  1.09653370828e-08\n",
      "Iteration  404 , distance =  1.04182902305e-08\n",
      "Iteration  405 , distance =  9.89851400846e-09\n",
      "Value function converged after this many iterations: 406\n"
     ]
    }
   ],
   "source": [
    "'''\n",
    "------------------------------------------------------------------------\n",
    "Value Function Iteration    \n",
    "------------------------------------------------------------------------\n",
    "VFtol     = scalar, tolerance required for value function to converge\n",
    "VFdist    = scalar, distance between last two value functions\n",
    "VFmaxiter = integer, maximum number of iterations for value function\n",
    "V         = vector, the value functions at each iteration\n",
    "Vmat      = matrix, the value for each possible combination of w and w'\n",
    "Vstore    = matrix, stores V at each iteration \n",
    "VFiter    = integer, current iteration number\n",
    "V_params  = tuple, contains parameters to pass into Belman operator: beta, sigma\n",
    "TV        = vector, the value function after applying the Bellman operator\n",
    "PF        = vector, indicies of choices of w' for all w \n",
    "VF        = vector, the \"true\" value function\n",
    "------------------------------------------------------------------------\n",
    "'''\n",
    "VFtol = 1e-8 \n",
    "VFdist = 7.0 \n",
    "VFmaxiter = 500 \n",
    "V = np.zeros(size_w)#true_VF # initial guess at value function\n",
    "Vstore = np.zeros((size_w, VFmaxiter)) #initialize Vstore array\n",
    "VFiter = 1 \n",
    "V_params = (beta, sigma, R)\n",
    "while VFdist > VFtol and VFiter < VFmaxiter:\n",
    "    Vstore[:, VFiter] = V\n",
    "    TV, optW = bellman_operator(V, w_grid, V_params)\n",
    "#     TV, optW = bellman_operator2(V, w_grid, beta, sigma)\n",
    "    VFdist = (np.absolute(V - TV)).max()  # check distance\n",
    "    print('Iteration ', VFiter, ', distance = ', VFdist)\n",
    "    V = TV\n",
    "    VFiter += 1\n",
    "\n",
    "if VFiter < VFmaxiter:\n",
    "    print('Value function converged after this many iterations:', VFiter)\n",
    "else:\n",
    "    print('Value function did not converge')            \n",
    "\n",
    "\n",
    "VF = V # solution to the functional equation"
   ]
  },
  {
   "cell_type": "markdown",
   "metadata": {},
   "source": [
    "## Step 3: Extract decision rules from solution"
   ]
  },
  {
   "cell_type": "code",
   "execution_count": 66,
   "metadata": {
    "collapsed": true
   },
   "outputs": [],
   "source": [
    "'''\n",
    "------------------------------------------------------------------------\n",
    "Find consumption and savings policy functions   \n",
    "------------------------|------------------------------------------------\n",
    "optC  = vector, the optimal choice of c for each c\n",
    "------------------------------------------------------------------------\n",
    "'''\n",
    "optC = w_grid - optW / R # optimal consumption - get consumption through the transition eqn"
   ]
  },
  {
   "cell_type": "markdown",
   "metadata": {},
   "source": [
    "## Visualize output"
   ]
  },
  {
   "cell_type": "code",
   "execution_count": 7,
   "metadata": {},
   "outputs": [
    {
     "data": {
      "image/png": "[encoded data removed]",
      "text/plain": [
       "<matplotlib.figure.Figure at 0x19b249350f0>"
      ]
     },
     "metadata": {},
     "output_type": "display_data"
    }
   ],
   "source": [
    "# Plot value function \n",
    "plt.figure()\n",
    "plt.plot(w_grid[1:], VF[1:])\n",
    "plt.xlabel('Size of Cake')\n",
    "plt.ylabel('Value Function')\n",
    "plt.title('Value Function - deterministic cake eating')\n",
    "plt.show()"
   ]
  },
  {
   "cell_type": "code",
   "execution_count": 9,
   "metadata": {},
   "outputs": [
    {
     "data": {
      "text/plain": [
       "<matplotlib.figure.Figure at 0x19b24facb00>"
      ]
     },
     "metadata": {},
     "output_type": "display_data"
    },
    {
     "data": {
      "image/png": "[encoded data removed]",
      "text/plain": [
       "<matplotlib.figure.Figure at 0x19b24faca58>"
      ]
     },
     "metadata": {},
     "output_type": "display_data"
    }
   ],
   "source": [
    "# Plot value function at several iterations\n",
    "plt.figure()\n",
    "fig, ax = plt.subplots()\n",
    "ax.plot(w_grid, Vstore[:,0], label='1st iter')\n",
    "ax.plot(w_grid, Vstore[:,10], label='0th iter')\n",
    "ax.plot(w_grid, Vstore[:,20], label='20th iter')\n",
    "ax.plot(w_grid, Vstore[:,30], label='30th iter')\n",
    "ax.plot(w_grid, Vstore[:,40], label='40th iter')\n",
    "ax.plot(w_grid, Vstore[:,VFiter-1], 'k', label='Last iter')\n",
    "# Now add the legend with some customizations.\n",
    "legend = ax.legend(loc='lower right', shadow=False)\n",
    "# Set the fontsize\n",
    "for label in legend.get_texts():\n",
    "    label.set_fontsize('large')\n",
    "for label in legend.get_lines():\n",
    "    label.set_linewidth(1.5)  # the legend line width\n",
    "plt.xlabel('Size of Cake')\n",
    "plt.ylabel('Value Function')\n",
    "plt.title('Value Function - deterministic cake eating')\n",
    "plt.show()"
   ]
  },
  {
   "cell_type": "code",
   "execution_count": 10,
   "metadata": {},
   "outputs": [
    {
     "ename": "NameError",
     "evalue": "name 'optC' is not defined",
     "output_type": "error",
     "traceback": [
      "\u001b[1;31m---------------------------------------------------------------------------\u001b[0m",
      "\u001b[1;31mNameError\u001b[0m                                 Traceback (most recent call last)",
      "\u001b[1;32m<ipython-input-10-0cbd1d282553>\u001b[0m in \u001b[0;36m<module>\u001b[1;34m()\u001b[0m\n\u001b[0;32m      2\u001b[0m \u001b[0mplt\u001b[0m\u001b[1;33m.\u001b[0m\u001b[0mfigure\u001b[0m\u001b[1;33m(\u001b[0m\u001b[1;33m)\u001b[0m\u001b[1;33m\u001b[0m\u001b[0m\n\u001b[0;32m      3\u001b[0m \u001b[0mfig\u001b[0m\u001b[1;33m,\u001b[0m \u001b[0max\u001b[0m \u001b[1;33m=\u001b[0m \u001b[0mplt\u001b[0m\u001b[1;33m.\u001b[0m\u001b[0msubplots\u001b[0m\u001b[1;33m(\u001b[0m\u001b[1;33m)\u001b[0m\u001b[1;33m\u001b[0m\u001b[0m\n\u001b[1;32m----> 4\u001b[1;33m \u001b[0max\u001b[0m\u001b[1;33m.\u001b[0m\u001b[0mplot\u001b[0m\u001b[1;33m(\u001b[0m\u001b[0mw_grid\u001b[0m\u001b[1;33m[\u001b[0m\u001b[1;36m1\u001b[0m\u001b[1;33m:\u001b[0m\u001b[1;33m]\u001b[0m\u001b[1;33m,\u001b[0m \u001b[0moptC\u001b[0m\u001b[1;33m[\u001b[0m\u001b[1;36m1\u001b[0m\u001b[1;33m:\u001b[0m\u001b[1;33m]\u001b[0m\u001b[1;33m,\u001b[0m \u001b[0mlabel\u001b[0m\u001b[1;33m=\u001b[0m\u001b[1;34m'Consumption'\u001b[0m\u001b[1;33m)\u001b[0m\u001b[1;33m\u001b[0m\u001b[0m\n\u001b[0m\u001b[0;32m      5\u001b[0m \u001b[1;31m# Now add the legend with some customizations.\u001b[0m\u001b[1;33m\u001b[0m\u001b[1;33m\u001b[0m\u001b[0m\n\u001b[0;32m      6\u001b[0m \u001b[0mlegend\u001b[0m \u001b[1;33m=\u001b[0m \u001b[0max\u001b[0m\u001b[1;33m.\u001b[0m\u001b[0mlegend\u001b[0m\u001b[1;33m(\u001b[0m\u001b[0mloc\u001b[0m\u001b[1;33m=\u001b[0m\u001b[1;34m'upper left'\u001b[0m\u001b[1;33m,\u001b[0m \u001b[0mshadow\u001b[0m\u001b[1;33m=\u001b[0m\u001b[1;32mFalse\u001b[0m\u001b[1;33m)\u001b[0m\u001b[1;33m\u001b[0m\u001b[0m\n",
      "\u001b[1;31mNameError\u001b[0m: name 'optC' is not defined"
     ]
    },
    {
     "data": {
      "text/plain": [
       "<matplotlib.figure.Figure at 0x19b24ee7198>"
      ]
     },
     "metadata": {},
     "output_type": "display_data"
    },
    {
     "data": {
      "image/png": "[encoded data removed]",
      "text/plain": [
       "<matplotlib.figure.Figure at 0x19b24ee7c50>"
      ]
     },
     "metadata": {},
     "output_type": "display_data"
    }
   ],
   "source": [
    "#Plot optimal consumption rule as a function of cake size\n",
    "plt.figure()\n",
    "fig, ax = plt.subplots()\n",
    "ax.plot(w_grid[1:], optC[1:], label='Consumption')\n",
    "# Now add the legend with some customizations.\n",
    "legend = ax.legend(loc='upper left', shadow=False)\n",
    "# Set the fontsize\n",
    "for label in legend.get_texts():\n",
    "    label.set_fontsize('large')\n",
    "for label in legend.get_lines():\n",
    "    label.set_linewidth(1.5)  # the legend line width\n",
    "plt.xlabel('Size of Cake')\n",
    "plt.ylabel('Optimal Consumption')\n",
    "plt.title('Policy Function, consumption - deterministic cake eating')\n",
    "plt.show()"
   ]
  },
  {
   "cell_type": "code",
   "execution_count": 11,
   "metadata": {},
   "outputs": [
    {
     "data": {
      "text/plain": [
       "<matplotlib.figure.Figure at 0x19b250ac978>"
      ]
     },
     "metadata": {},
     "output_type": "display_data"
    },
    {
     "data": {
      "image/png": "[encoded data removed]",
      "text/plain": [
       "<matplotlib.figure.Figure at 0x19b250ac828>"
      ]
     },
     "metadata": {},
     "output_type": "display_data"
    }
   ],
   "source": [
    "#Plot cake to leave rule as a function of cake size\n",
    "plt.figure()\n",
    "fig, ax = plt.subplots()\n",
    "ax.plot(w_grid[1:], optW[1:], label='Savings')\n",
    "ax.plot(w_grid[1:], w_grid[1:], '--', label='45 degree line')\n",
    "# Now add the legend with some customizations.\n",
    "legend = ax.legend(loc='upper left', shadow=False)\n",
    "# Set the fontsize\n",
    "for label in legend.get_texts():\n",
    "    label.set_fontsize('large')\n",
    "for label in legend.get_lines():\n",
    "    label.set_linewidth(1.5)  # the legend line width\n",
    "plt.xlabel('Size of Cake')\n",
    "plt.ylabel('Optimal Savings')\n",
    "plt.title('Policy Function, savings - deterministic cake eating')\n",
    "plt.show()"
   ]
  },
  {
   "cell_type": "markdown",
   "metadata": {},
   "source": [
    "## Finding approximation errors\n",
    "\n",
    "It's a little complicated (we need to do the guess and verify method), but we can show that with $\\sigma = 1.0$ (i.e., $u(c) = log(c)$), then the policy function is $w' = \\beta w$.  Knowing this, we can find the approximation error from our solution method (VFI over a discrete grid).  This errors are found as:"
   ]
  },
  {
   "cell_type": "code",
   "execution_count": 12,
   "metadata": {},
   "outputs": [
    {
     "data": {
      "image/png": "[encoded data removed]",
      "text/plain": [
       "<matplotlib.figure.Figure at 0x19b250c27b8>"
      ]
     },
     "metadata": {},
     "output_type": "display_data"
    }
   ],
   "source": [
    "Wprime_errors = optW - beta * w_grid\n",
    "\n",
    "# Plot policy function approximation errors\n",
    "plt.figure()\n",
    "plt.plot(w_grid[1:], Wprime_errors[1:])\n",
    "plt.xlabel('Size of Cake')\n",
    "plt.ylabel('Error')\n",
    "plt.title('VFI w prime policy function errors')\n",
    "plt.show()"
   ]
  },
  {
   "cell_type": "code",
   "execution_count": 13,
   "metadata": {},
   "outputs": [
    {
     "ename": "NameError",
     "evalue": "name 'optC' is not defined",
     "output_type": "error",
     "traceback": [
      "\u001b[1;31m---------------------------------------------------------------------------\u001b[0m",
      "\u001b[1;31mNameError\u001b[0m                                 Traceback (most recent call last)",
      "\u001b[1;32m<ipython-input-13-1752ab27e9b9>\u001b[0m in \u001b[0;36m<module>\u001b[1;34m()\u001b[0m\n\u001b[1;32m----> 1\u001b[1;33m \u001b[0mC_errors\u001b[0m \u001b[1;33m=\u001b[0m \u001b[0moptC\u001b[0m \u001b[1;33m-\u001b[0m \u001b[1;33m(\u001b[0m\u001b[1;36m1\u001b[0m \u001b[1;33m-\u001b[0m \u001b[0mbeta\u001b[0m\u001b[1;33m)\u001b[0m \u001b[1;33m*\u001b[0m \u001b[0mw_grid\u001b[0m\u001b[1;33m\u001b[0m\u001b[0m\n\u001b[0m\u001b[0;32m      2\u001b[0m \u001b[1;31m# Plot policy function approximation errors\u001b[0m\u001b[1;33m\u001b[0m\u001b[1;33m\u001b[0m\u001b[0m\n\u001b[0;32m      3\u001b[0m \u001b[0mplt\u001b[0m\u001b[1;33m.\u001b[0m\u001b[0mfigure\u001b[0m\u001b[1;33m(\u001b[0m\u001b[1;33m)\u001b[0m\u001b[1;33m\u001b[0m\u001b[0m\n\u001b[0;32m      4\u001b[0m \u001b[0mplt\u001b[0m\u001b[1;33m.\u001b[0m\u001b[0mplot\u001b[0m\u001b[1;33m(\u001b[0m\u001b[0mw_grid\u001b[0m\u001b[1;33m[\u001b[0m\u001b[1;36m1\u001b[0m\u001b[1;33m:\u001b[0m\u001b[1;33m]\u001b[0m\u001b[1;33m,\u001b[0m \u001b[0mC_errors\u001b[0m\u001b[1;33m[\u001b[0m\u001b[1;36m1\u001b[0m\u001b[1;33m:\u001b[0m\u001b[1;33m]\u001b[0m\u001b[1;33m)\u001b[0m\u001b[1;33m\u001b[0m\u001b[0m\n\u001b[0;32m      5\u001b[0m \u001b[0mplt\u001b[0m\u001b[1;33m.\u001b[0m\u001b[0mxlabel\u001b[0m\u001b[1;33m(\u001b[0m\u001b[1;34m'Size of Cake'\u001b[0m\u001b[1;33m)\u001b[0m\u001b[1;33m\u001b[0m\u001b[0m\n",
      "\u001b[1;31mNameError\u001b[0m: name 'optC' is not defined"
     ]
    }
   ],
   "source": [
    "C_errors = optC - (1 - beta) * w_grid\n",
    "# Plot policy function approximation errors\n",
    "plt.figure()\n",
    "plt.plot(w_grid[1:], C_errors[1:])\n",
    "plt.xlabel('Size of Cake')\n",
    "plt.ylabel('Error')\n",
    "plt.title('VFI consumption policy function errors')\n",
    "plt.show()"
   ]
  },
  {
   "cell_type": "code",
   "execution_count": 14,
   "metadata": {},
   "outputs": [
    {
     "data": {
      "image/png": "[encoded data removed]",
      "text/plain": [
       "<matplotlib.figure.Figure at 0x19b2511bb38>"
      ]
     },
     "metadata": {},
     "output_type": "display_data"
    }
   ],
   "source": [
    "# Compute true value function if u(c)=log(c)\n",
    "B = 1 / (1 - beta)\n",
    "A = B * np.log(1 - beta) + B * B * beta * np.log(R * beta)\n",
    "true_VF = A + B * np.log(w_grid)\n",
    "VF_errors = VF - true_VF\n",
    "# Plot value function approximation errors\n",
    "plt.figure()\n",
    "plt.plot(w_grid[1:], VF_errors[1:])\n",
    "plt.xlabel('Size of Cake')\n",
    "plt.ylabel('Error')\n",
    "plt.title('Value function errors')\n",
    "plt.show()"
   ]
  },
  {
   "cell_type": "code",
   "execution_count": 15,
   "metadata": {},
   "outputs": [
    {
     "data": {
      "image/png": "[encoded data removed]",
      "text/plain": [
       "<matplotlib.figure.Figure at 0x19b25283b38>"
      ]
     },
     "metadata": {},
     "output_type": "display_data"
    }
   ],
   "source": [
    "# Plot true and found value functions\n",
    "plt.figure()\n",
    "plt.plot(w_grid[1:], VF[1:], label='Approximated VF')\n",
    "plt.plot(w_grid[1:], true_VF[1:], label='True VF')\n",
    "plt.xlabel('Size of Cake')\n",
    "plt.ylabel('Value')\n",
    "plt.title('Value functions')\n",
    "plt.legend(loc='lower right')\n",
    "plt.show()"
   ]
  },
  {
   "cell_type": "code",
   "execution_count": null,
   "metadata": {
    "collapsed": true
   },
   "outputs": [],
   "source": []
  },
  {
   "cell_type": "code",
   "execution_count": null,
   "metadata": {
    "collapsed": true
   },
   "outputs": [],
   "source": []
  }
 ],
 "metadata": {
  "kernelspec": {
   "display_name": "Python 3",
   "language": "python",
   "name": "python3"
  },
  "language_info": {
   "codemirror_mode": {
    "name": "ipython",
    "version": 3
   },
   "file_extension": ".py",
   "mimetype": "text/x-python",
   "name": "python",
   "nbconvert_exporter": "python",
   "pygments_lexer": "ipython3",
   "version": "3.6.1"
  }
 },
 "nbformat": 4,
 "nbformat_minor": 2
}
